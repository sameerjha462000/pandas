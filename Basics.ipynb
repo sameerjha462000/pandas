{
 "cells": [
  {
   "cell_type": "code",
   "execution_count": 5,
   "id": "81188809",
   "metadata": {},
   "outputs": [],
   "source": [
    "# Python is a dynamically typed language"
   ]
  },
  {
   "cell_type": "code",
   "execution_count": 7,
   "id": "36e8716e",
   "metadata": {},
   "outputs": [],
   "source": [
    "# Everything is an object\n",
    "# C++ primitives data types, \n",
    "# numerals -- int, float, boolean,\n",
    "# int, float -- unlimited\n",
    "# int a = 23 # no need to mention \n",
    "# cell"
   ]
  },
  {
   "cell_type": "code",
   "execution_count": 8,
   "id": "35ac7042",
   "metadata": {},
   "outputs": [],
   "source": [
    "a = 50"
   ]
  },
  {
   "cell_type": "code",
   "execution_count": 9,
   "id": "4cb11d43",
   "metadata": {},
   "outputs": [
    {
     "data": {
      "text/plain": [
       "50"
      ]
     },
     "execution_count": 9,
     "metadata": {},
     "output_type": "execute_result"
    }
   ],
   "source": [
    "a"
   ]
  },
  {
   "cell_type": "code",
   "execution_count": 10,
   "id": "fb3fbea9",
   "metadata": {},
   "outputs": [],
   "source": [
    "a = 40000000000000000000000000000000000000000000000"
   ]
  },
  {
   "cell_type": "code",
   "execution_count": 11,
   "id": "9b4d8f6e",
   "metadata": {},
   "outputs": [
    {
     "data": {
      "text/plain": [
       "40000000000000000000000000000000000000000000000"
      ]
     },
     "execution_count": 11,
     "metadata": {},
     "output_type": "execute_result"
    }
   ],
   "source": [
    "a"
   ]
  },
  {
   "cell_type": "code",
   "execution_count": 12,
   "id": "4a2c7c17",
   "metadata": {},
   "outputs": [],
   "source": [
    "# _ formatting in python"
   ]
  },
  {
   "cell_type": "code",
   "execution_count": 13,
   "id": "08a82a95",
   "metadata": {},
   "outputs": [],
   "source": [
    "a = 50_000 # 2223"
   ]
  },
  {
   "cell_type": "code",
   "execution_count": 14,
   "id": "3a62d83a",
   "metadata": {},
   "outputs": [
    {
     "data": {
      "text/plain": [
       "50000"
      ]
     },
     "execution_count": 14,
     "metadata": {},
     "output_type": "execute_result"
    }
   ],
   "source": [
    "a"
   ]
  },
  {
   "cell_type": "code",
   "execution_count": 15,
   "id": "a07c96df",
   "metadata": {},
   "outputs": [],
   "source": [
    "# inbuilt function"
   ]
  },
  {
   "cell_type": "code",
   "execution_count": 16,
   "id": "ee091470",
   "metadata": {},
   "outputs": [
    {
     "data": {
      "text/plain": [
       "int"
      ]
     },
     "execution_count": 16,
     "metadata": {},
     "output_type": "execute_result"
    }
   ],
   "source": [
    "type(a)"
   ]
  },
  {
   "cell_type": "code",
   "execution_count": 17,
   "id": "314a73b2",
   "metadata": {},
   "outputs": [],
   "source": [
    "a = 40_000.678"
   ]
  },
  {
   "cell_type": "code",
   "execution_count": 18,
   "id": "cd7d69a5",
   "metadata": {},
   "outputs": [
    {
     "data": {
      "text/plain": [
       "40000.678"
      ]
     },
     "execution_count": 18,
     "metadata": {},
     "output_type": "execute_result"
    }
   ],
   "source": [
    "a"
   ]
  },
  {
   "cell_type": "code",
   "execution_count": 19,
   "id": "a2f90496",
   "metadata": {},
   "outputs": [
    {
     "data": {
      "text/plain": [
       "float"
      ]
     },
     "execution_count": 19,
     "metadata": {},
     "output_type": "execute_result"
    }
   ],
   "source": [
    "type(a)"
   ]
  },
  {
   "cell_type": "code",
   "execution_count": 20,
   "id": "daa4acdc",
   "metadata": {},
   "outputs": [],
   "source": [
    "# True and False\n",
    "a = True"
   ]
  },
  {
   "cell_type": "code",
   "execution_count": 21,
   "id": "8424d295",
   "metadata": {},
   "outputs": [
    {
     "data": {
      "text/plain": [
       "True"
      ]
     },
     "execution_count": 21,
     "metadata": {},
     "output_type": "execute_result"
    }
   ],
   "source": [
    "a"
   ]
  },
  {
   "cell_type": "code",
   "execution_count": 22,
   "id": "1bf48d84",
   "metadata": {},
   "outputs": [
    {
     "data": {
      "text/plain": [
       "bool"
      ]
     },
     "execution_count": 22,
     "metadata": {},
     "output_type": "execute_result"
    }
   ],
   "source": [
    "type(a)"
   ]
  },
  {
   "cell_type": "code",
   "execution_count": 23,
   "id": "23f45692",
   "metadata": {},
   "outputs": [],
   "source": [
    "a = False"
   ]
  },
  {
   "cell_type": "code",
   "execution_count": 24,
   "id": "5bf779bc",
   "metadata": {},
   "outputs": [
    {
     "data": {
      "text/plain": [
       "bool"
      ]
     },
     "execution_count": 24,
     "metadata": {},
     "output_type": "execute_result"
    }
   ],
   "source": [
    "type(a)"
   ]
  },
  {
   "cell_type": "code",
   "execution_count": 25,
   "id": "cd822acd",
   "metadata": {},
   "outputs": [],
   "source": [
    "# int, float, bools"
   ]
  },
  {
   "cell_type": "code",
   "execution_count": 26,
   "id": "e86bc32e",
   "metadata": {},
   "outputs": [],
   "source": [
    "# conditionals"
   ]
  },
  {
   "cell_type": "code",
   "execution_count": 27,
   "id": "1db17bb2",
   "metadata": {},
   "outputs": [],
   "source": [
    "# equality == (values equal)\n",
    "# is operator (memory location)\n",
    "a = 4000\n",
    "b = 4000.00"
   ]
  },
  {
   "cell_type": "code",
   "execution_count": 28,
   "id": "4dcdef9b",
   "metadata": {},
   "outputs": [
    {
     "data": {
      "text/plain": [
       "int"
      ]
     },
     "execution_count": 28,
     "metadata": {},
     "output_type": "execute_result"
    }
   ],
   "source": [
    "type(a)"
   ]
  },
  {
   "cell_type": "code",
   "execution_count": 29,
   "id": "35f72b6b",
   "metadata": {},
   "outputs": [
    {
     "data": {
      "text/plain": [
       "float"
      ]
     },
     "execution_count": 29,
     "metadata": {},
     "output_type": "execute_result"
    }
   ],
   "source": [
    "type(b)"
   ]
  },
  {
   "cell_type": "code",
   "execution_count": 30,
   "id": "0bc0df49",
   "metadata": {},
   "outputs": [
    {
     "data": {
      "text/plain": [
       "True"
      ]
     },
     "execution_count": 30,
     "metadata": {},
     "output_type": "execute_result"
    }
   ],
   "source": [
    "a == b"
   ]
  },
  {
   "cell_type": "code",
   "execution_count": 31,
   "id": "80d28e71",
   "metadata": {},
   "outputs": [
    {
     "data": {
      "text/plain": [
       "False"
      ]
     },
     "execution_count": 31,
     "metadata": {},
     "output_type": "execute_result"
    }
   ],
   "source": [
    "a is b"
   ]
  },
  {
   "cell_type": "code",
   "execution_count": 32,
   "id": "ea15d591",
   "metadata": {},
   "outputs": [],
   "source": [
    "# built in function"
   ]
  },
  {
   "cell_type": "code",
   "execution_count": 34,
   "id": "4b60b1c5",
   "metadata": {},
   "outputs": [
    {
     "data": {
      "text/plain": [
       "'0x2310fc58750'"
      ]
     },
     "execution_count": 34,
     "metadata": {},
     "output_type": "execute_result"
    }
   ],
   "source": [
    "hex(id(a))"
   ]
  },
  {
   "cell_type": "code",
   "execution_count": 35,
   "id": "c0026051",
   "metadata": {},
   "outputs": [
    {
     "data": {
      "text/plain": [
       "'0x2310fc58290'"
      ]
     },
     "execution_count": 35,
     "metadata": {},
     "output_type": "execute_result"
    }
   ],
   "source": [
    "hex(id(b))"
   ]
  },
  {
   "cell_type": "code",
   "execution_count": 36,
   "id": "63fa9a8f",
   "metadata": {},
   "outputs": [],
   "source": [
    "# type(), id(), hex()"
   ]
  },
  {
   "cell_type": "code",
   "execution_count": 38,
   "id": "f8a912ce",
   "metadata": {},
   "outputs": [
    {
     "data": {
      "text/plain": [
       "'0xe'"
      ]
     },
     "execution_count": 38,
     "metadata": {},
     "output_type": "execute_result"
    }
   ],
   "source": [
    "hex(14)"
   ]
  },
  {
   "cell_type": "code",
   "execution_count": 41,
   "id": "d69fb598",
   "metadata": {},
   "outputs": [
    {
     "data": {
      "text/plain": [
       "40"
      ]
     },
     "execution_count": 41,
     "metadata": {},
     "output_type": "execute_result"
    }
   ],
   "source": [
    "int('40') #built in functions"
   ]
  },
  {
   "cell_type": "code",
   "execution_count": 42,
   "id": "2cdf31fa",
   "metadata": {},
   "outputs": [
    {
     "data": {
      "text/plain": [
       "40.0"
      ]
     },
     "execution_count": 42,
     "metadata": {},
     "output_type": "execute_result"
    }
   ],
   "source": [
    "float(40)"
   ]
  },
  {
   "cell_type": "code",
   "execution_count": 43,
   "id": "42b33460",
   "metadata": {},
   "outputs": [
    {
     "data": {
      "text/plain": [
       "True"
      ]
     },
     "execution_count": 43,
     "metadata": {},
     "output_type": "execute_result"
    }
   ],
   "source": [
    "bool(1)"
   ]
  },
  {
   "cell_type": "code",
   "execution_count": 44,
   "id": "c7c2e84d",
   "metadata": {},
   "outputs": [
    {
     "data": {
      "text/plain": [
       "True"
      ]
     },
     "execution_count": 44,
     "metadata": {},
     "output_type": "execute_result"
    }
   ],
   "source": [
    "bool(45.90)"
   ]
  },
  {
   "cell_type": "code",
   "execution_count": 45,
   "id": "bbcbfa34",
   "metadata": {},
   "outputs": [],
   "source": [
    "# int, float, bool, type, id, hex -- built in functions"
   ]
  },
  {
   "cell_type": "code",
   "execution_count": 46,
   "id": "f66c501c",
   "metadata": {},
   "outputs": [],
   "source": [
    "# no need to import library or module"
   ]
  },
  {
   "cell_type": "code",
   "execution_count": 47,
   "id": "bad67fea",
   "metadata": {},
   "outputs": [],
   "source": [
    "# conditions"
   ]
  },
  {
   "cell_type": "code",
   "execution_count": 48,
   "id": "6009af1d",
   "metadata": {},
   "outputs": [
    {
     "name": "stdout",
     "output_type": "stream",
     "text": [
      "My name is Khan\n"
     ]
    }
   ],
   "source": [
    "# if else\n",
    "# c++ if\n",
    "if True is True:\n",
    "    print('My name is Khan')"
   ]
  },
  {
   "cell_type": "code",
   "execution_count": 49,
   "id": "c8662be0",
   "metadata": {},
   "outputs": [
    {
     "data": {
      "text/plain": [
       "'My name is Abhishek'"
      ]
     },
     "execution_count": 49,
     "metadata": {},
     "output_type": "execute_result"
    }
   ],
   "source": [
    "'My name is Abhishek'"
   ]
  },
  {
   "cell_type": "code",
   "execution_count": 50,
   "id": "9262573d",
   "metadata": {},
   "outputs": [
    {
     "name": "stdout",
     "output_type": "stream",
     "text": [
      "world\n"
     ]
    }
   ],
   "source": [
    "a = 10\n",
    "# bare 'if'\n",
    "if a > 20:\n",
    "    print('Hello')\n",
    "print('world')"
   ]
  },
  {
   "cell_type": "code",
   "execution_count": 51,
   "id": "c9ecdde4",
   "metadata": {},
   "outputs": [
    {
     "name": "stdout",
     "output_type": "stream",
     "text": [
      "even\n"
     ]
    }
   ],
   "source": [
    "a = 10\n",
    "if a % 2 == 0:\n",
    "    # even code\n",
    "    print('even')\n",
    "else:\n",
    "    # odd code\n",
    "    print('odd')"
   ]
  },
  {
   "cell_type": "code",
   "execution_count": 56,
   "id": "74275da3",
   "metadata": {},
   "outputs": [],
   "source": [
    "# elif \n",
    "# 3 -- 0,1,2\n",
    "num = 32\n",
    "if num % 3 == 0:\n",
    "    # number is divisible by 3\n",
    "    print('3n')\n",
    "elif num % 3 == 1:\n",
    "    # number when divided by 3 gives us a remiander of 1\n",
    "    print('3n+1')\n",
    "else:\n",
    "    pass"
   ]
  },
  {
   "cell_type": "code",
   "execution_count": 58,
   "id": "eb4daf3c",
   "metadata": {},
   "outputs": [],
   "source": [
    "# ternary operator"
   ]
  },
  {
   "cell_type": "code",
   "execution_count": 59,
   "id": "a2db35cf",
   "metadata": {},
   "outputs": [],
   "source": [
    "parity = None # special type of object in python\n",
    "\n",
    "num = 30 # parity = 'even'\n",
    "\n",
    "# Not pythonic \n",
    "if num % 2 == 0:\n",
    "    parity = 'even'\n",
    "else:\n",
    "    parity = 'odd'"
   ]
  },
  {
   "cell_type": "code",
   "execution_count": 60,
   "id": "4659bb54",
   "metadata": {},
   "outputs": [
    {
     "data": {
      "text/plain": [
       "'even'"
      ]
     },
     "execution_count": 60,
     "metadata": {},
     "output_type": "execute_result"
    }
   ],
   "source": [
    "parity = 'even' if num % 2 == 0 else 'odd'"
   ]
  },
  {
   "cell_type": "code",
   "execution_count": 61,
   "id": "21320472",
   "metadata": {},
   "outputs": [],
   "source": [
    "# short circuiting"
   ]
  },
  {
   "cell_type": "code",
   "execution_count": 68,
   "id": "15cc8d56",
   "metadata": {},
   "outputs": [],
   "source": [
    "a = 50\n",
    "b = 20\n",
    "# ?\n",
    "ans = None if b == 0 else a/b"
   ]
  },
  {
   "cell_type": "code",
   "execution_count": 69,
   "id": "53a26cbb",
   "metadata": {},
   "outputs": [
    {
     "data": {
      "text/plain": [
       "2.5"
      ]
     },
     "execution_count": 69,
     "metadata": {},
     "output_type": "execute_result"
    }
   ],
   "source": [
    "ans"
   ]
  },
  {
   "cell_type": "code",
   "execution_count": 70,
   "id": "5b4e7896",
   "metadata": {},
   "outputs": [
    {
     "data": {
      "text/plain": [
       "2.5"
      ]
     },
     "execution_count": 70,
     "metadata": {},
     "output_type": "execute_result"
    }
   ],
   "source": [
    "50/20 # float division"
   ]
  },
  {
   "cell_type": "code",
   "execution_count": 71,
   "id": "1ecf8a2c",
   "metadata": {},
   "outputs": [
    {
     "data": {
      "text/plain": [
       "2"
      ]
     },
     "execution_count": 71,
     "metadata": {},
     "output_type": "execute_result"
    }
   ],
   "source": [
    "50//20 # integer division"
   ]
  },
  {
   "cell_type": "code",
   "execution_count": 73,
   "id": "163531ef",
   "metadata": {},
   "outputs": [
    {
     "data": {
      "text/plain": [
       "(10, 10, -10, -10)"
      ]
     },
     "execution_count": 73,
     "metadata": {},
     "output_type": "execute_result"
    }
   ],
   "source": [
    "50 % 20, -50 % 20, 50 % -20, -50 % -20 # compl"
   ]
  },
  {
   "cell_type": "code",
   "execution_count": null,
   "id": "93bad0a4",
   "metadata": {},
   "outputs": [],
   "source": []
  }
 ],
 "metadata": {
  "kernelspec": {
   "display_name": "Python 3 (ipykernel)",
   "language": "python",
   "name": "python3"
  },
  "language_info": {
   "codemirror_mode": {
    "name": "ipython",
    "version": 3
   },
   "file_extension": ".py",
   "mimetype": "text/x-python",
   "name": "python",
   "nbconvert_exporter": "python",
   "pygments_lexer": "ipython3",
   "version": "3.11.4"
  }
 },
 "nbformat": 4,
 "nbformat_minor": 5
}
