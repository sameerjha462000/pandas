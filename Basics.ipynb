{
 "cells": [
  {
   "cell_type": "code",
   "execution_count": 5,
   "id": "ae2e97f2",
   "metadata": {},
   "outputs": [],
   "source": [
    "# Python is a dynamically typed language"
   ]
  },
  {
   "cell_type": "code",
   "execution_count": 7,
   "id": "dba64a1b",
   "metadata": {},
   "outputs": [],
   "source": [
    "# Everything is an object\n",
    "# C++ primitives data types, \n",
    "# numerals -- int, float, boolean,\n",
    "# int, float -- unlimited\n",
    "# int a = 23 # no need to mention \n",
    "# cell"
   ]
  },
  {
   "cell_type": "code",
   "execution_count": 8,
   "id": "d970c404",
   "metadata": {},
   "outputs": [],
   "source": [
    "a = 50"
   ]
  },
  {
   "cell_type": "code",
   "execution_count": 9,
   "id": "112a30c7",
   "metadata": {},
   "outputs": [
    {
     "data": {
      "text/plain": [
       "50"
      ]
     },
     "execution_count": 9,
     "metadata": {},
     "output_type": "execute_result"
    }
   ],
   "source": [
    "a"
   ]
  },
  {
   "cell_type": "code",
   "execution_count": 10,
   "id": "f1a9d9a6",
   "metadata": {},
   "outputs": [],
   "source": [
    "a = 40000000000000000000000000000000000000000000000"
   ]
  },
  {
   "cell_type": "code",
   "execution_count": 11,
   "id": "ed43bf20",
   "metadata": {},
   "outputs": [
    {
     "data": {
      "text/plain": [
       "40000000000000000000000000000000000000000000000"
      ]
     },
     "execution_count": 11,
     "metadata": {},
     "output_type": "execute_result"
    }
   ],
   "source": [
    "a"
   ]
  },
  {
   "cell_type": "code",
   "execution_count": 12,
   "id": "bf434971",
   "metadata": {},
   "outputs": [],
   "source": [
    "# _ formatting in python"
   ]
  },
  {
   "cell_type": "code",
   "execution_count": 13,
   "id": "9af8f9b3",
   "metadata": {},
   "outputs": [],
   "source": [
    "a = 50_000 # 2223"
   ]
  },
  {
   "cell_type": "code",
   "execution_count": 14,
   "id": "b1c115ab",
   "metadata": {},
   "outputs": [
    {
     "data": {
      "text/plain": [
       "50000"
      ]
     },
     "execution_count": 14,
     "metadata": {},
     "output_type": "execute_result"
    }
   ],
   "source": [
    "a"
   ]
  },
  {
   "cell_type": "code",
   "execution_count": 15,
   "id": "9b28d35f",
   "metadata": {},
   "outputs": [],
   "source": [
    "# inbuilt function"
   ]
  },
  {
   "cell_type": "code",
   "execution_count": 16,
   "id": "5b751fb8",
   "metadata": {},
   "outputs": [
    {
     "data": {
      "text/plain": [
       "int"
      ]
     },
     "execution_count": 16,
     "metadata": {},
     "output_type": "execute_result"
    }
   ],
   "source": [
    "type(a)"
   ]
  },
  {
   "cell_type": "code",
   "execution_count": 17,
   "id": "f4938ed4",
   "metadata": {},
   "outputs": [],
   "source": [
    "a = 40_000.678"
   ]
  },
  {
   "cell_type": "code",
   "execution_count": 18,
   "id": "d2742d3e",
   "metadata": {},
   "outputs": [
    {
     "data": {
      "text/plain": [
       "40000.678"
      ]
     },
     "execution_count": 18,
     "metadata": {},
     "output_type": "execute_result"
    }
   ],
   "source": [
    "a"
   ]
  },
  {
   "cell_type": "code",
   "execution_count": 19,
   "id": "e4fc3fbe",
   "metadata": {},
   "outputs": [
    {
     "data": {
      "text/plain": [
       "float"
      ]
     },
     "execution_count": 19,
     "metadata": {},
     "output_type": "execute_result"
    }
   ],
   "source": [
    "type(a)"
   ]
  },
  {
   "cell_type": "code",
   "execution_count": 20,
   "id": "a902c705",
   "metadata": {},
   "outputs": [],
   "source": [
    "# True and False\n",
    "a = True"
   ]
  },
  {
   "cell_type": "code",
   "execution_count": 21,
   "id": "121bc01e",
   "metadata": {},
   "outputs": [
    {
     "data": {
      "text/plain": [
       "True"
      ]
     },
     "execution_count": 21,
     "metadata": {},
     "output_type": "execute_result"
    }
   ],
   "source": [
    "a"
   ]
  },
  {
   "cell_type": "code",
   "execution_count": 22,
   "id": "9f524491",
   "metadata": {},
   "outputs": [
    {
     "data": {
      "text/plain": [
       "bool"
      ]
     },
     "execution_count": 22,
     "metadata": {},
     "output_type": "execute_result"
    }
   ],
   "source": [
    "type(a)"
   ]
  },
  {
   "cell_type": "code",
   "execution_count": 23,
   "id": "86455bce",
   "metadata": {},
   "outputs": [],
   "source": [
    "a = False"
   ]
  },
  {
   "cell_type": "code",
   "execution_count": 24,
   "id": "c7547e5f",
   "metadata": {},
   "outputs": [
    {
     "data": {
      "text/plain": [
       "bool"
      ]
     },
     "execution_count": 24,
     "metadata": {},
     "output_type": "execute_result"
    }
   ],
   "source": [
    "type(a)"
   ]
  },
  {
   "cell_type": "code",
   "execution_count": 25,
   "id": "d61f79c8",
   "metadata": {},
   "outputs": [],
   "source": [
    "# int, float, bools"
   ]
  },
  {
   "cell_type": "code",
   "execution_count": 26,
   "id": "ab795081",
   "metadata": {},
   "outputs": [],
   "source": [
    "# conditionals"
   ]
  },
  {
   "cell_type": "code",
   "execution_count": 27,
   "id": "acf4b401",
   "metadata": {},
   "outputs": [],
   "source": [
    "# equality == (values equal)\n",
    "# is operator (memory location)\n",
    "a = 4000\n",
    "b = 4000.00"
   ]
  },
  {
   "cell_type": "code",
   "execution_count": 28,
   "id": "01610ed1",
   "metadata": {},
   "outputs": [
    {
     "data": {
      "text/plain": [
       "int"
      ]
     },
     "execution_count": 28,
     "metadata": {},
     "output_type": "execute_result"
    }
   ],
   "source": [
    "type(a)"
   ]
  },
  {
   "cell_type": "code",
   "execution_count": 29,
   "id": "fca6695b",
   "metadata": {},
   "outputs": [
    {
     "data": {
      "text/plain": [
       "float"
      ]
     },
     "execution_count": 29,
     "metadata": {},
     "output_type": "execute_result"
    }
   ],
   "source": [
    "type(b)"
   ]
  },
  {
   "cell_type": "code",
   "execution_count": 30,
   "id": "1f892d56",
   "metadata": {},
   "outputs": [
    {
     "data": {
      "text/plain": [
       "True"
      ]
     },
     "execution_count": 30,
     "metadata": {},
     "output_type": "execute_result"
    }
   ],
   "source": [
    "a == b"
   ]
  },
  {
   "cell_type": "code",
   "execution_count": 31,
   "id": "f0d68177",
   "metadata": {},
   "outputs": [
    {
     "data": {
      "text/plain": [
       "False"
      ]
     },
     "execution_count": 31,
     "metadata": {},
     "output_type": "execute_result"
    }
   ],
   "source": [
    "a is b"
   ]
  },
  {
   "cell_type": "code",
   "execution_count": 32,
   "id": "c5a5633f",
   "metadata": {},
   "outputs": [],
   "source": [
    "# built in function"
   ]
  },
  {
   "cell_type": "code",
   "execution_count": 34,
   "id": "5b99005d",
   "metadata": {},
   "outputs": [
    {
     "data": {
      "text/plain": [
       "'0x2310fc58750'"
      ]
     },
     "execution_count": 34,
     "metadata": {},
     "output_type": "execute_result"
    }
   ],
   "source": [
    "hex(id(a))"
   ]
  },
  {
   "cell_type": "code",
   "execution_count": 35,
   "id": "e26f9082",
   "metadata": {},
   "outputs": [
    {
     "data": {
      "text/plain": [
       "'0x2310fc58290'"
      ]
     },
     "execution_count": 35,
     "metadata": {},
     "output_type": "execute_result"
    }
   ],
   "source": [
    "hex(id(b))"
   ]
  },
  {
   "cell_type": "code",
   "execution_count": 36,
   "id": "a3079574",
   "metadata": {},
   "outputs": [],
   "source": [
    "# type(), id(), hex()"
   ]
  },
  {
   "cell_type": "code",
   "execution_count": 38,
   "id": "90b4db18",
   "metadata": {},
   "outputs": [
    {
     "data": {
      "text/plain": [
       "'0xe'"
      ]
     },
     "execution_count": 38,
     "metadata": {},
     "output_type": "execute_result"
    }
   ],
   "source": [
    "hex(14)"
   ]
  },
  {
   "cell_type": "code",
   "execution_count": 41,
   "id": "71b3b8df",
   "metadata": {},
   "outputs": [
    {
     "data": {
      "text/plain": [
       "40"
      ]
     },
     "execution_count": 41,
     "metadata": {},
     "output_type": "execute_result"
    }
   ],
   "source": [
    "int('40') #built in functions"
   ]
  },
  {
   "cell_type": "code",
   "execution_count": 42,
   "id": "52f2d4a0",
   "metadata": {},
   "outputs": [
    {
     "data": {
      "text/plain": [
       "40.0"
      ]
     },
     "execution_count": 42,
     "metadata": {},
     "output_type": "execute_result"
    }
   ],
   "source": [
    "float(40)"
   ]
  },
  {
   "cell_type": "code",
   "execution_count": 43,
   "id": "719e9278",
   "metadata": {},
   "outputs": [
    {
     "data": {
      "text/plain": [
       "True"
      ]
     },
     "execution_count": 43,
     "metadata": {},
     "output_type": "execute_result"
    }
   ],
   "source": [
    "bool(1)"
   ]
  },
  {
   "cell_type": "code",
   "execution_count": 44,
   "id": "14b94239",
   "metadata": {},
   "outputs": [
    {
     "data": {
      "text/plain": [
       "True"
      ]
     },
     "execution_count": 44,
     "metadata": {},
     "output_type": "execute_result"
    }
   ],
   "source": [
    "bool(45.90)"
   ]
  },
  {
   "cell_type": "code",
   "execution_count": 45,
   "id": "362102e5",
   "metadata": {},
   "outputs": [],
   "source": [
    "# int, float, bool, type, id, hex -- built in functions"
   ]
  },
  {
   "cell_type": "code",
   "execution_count": 46,
   "id": "2011ee49",
   "metadata": {},
   "outputs": [],
   "source": [
    "# no need to import library or module"
   ]
  },
  {
   "cell_type": "code",
   "execution_count": 47,
   "id": "289f9e82",
   "metadata": {},
   "outputs": [],
   "source": [
    "# conditions"
   ]
  },
  {
   "cell_type": "code",
   "execution_count": 48,
   "id": "663db56a",
   "metadata": {},
   "outputs": [
    {
     "name": "stdout",
     "output_type": "stream",
     "text": [
      "My name is Khan\n"
     ]
    }
   ],
   "source": [
    "# if else\n",
    "# c++ if\n",
    "if True is True:\n",
    "    print('My name is Khan')"
   ]
  },
  {
   "cell_type": "code",
   "execution_count": 49,
   "id": "71a21999",
   "metadata": {},
   "outputs": [
    {
     "data": {
      "text/plain": [
       "'My name is Abhishek'"
      ]
     },
     "execution_count": 49,
     "metadata": {},
     "output_type": "execute_result"
    }
   ],
   "source": [
    "'My name is Abhishek'"
   ]
  },
  {
   "cell_type": "code",
   "execution_count": 50,
   "id": "08a11907",
   "metadata": {},
   "outputs": [
    {
     "name": "stdout",
     "output_type": "stream",
     "text": [
      "world\n"
     ]
    }
   ],
   "source": [
    "a = 10\n",
    "# bare 'if'\n",
    "if a > 20:\n",
    "    print('Hello')\n",
    "print('world')"
   ]
  },
  {
   "cell_type": "code",
   "execution_count": 51,
   "id": "2b2679fd",
   "metadata": {},
   "outputs": [
    {
     "name": "stdout",
     "output_type": "stream",
     "text": [
      "even\n"
     ]
    }
   ],
   "source": [
    "a = 10\n",
    "if a % 2 == 0:\n",
    "    # even code\n",
    "    print('even')\n",
    "else:\n",
    "    # odd code\n",
    "    print('odd')"
   ]
  },
  {
   "cell_type": "code",
   "execution_count": 56,
   "id": "59b50799",
   "metadata": {},
   "outputs": [],
   "source": [
    "# elif \n",
    "# 3 -- 0,1,2\n",
    "num = 32\n",
    "if num % 3 == 0:\n",
    "    # number is divisible by 3\n",
    "    print('3n')\n",
    "elif num % 3 == 1:\n",
    "    # number when divided by 3 gives us a remiander of 1\n",
    "    print('3n+1')\n",
    "else:\n",
    "    pass"
   ]
  },
  {
   "cell_type": "code",
   "execution_count": 58,
   "id": "ae54e7f3",
   "metadata": {},
   "outputs": [],
   "source": [
    "# ternary operator"
   ]
  },
  {
   "cell_type": "code",
   "execution_count": 59,
   "id": "af597f38",
   "metadata": {},
   "outputs": [],
   "source": [
    "parity = None # special type of object in python\n",
    "\n",
    "num = 30 # parity = 'even'\n",
    "\n",
    "# Not pythonic \n",
    "if num % 2 == 0:\n",
    "    parity = 'even'\n",
    "else:\n",
    "    parity = 'odd'"
   ]
  },
  {
   "cell_type": "code",
   "execution_count": 60,
   "id": "ec0079f6",
   "metadata": {},
   "outputs": [
    {
     "data": {
      "text/plain": [
       "'even'"
      ]
     },
     "execution_count": 60,
     "metadata": {},
     "output_type": "execute_result"
    }
   ],
   "source": [
    "parity = 'even' if num % 2 == 0 else 'odd'"
   ]
  },
  {
   "cell_type": "code",
   "execution_count": 61,
   "id": "fd9ebd28",
   "metadata": {},
   "outputs": [],
   "source": [
    "# short circuiting"
   ]
  },
  {
   "cell_type": "code",
   "execution_count": 68,
   "id": "abee3212",
   "metadata": {},
   "outputs": [],
   "source": [
    "a = 50\n",
    "b = 20\n",
    "# ?\n",
    "ans = None if b == 0 else a/b"
   ]
  },
  {
   "cell_type": "code",
   "execution_count": 69,
   "id": "a865a3a2",
   "metadata": {},
   "outputs": [
    {
     "data": {
      "text/plain": [
       "2.5"
      ]
     },
     "execution_count": 69,
     "metadata": {},
     "output_type": "execute_result"
    }
   ],
   "source": [
    "ans"
   ]
  },
  {
   "cell_type": "code",
   "execution_count": 70,
   "id": "3eb420e6",
   "metadata": {},
   "outputs": [
    {
     "data": {
      "text/plain": [
       "2.5"
      ]
     },
     "execution_count": 70,
     "metadata": {},
     "output_type": "execute_result"
    }
   ],
   "source": [
    "50/20 # float division"
   ]
  },
  {
   "cell_type": "code",
   "execution_count": 71,
   "id": "b837a197",
   "metadata": {},
   "outputs": [
    {
     "data": {
      "text/plain": [
       "2"
      ]
     },
     "execution_count": 71,
     "metadata": {},
     "output_type": "execute_result"
    }
   ],
   "source": [
    "50//20 # integer division"
   ]
  },
  {
   "cell_type": "code",
   "execution_count": 73,
   "id": "e3329190",
   "metadata": {},
   "outputs": [
    {
     "data": {
      "text/plain": [
       "(10, 10, -10, -10)"
      ]
     },
     "execution_count": 73,
     "metadata": {},
     "output_type": "execute_result"
    }
   ],
   "source": [
    "50 % 20, -50 % 20, 50 % -20, -50 % -20 # complicated"
   ]
  },
  {
   "cell_type": "code",
   "execution_count": null,
   "id": "c4027eff",
   "metadata": {},
   "outputs": [],
   "source": []
  }
 ],
 "metadata": {
  "kernelspec": {
   "display_name": "Python 3 (ipykernel)",
   "language": "python",
   "name": "python3"
  },
  "language_info": {
   "codemirror_mode": {
    "name": "ipython",
    "version": 3
   },
   "file_extension": ".py",
   "mimetype": "text/x-python",
   "name": "python",
   "nbconvert_exporter": "python",
   "pygments_lexer": "ipython3",
   "version": "3.11.4"
  }
 },
 "nbformat": 4,
 "nbformat_minor": 5
}
