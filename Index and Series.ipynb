{
 "cells": [
  {
   "cell_type": "code",
   "execution_count": 190,
   "id": "65b49c0d",
   "metadata": {},
   "outputs": [],
   "source": [
    "import pandas as pd"
   ]
  },
  {
   "cell_type": "code",
   "execution_count": 191,
   "id": "d410d12a",
   "metadata": {},
   "outputs": [],
   "source": [
    "# Index, Series, Dataframe \n",
    "# 1, 1, 2 dimensional data structure"
   ]
  },
  {
   "cell_type": "code",
   "execution_count": 192,
   "id": "f28dc96a",
   "metadata": {},
   "outputs": [],
   "source": [
    "# Index -- is used to index another data structure in pandas\n",
    "# 'Index' is singular\n",
    "# Index ka plural -- Indices and Indexes\n",
    "# Elements of Index object are called Indices.\n",
    "# Multiple index objects would be called Indexes"
   ]
  },
  {
   "cell_type": "code",
   "execution_count": 193,
   "id": "ddf8960b",
   "metadata": {},
   "outputs": [],
   "source": [
    "# Types of Index object\n",
    "# float64, int64, RangeIndex, boolean Index"
   ]
  },
  {
   "cell_type": "code",
   "execution_count": 194,
   "id": "761c3255",
   "metadata": {},
   "outputs": [],
   "source": [
    "ind = pd.Index([1,2,3,4,5])"
   ]
  },
  {
   "cell_type": "code",
   "execution_count": 16,
   "id": "2ab7551b",
   "metadata": {},
   "outputs": [
    {
     "data": {
      "text/plain": [
       "Int64Index([1, 2, 3, 4, 5], dtype='int64')"
      ]
     },
     "execution_count": 16,
     "metadata": {},
     "output_type": "execute_result"
    }
   ],
   "source": [
    "ind"
   ]
  },
  {
   "cell_type": "code",
   "execution_count": 17,
   "id": "b730d5d9",
   "metadata": {},
   "outputs": [],
   "source": [
    "# Since pandas is built on top of Numpy"
   ]
  },
  {
   "cell_type": "code",
   "execution_count": 18,
   "id": "2bce5b42",
   "metadata": {},
   "outputs": [
    {
     "data": {
      "text/plain": [
       "1"
      ]
     },
     "execution_count": 18,
     "metadata": {},
     "output_type": "execute_result"
    }
   ],
   "source": [
    "ind.ndim"
   ]
  },
  {
   "cell_type": "code",
   "execution_count": 19,
   "id": "13be4127",
   "metadata": {},
   "outputs": [
    {
     "data": {
      "text/plain": [
       "(5,)"
      ]
     },
     "execution_count": 19,
     "metadata": {},
     "output_type": "execute_result"
    }
   ],
   "source": [
    "ind.shape# tuple return"
   ]
  },
  {
   "cell_type": "code",
   "execution_count": 20,
   "id": "e2e83248",
   "metadata": {},
   "outputs": [
    {
     "data": {
      "text/plain": [
       "5"
      ]
     },
     "execution_count": 20,
     "metadata": {},
     "output_type": "execute_result"
    }
   ],
   "source": [
    "ind.size"
   ]
  },
  {
   "cell_type": "code",
   "execution_count": 22,
   "id": "819fa316",
   "metadata": {},
   "outputs": [
    {
     "data": {
      "text/plain": [
       "pandas.core.indexes.numeric.Int64Index"
      ]
     },
     "execution_count": 22,
     "metadata": {},
     "output_type": "execute_result"
    }
   ],
   "source": [
    "type(ind)"
   ]
  },
  {
   "cell_type": "code",
   "execution_count": 23,
   "id": "54283f82",
   "metadata": {},
   "outputs": [],
   "source": [
    "# Float Index"
   ]
  },
  {
   "cell_type": "code",
   "execution_count": 24,
   "id": "64d3b5ec",
   "metadata": {},
   "outputs": [],
   "source": [
    "float_index = pd.Index([1,2,3, 4.5])"
   ]
  },
  {
   "cell_type": "code",
   "execution_count": 25,
   "id": "cd60f1f0",
   "metadata": {},
   "outputs": [
    {
     "data": {
      "text/plain": [
       "Float64Index([1.0, 2.0, 3.0, 4.5], dtype='float64')"
      ]
     },
     "execution_count": 25,
     "metadata": {},
     "output_type": "execute_result"
    }
   ],
   "source": [
    "float_index"
   ]
  },
  {
   "cell_type": "code",
   "execution_count": 26,
   "id": "2d7a1a90",
   "metadata": {},
   "outputs": [],
   "source": [
    "range_index = pd.Index(range(1,20,3))"
   ]
  },
  {
   "cell_type": "code",
   "execution_count": 27,
   "id": "7a67b37a",
   "metadata": {},
   "outputs": [
    {
     "data": {
      "text/plain": [
       "RangeIndex(start=1, stop=20, step=3)"
      ]
     },
     "execution_count": 27,
     "metadata": {},
     "output_type": "execute_result"
    }
   ],
   "source": [
    "range_index"
   ]
  },
  {
   "cell_type": "code",
   "execution_count": 28,
   "id": "e6550348",
   "metadata": {},
   "outputs": [],
   "source": [
    "range_index = pd.RangeIndex(1,20,3)"
   ]
  },
  {
   "cell_type": "code",
   "execution_count": 29,
   "id": "aa735692",
   "metadata": {},
   "outputs": [
    {
     "data": {
      "text/plain": [
       "RangeIndex(start=1, stop=20, step=3)"
      ]
     },
     "execution_count": 29,
     "metadata": {},
     "output_type": "execute_result"
    }
   ],
   "source": [
    "range_index"
   ]
  },
  {
   "cell_type": "code",
   "execution_count": 30,
   "id": "2b9e5ac8",
   "metadata": {},
   "outputs": [],
   "source": [
    "# Index objects are iterable"
   ]
  },
  {
   "cell_type": "code",
   "execution_count": 31,
   "id": "4131519c",
   "metadata": {},
   "outputs": [
    {
     "data": {
      "text/plain": [
       "Int64Index([1, 2, 3, 4, 5], dtype='int64')"
      ]
     },
     "execution_count": 31,
     "metadata": {},
     "output_type": "execute_result"
    }
   ],
   "source": [
    "ind"
   ]
  },
  {
   "cell_type": "code",
   "execution_count": 32,
   "id": "a1411d74",
   "metadata": {},
   "outputs": [
    {
     "name": "stdout",
     "output_type": "stream",
     "text": [
      "1\n",
      "2\n",
      "3\n",
      "4\n",
      "5\n"
     ]
    }
   ],
   "source": [
    "for ele in ind:\n",
    "    print(ele)"
   ]
  },
  {
   "cell_type": "code",
   "execution_count": 33,
   "id": "b906b7a1",
   "metadata": {},
   "outputs": [],
   "source": [
    "squared_ind = [ele ** 2 for ele in ind]"
   ]
  },
  {
   "cell_type": "code",
   "execution_count": 34,
   "id": "ccac9102",
   "metadata": {},
   "outputs": [
    {
     "data": {
      "text/plain": [
       "[1, 4, 9, 16, 25]"
      ]
     },
     "execution_count": 34,
     "metadata": {},
     "output_type": "execute_result"
    }
   ],
   "source": [
    "squared_ind"
   ]
  },
  {
   "cell_type": "code",
   "execution_count": 35,
   "id": "313c8049",
   "metadata": {},
   "outputs": [],
   "source": [
    "# membership testing"
   ]
  },
  {
   "cell_type": "code",
   "execution_count": 36,
   "id": "ecf49ed3",
   "metadata": {},
   "outputs": [
    {
     "data": {
      "text/plain": [
       "Int64Index([1, 2, 3, 4, 5], dtype='int64')"
      ]
     },
     "execution_count": 36,
     "metadata": {},
     "output_type": "execute_result"
    }
   ],
   "source": [
    "ind"
   ]
  },
  {
   "cell_type": "code",
   "execution_count": 37,
   "id": "ea40653b",
   "metadata": {},
   "outputs": [
    {
     "data": {
      "text/plain": [
       "False"
      ]
     },
     "execution_count": 37,
     "metadata": {},
     "output_type": "execute_result"
    }
   ],
   "source": [
    "69 in ind"
   ]
  },
  {
   "cell_type": "code",
   "execution_count": 38,
   "id": "83e861dc",
   "metadata": {},
   "outputs": [
    {
     "data": {
      "text/plain": [
       "True"
      ]
     },
     "execution_count": 38,
     "metadata": {},
     "output_type": "execute_result"
    }
   ],
   "source": [
    "69 not in ind"
   ]
  },
  {
   "cell_type": "code",
   "execution_count": 39,
   "id": "fd4890a6",
   "metadata": {},
   "outputs": [],
   "source": [
    "# Index object is like a set but isme duplicate values allowed hoti hain"
   ]
  },
  {
   "cell_type": "code",
   "execution_count": 40,
   "id": "6046e80c",
   "metadata": {},
   "outputs": [],
   "source": [
    "new_index = pd.Index([1,2,3,5,4,4,4,4])"
   ]
  },
  {
   "cell_type": "code",
   "execution_count": 41,
   "id": "00f8ae48",
   "metadata": {},
   "outputs": [
    {
     "data": {
      "text/plain": [
       "Int64Index([1, 2, 3, 5, 4, 4, 4, 4], dtype='int64')"
      ]
     },
     "execution_count": 41,
     "metadata": {},
     "output_type": "execute_result"
    }
   ],
   "source": [
    "new_index"
   ]
  },
  {
   "cell_type": "code",
   "execution_count": 47,
   "id": "efcbccbe",
   "metadata": {},
   "outputs": [],
   "source": [
    "ind1 = pd.Index([1,2,3,4])\n",
    "ind2 = pd.Index([2.0,5,6])"
   ]
  },
  {
   "cell_type": "code",
   "execution_count": 43,
   "id": "2483554a",
   "metadata": {},
   "outputs": [
    {
     "data": {
      "text/plain": [
       "(Int64Index([1, 2, 3, 4], dtype='int64'), Int64Index([2, 5, 6], dtype='int64'))"
      ]
     },
     "execution_count": 43,
     "metadata": {},
     "output_type": "execute_result"
    }
   ],
   "source": [
    "ind1, ind2"
   ]
  },
  {
   "cell_type": "code",
   "execution_count": 48,
   "id": "c189ca8a",
   "metadata": {},
   "outputs": [],
   "source": [
    "intersection = ind1.intersection(ind2)"
   ]
  },
  {
   "cell_type": "code",
   "execution_count": 49,
   "id": "c8826e87",
   "metadata": {},
   "outputs": [
    {
     "data": {
      "text/plain": [
       "Float64Index([2.0], dtype='float64')"
      ]
     },
     "execution_count": 49,
     "metadata": {},
     "output_type": "execute_result"
    }
   ],
   "source": [
    "intersection"
   ]
  },
  {
   "cell_type": "code",
   "execution_count": 50,
   "id": "9e7c7cea",
   "metadata": {},
   "outputs": [],
   "source": [
    "union = ind1.union(ind2)"
   ]
  },
  {
   "cell_type": "code",
   "execution_count": 51,
   "id": "cbb908ce",
   "metadata": {},
   "outputs": [
    {
     "data": {
      "text/plain": [
       "Float64Index([1.0, 2.0, 3.0, 4.0, 5.0, 6.0], dtype='float64')"
      ]
     },
     "execution_count": 51,
     "metadata": {},
     "output_type": "execute_result"
    }
   ],
   "source": [
    "union"
   ]
  },
  {
   "cell_type": "markdown",
   "id": "4a880012",
   "metadata": {},
   "source": [
    "# Series"
   ]
  },
  {
   "cell_type": "code",
   "execution_count": 53,
   "id": "d3c1dd77",
   "metadata": {},
   "outputs": [],
   "source": [
    "# Series are 1 dimensional data structure\n",
    "# Series and Index me utna hi difference he jitna list and dictionary me he\n",
    "# Series is like an associative array \n",
    "# Index is also an associative container but we can have only implicit indexing in that"
   ]
  },
  {
   "cell_type": "code",
   "execution_count": 54,
   "id": "970481a7",
   "metadata": {},
   "outputs": [],
   "source": [
    "ser = pd.Series([1,2,3,45])"
   ]
  },
  {
   "cell_type": "code",
   "execution_count": 55,
   "id": "86389061",
   "metadata": {},
   "outputs": [
    {
     "data": {
      "text/plain": [
       "0     1\n",
       "1     2\n",
       "2     3\n",
       "3    45\n",
       "dtype: int64"
      ]
     },
     "execution_count": 55,
     "metadata": {},
     "output_type": "execute_result"
    }
   ],
   "source": [
    "ser"
   ]
  },
  {
   "cell_type": "code",
   "execution_count": 56,
   "id": "1e70ad73",
   "metadata": {},
   "outputs": [],
   "source": [
    "ser = pd.Series([1,2,3,45], index = ['Abhishek', 'Abhilash', 'Rohan', 'Sameer'])"
   ]
  },
  {
   "cell_type": "code",
   "execution_count": 57,
   "id": "601a79a4",
   "metadata": {},
   "outputs": [
    {
     "data": {
      "text/plain": [
       "Abhishek     1\n",
       "Abhilash     2\n",
       "Rohan        3\n",
       "Sameer      45\n",
       "dtype: int64"
      ]
     },
     "execution_count": 57,
     "metadata": {},
     "output_type": "execute_result"
    }
   ],
   "source": [
    "ser"
   ]
  },
  {
   "cell_type": "code",
   "execution_count": 58,
   "id": "2496843e",
   "metadata": {},
   "outputs": [
    {
     "data": {
      "text/plain": [
       "1"
      ]
     },
     "execution_count": 58,
     "metadata": {},
     "output_type": "execute_result"
    }
   ],
   "source": [
    "ser['Abhishek']"
   ]
  },
  {
   "cell_type": "code",
   "execution_count": 59,
   "id": "b0a15b81",
   "metadata": {},
   "outputs": [
    {
     "data": {
      "text/plain": [
       "1"
      ]
     },
     "execution_count": 59,
     "metadata": {},
     "output_type": "execute_result"
    }
   ],
   "source": [
    "ser[0]"
   ]
  },
  {
   "cell_type": "code",
   "execution_count": 60,
   "id": "be5a9428",
   "metadata": {},
   "outputs": [],
   "source": [
    "# When we use the Index parameter then we have defined the index explicitly.\n",
    "# unlearn -- bhool jaao -- indices, indexes, index\n",
    "ser = pd.Series([1,2,3,4,5], index = ['a','b','c','a','b'])"
   ]
  },
  {
   "cell_type": "code",
   "execution_count": 61,
   "id": "d7582768",
   "metadata": {},
   "outputs": [
    {
     "data": {
      "text/plain": [
       "a    1\n",
       "b    2\n",
       "c    3\n",
       "a    4\n",
       "b    5\n",
       "dtype: int64"
      ]
     },
     "execution_count": 61,
     "metadata": {},
     "output_type": "execute_result"
    }
   ],
   "source": [
    "ser"
   ]
  },
  {
   "cell_type": "code",
   "execution_count": 62,
   "id": "cead0d50",
   "metadata": {},
   "outputs": [
    {
     "data": {
      "text/plain": [
       "a    1\n",
       "a    4\n",
       "dtype: int64"
      ]
     },
     "execution_count": 62,
     "metadata": {},
     "output_type": "execute_result"
    }
   ],
   "source": [
    "ser['a'] # It is like dictionary but not dictionary"
   ]
  },
  {
   "cell_type": "code",
   "execution_count": 63,
   "id": "41356b69",
   "metadata": {},
   "outputs": [
    {
     "data": {
      "text/plain": [
       "1"
      ]
     },
     "execution_count": 63,
     "metadata": {},
     "output_type": "execute_result"
    }
   ],
   "source": [
    "ser[0]"
   ]
  },
  {
   "cell_type": "code",
   "execution_count": 64,
   "id": "ad7caca5",
   "metadata": {},
   "outputs": [],
   "source": [
    "# series pe hum built ins functions lga skte hain"
   ]
  },
  {
   "cell_type": "code",
   "execution_count": 65,
   "id": "c8a1ccd6",
   "metadata": {},
   "outputs": [
    {
     "data": {
      "text/plain": [
       "a    1\n",
       "b    2\n",
       "c    3\n",
       "a    4\n",
       "b    5\n",
       "dtype: int64"
      ]
     },
     "execution_count": 65,
     "metadata": {},
     "output_type": "execute_result"
    }
   ],
   "source": [
    "ser"
   ]
  },
  {
   "cell_type": "code",
   "execution_count": 72,
   "id": "c66d9e39",
   "metadata": {},
   "outputs": [
    {
     "data": {
      "text/plain": [
       "15"
      ]
     },
     "execution_count": 72,
     "metadata": {},
     "output_type": "execute_result"
    }
   ],
   "source": [
    "len(ser)\n",
    "max(ser)\n",
    "min(ser)\n",
    "list(ser)\n",
    "sorted(ser)\n",
    "sum(ser)\n",
    "# Bhool jaao, yaad rkhne"
   ]
  },
  {
   "cell_type": "code",
   "execution_count": 73,
   "id": "55ecb1af",
   "metadata": {},
   "outputs": [],
   "source": [
    "# pandas series also has methods"
   ]
  },
  {
   "cell_type": "code",
   "execution_count": 74,
   "id": "57ad367f",
   "metadata": {},
   "outputs": [
    {
     "data": {
      "text/plain": [
       "a    1\n",
       "b    2\n",
       "c    3\n",
       "a    4\n",
       "b    5\n",
       "dtype: int64"
      ]
     },
     "execution_count": 74,
     "metadata": {},
     "output_type": "execute_result"
    }
   ],
   "source": [
    "ser"
   ]
  },
  {
   "cell_type": "code",
   "execution_count": 83,
   "id": "4341c6de",
   "metadata": {},
   "outputs": [
    {
     "name": "stdout",
     "output_type": "stream",
     "text": [
      "<class 'pandas.core.series.Series'>\n",
      "Index: 5 entries, a to b\n",
      "Series name: None\n",
      "Non-Null Count  Dtype\n",
      "--------------  -----\n",
      "5 non-null      int64\n",
      "dtypes: int64(1)\n",
      "memory usage: 252.0+ bytes\n"
     ]
    },
    {
     "data": {
      "text/plain": [
       "count    5.000000\n",
       "mean     3.000000\n",
       "std      1.581139\n",
       "min      1.000000\n",
       "25%      2.000000\n",
       "50%      3.000000\n",
       "75%      4.000000\n",
       "max      5.000000\n",
       "dtype: float64"
      ]
     },
     "execution_count": 83,
     "metadata": {},
     "output_type": "execute_result"
    }
   ],
   "source": [
    "ser.min()\n",
    "ser.max()\n",
    "ser.mean()\n",
    "ser.mode()\n",
    "ser.std()\n",
    "ser.info()\n",
    "ser.describe()"
   ]
  },
  {
   "cell_type": "code",
   "execution_count": 87,
   "id": "0b54bbc0",
   "metadata": {},
   "outputs": [],
   "source": [
    "third_quartile = ser.describe()['75%']"
   ]
  },
  {
   "cell_type": "code",
   "execution_count": 88,
   "id": "b93974b5",
   "metadata": {},
   "outputs": [
    {
     "data": {
      "text/plain": [
       "4.0"
      ]
     },
     "execution_count": 88,
     "metadata": {},
     "output_type": "execute_result"
    }
   ],
   "source": [
    "third_quartile"
   ]
  },
  {
   "cell_type": "code",
   "execution_count": 89,
   "id": "8a0851ba",
   "metadata": {},
   "outputs": [],
   "source": [
    "# Implicit Indexing me numbers 0,1,2,3...., \n",
    "# Explicit Indexing me bhi numbers"
   ]
  },
  {
   "cell_type": "code",
   "execution_count": 90,
   "id": "d57247a0",
   "metadata": {},
   "outputs": [],
   "source": [
    "ser = pd.Series([1,2,3,4,5],index = [1,2,3,4,5])"
   ]
  },
  {
   "cell_type": "code",
   "execution_count": 91,
   "id": "177dd350",
   "metadata": {},
   "outputs": [
    {
     "data": {
      "text/plain": [
       "1    1\n",
       "2    2\n",
       "3    3\n",
       "4    4\n",
       "5    5\n",
       "dtype: int64"
      ]
     },
     "execution_count": 91,
     "metadata": {},
     "output_type": "execute_result"
    }
   ],
   "source": [
    "ser"
   ]
  },
  {
   "cell_type": "code",
   "execution_count": 92,
   "id": "1177e120",
   "metadata": {},
   "outputs": [
    {
     "data": {
      "text/plain": [
       "1"
      ]
     },
     "execution_count": 92,
     "metadata": {},
     "output_type": "execute_result"
    }
   ],
   "source": [
    "ser[1] # explicit waale ko use krta hain\n",
    "# yaad mt rkhna"
   ]
  },
  {
   "cell_type": "code",
   "execution_count": 93,
   "id": "26760067",
   "metadata": {},
   "outputs": [
    {
     "data": {
      "text/plain": [
       "2    2\n",
       "3    3\n",
       "4    4\n",
       "dtype: int64"
      ]
     },
     "execution_count": 93,
     "metadata": {},
     "output_type": "execute_result"
    }
   ],
   "source": [
    "ser[1:4] # implicit index\n",
    "# implicit me last vaala count nhi hota\n",
    "# explicit me last waala count hota he"
   ]
  },
  {
   "cell_type": "code",
   "execution_count": 94,
   "id": "ea9a3d89",
   "metadata": {},
   "outputs": [],
   "source": [
    "ser = pd.Series([1,2,3,4,5], index = list('abcde'))"
   ]
  },
  {
   "cell_type": "code",
   "execution_count": 95,
   "id": "1c49a689",
   "metadata": {},
   "outputs": [
    {
     "data": {
      "text/plain": [
       "a    1\n",
       "b    2\n",
       "c    3\n",
       "d    4\n",
       "e    5\n",
       "dtype: int64"
      ]
     },
     "execution_count": 95,
     "metadata": {},
     "output_type": "execute_result"
    }
   ],
   "source": [
    "ser"
   ]
  },
  {
   "cell_type": "code",
   "execution_count": 96,
   "id": "fbefd598",
   "metadata": {},
   "outputs": [
    {
     "data": {
      "text/plain": [
       "a    1\n",
       "b    2\n",
       "c    3\n",
       "d    4\n",
       "dtype: int64"
      ]
     },
     "execution_count": 96,
     "metadata": {},
     "output_type": "execute_result"
    }
   ],
   "source": [
    "ser[0:4]"
   ]
  },
  {
   "cell_type": "code",
   "execution_count": 97,
   "id": "eb9eec8a",
   "metadata": {},
   "outputs": [
    {
     "data": {
      "text/plain": [
       "a    1\n",
       "b    2\n",
       "c    3\n",
       "dtype: int64"
      ]
     },
     "execution_count": 97,
     "metadata": {},
     "output_type": "execute_result"
    }
   ],
   "source": [
    "ser['a':'c'] # explicit indexing me slicing -- last waala included"
   ]
  },
  {
   "cell_type": "code",
   "execution_count": 98,
   "id": "e0331069",
   "metadata": {},
   "outputs": [],
   "source": [
    "# Series object can also have attributes"
   ]
  },
  {
   "cell_type": "code",
   "execution_count": 99,
   "id": "36be759e",
   "metadata": {},
   "outputs": [
    {
     "data": {
      "text/plain": [
       "a    1\n",
       "b    2\n",
       "c    3\n",
       "d    4\n",
       "e    5\n",
       "dtype: int64"
      ]
     },
     "execution_count": 99,
     "metadata": {},
     "output_type": "execute_result"
    }
   ],
   "source": [
    "ser"
   ]
  },
  {
   "cell_type": "code",
   "execution_count": 101,
   "id": "cd17e18d",
   "metadata": {},
   "outputs": [
    {
     "data": {
      "text/plain": [
       "dtype('int64')"
      ]
     },
     "execution_count": 101,
     "metadata": {},
     "output_type": "execute_result"
    }
   ],
   "source": [
    "ser.dtype"
   ]
  },
  {
   "cell_type": "code",
   "execution_count": 102,
   "id": "a0e16cea",
   "metadata": {},
   "outputs": [
    {
     "data": {
      "text/plain": [
       "1"
      ]
     },
     "execution_count": 102,
     "metadata": {},
     "output_type": "execute_result"
    }
   ],
   "source": [
    "ser.ndim"
   ]
  },
  {
   "cell_type": "code",
   "execution_count": 103,
   "id": "9bc0d382",
   "metadata": {},
   "outputs": [
    {
     "data": {
      "text/plain": [
       "(5,)"
      ]
     },
     "execution_count": 103,
     "metadata": {},
     "output_type": "execute_result"
    }
   ],
   "source": [
    "ser.shape"
   ]
  },
  {
   "cell_type": "code",
   "execution_count": 104,
   "id": "163c6e55",
   "metadata": {},
   "outputs": [
    {
     "data": {
      "text/plain": [
       "5"
      ]
     },
     "execution_count": 104,
     "metadata": {},
     "output_type": "execute_result"
    }
   ],
   "source": [
    "ser.size"
   ]
  },
  {
   "cell_type": "code",
   "execution_count": 105,
   "id": "15d10f7b",
   "metadata": {},
   "outputs": [
    {
     "data": {
      "text/plain": [
       "False"
      ]
     },
     "execution_count": 105,
     "metadata": {},
     "output_type": "execute_result"
    }
   ],
   "source": [
    "ser.hasnans # yaad rkhna"
   ]
  },
  {
   "cell_type": "code",
   "execution_count": 106,
   "id": "13a37817",
   "metadata": {},
   "outputs": [],
   "source": [
    "# Series ojects are mutable"
   ]
  },
  {
   "cell_type": "code",
   "execution_count": 107,
   "id": "a3c86541",
   "metadata": {},
   "outputs": [
    {
     "data": {
      "text/plain": [
       "a    1\n",
       "b    2\n",
       "c    3\n",
       "d    4\n",
       "e    5\n",
       "dtype: int64"
      ]
     },
     "execution_count": 107,
     "metadata": {},
     "output_type": "execute_result"
    }
   ],
   "source": [
    "ser"
   ]
  },
  {
   "cell_type": "code",
   "execution_count": 108,
   "id": "02d8c74a",
   "metadata": {},
   "outputs": [],
   "source": [
    "ser['a'] = 20"
   ]
  },
  {
   "cell_type": "code",
   "execution_count": 109,
   "id": "9c2bca92",
   "metadata": {},
   "outputs": [
    {
     "data": {
      "text/plain": [
       "a    20\n",
       "b     2\n",
       "c     3\n",
       "d     4\n",
       "e     5\n",
       "dtype: int64"
      ]
     },
     "execution_count": 109,
     "metadata": {},
     "output_type": "execute_result"
    }
   ],
   "source": [
    "ser"
   ]
  },
  {
   "cell_type": "code",
   "execution_count": 110,
   "id": "afc9268f",
   "metadata": {},
   "outputs": [],
   "source": [
    "# series objects are mutable associative iterable container"
   ]
  },
  {
   "cell_type": "code",
   "execution_count": 111,
   "id": "7d3bc71e",
   "metadata": {},
   "outputs": [
    {
     "name": "stdout",
     "output_type": "stream",
     "text": [
      "20\n",
      "2\n",
      "3\n",
      "4\n",
      "5\n"
     ]
    }
   ],
   "source": [
    "for ele in ser:\n",
    "    print(ele)"
   ]
  },
  {
   "cell_type": "code",
   "execution_count": 112,
   "id": "d10254c9",
   "metadata": {},
   "outputs": [
    {
     "data": {
      "text/plain": [
       "False"
      ]
     },
     "execution_count": 112,
     "metadata": {},
     "output_type": "execute_result"
    }
   ],
   "source": [
    "# membership testing\n",
    "25 in ser"
   ]
  },
  {
   "cell_type": "code",
   "execution_count": 113,
   "id": "a286935a",
   "metadata": {},
   "outputs": [
    {
     "data": {
      "text/plain": [
       "True"
      ]
     },
     "execution_count": 113,
     "metadata": {},
     "output_type": "execute_result"
    }
   ],
   "source": [
    "25 not in ser"
   ]
  },
  {
   "cell_type": "code",
   "execution_count": 116,
   "id": "b9a11474",
   "metadata": {},
   "outputs": [
    {
     "data": {
      "text/plain": [
       "{'a': 20, 'b': 2, 'c': 3, 'd': 4, 'e': 5}"
      ]
     },
     "execution_count": 116,
     "metadata": {},
     "output_type": "execute_result"
    }
   ],
   "source": [
    "dict(ser)"
   ]
  },
  {
   "cell_type": "code",
   "execution_count": 117,
   "id": "8296ebdd",
   "metadata": {},
   "outputs": [],
   "source": [
    "my_dict = {'a': 20, 'b': 2, 'c': 3, 'd': 4, 'e': 5}"
   ]
  },
  {
   "cell_type": "code",
   "execution_count": 118,
   "id": "4731a3d5",
   "metadata": {},
   "outputs": [],
   "source": [
    "# We can convert a dictionary into a series"
   ]
  },
  {
   "cell_type": "code",
   "execution_count": 130,
   "id": "7a3b5430",
   "metadata": {},
   "outputs": [],
   "source": [
    "ser = pd.Series(my_dict)"
   ]
  },
  {
   "cell_type": "code",
   "execution_count": 131,
   "id": "c1d9b59c",
   "metadata": {},
   "outputs": [
    {
     "data": {
      "text/plain": [
       "a    20\n",
       "b     2\n",
       "c     3\n",
       "d     4\n",
       "e     5\n",
       "dtype: int64"
      ]
     },
     "execution_count": 131,
     "metadata": {},
     "output_type": "execute_result"
    }
   ],
   "source": [
    "ser"
   ]
  },
  {
   "cell_type": "code",
   "execution_count": 135,
   "id": "8d88466e",
   "metadata": {},
   "outputs": [
    {
     "data": {
      "text/plain": [
       "a    20\n",
       "e     5\n",
       "dtype: int64"
      ]
     },
     "execution_count": 135,
     "metadata": {},
     "output_type": "execute_result"
    }
   ],
   "source": [
    "ser[[0,4]]"
   ]
  },
  {
   "cell_type": "code",
   "execution_count": 136,
   "id": "a01ec542",
   "metadata": {},
   "outputs": [
    {
     "data": {
      "text/plain": [
       "a    20\n",
       "e     5\n",
       "e     5\n",
       "dtype: int64"
      ]
     },
     "execution_count": 136,
     "metadata": {},
     "output_type": "execute_result"
    }
   ],
   "source": [
    "ser[['a','e','e']]"
   ]
  },
  {
   "cell_type": "code",
   "execution_count": 137,
   "id": "8174d48c",
   "metadata": {},
   "outputs": [],
   "source": [
    "# iloc and loc are not functions"
   ]
  },
  {
   "cell_type": "code",
   "execution_count": 138,
   "id": "826ebd02",
   "metadata": {},
   "outputs": [],
   "source": [
    "ser = pd.Series([1,2,3,4,5], index = [1,2,3,4,5])"
   ]
  },
  {
   "cell_type": "code",
   "execution_count": 139,
   "id": "e21a7464",
   "metadata": {},
   "outputs": [
    {
     "data": {
      "text/plain": [
       "1    1\n",
       "2    2\n",
       "3    3\n",
       "4    4\n",
       "5    5\n",
       "dtype: int64"
      ]
     },
     "execution_count": 139,
     "metadata": {},
     "output_type": "execute_result"
    }
   ],
   "source": [
    "ser"
   ]
  },
  {
   "cell_type": "code",
   "execution_count": 140,
   "id": "89c5e4ba",
   "metadata": {},
   "outputs": [
    {
     "data": {
      "text/plain": [
       "2"
      ]
     },
     "execution_count": 140,
     "metadata": {},
     "output_type": "execute_result"
    }
   ],
   "source": [
    "ser.iloc[1]\n",
    "# ser.iloc(1) mt krna "
   ]
  },
  {
   "cell_type": "code",
   "execution_count": 141,
   "id": "471079d0",
   "metadata": {},
   "outputs": [
    {
     "data": {
      "text/plain": [
       "1"
      ]
     },
     "execution_count": 141,
     "metadata": {},
     "output_type": "execute_result"
    }
   ],
   "source": [
    "ser.loc[1]"
   ]
  },
  {
   "cell_type": "code",
   "execution_count": 143,
   "id": "e25a10a1",
   "metadata": {},
   "outputs": [],
   "source": [
    "ser = pd.Series([1,2,3,4,5], index = list('abcde'))"
   ]
  },
  {
   "cell_type": "code",
   "execution_count": 144,
   "id": "b68d5aa0",
   "metadata": {},
   "outputs": [
    {
     "data": {
      "text/plain": [
       "a    1\n",
       "b    2\n",
       "c    3\n",
       "d    4\n",
       "e    5\n",
       "dtype: int64"
      ]
     },
     "execution_count": 144,
     "metadata": {},
     "output_type": "execute_result"
    }
   ],
   "source": [
    "ser"
   ]
  },
  {
   "cell_type": "code",
   "execution_count": 145,
   "id": "0ce2e9e0",
   "metadata": {},
   "outputs": [],
   "source": [
    "# we can also do boolean masking inside a series object"
   ]
  },
  {
   "cell_type": "code",
   "execution_count": 146,
   "id": "77198b0a",
   "metadata": {},
   "outputs": [
    {
     "data": {
      "text/plain": [
       "a     True\n",
       "b    False\n",
       "c    False\n",
       "d    False\n",
       "e    False\n",
       "dtype: bool"
      ]
     },
     "execution_count": 146,
     "metadata": {},
     "output_type": "execute_result"
    }
   ],
   "source": [
    "ser == 1 # returns us a boolean series which is also called as mask"
   ]
  },
  {
   "cell_type": "code",
   "execution_count": 147,
   "id": "cc5bba6a",
   "metadata": {},
   "outputs": [
    {
     "data": {
      "text/plain": [
       "a    1\n",
       "dtype: int64"
      ]
     },
     "execution_count": 147,
     "metadata": {},
     "output_type": "execute_result"
    }
   ],
   "source": [
    "ser[ser == 1]"
   ]
  },
  {
   "cell_type": "code",
   "execution_count": 163,
   "id": "dc5c26ac",
   "metadata": {},
   "outputs": [],
   "source": [
    "nba = pd.read_csv('data/nba.csv')"
   ]
  },
  {
   "cell_type": "code",
   "execution_count": 164,
   "id": "196bb609",
   "metadata": {},
   "outputs": [],
   "source": [
    "nba = nba['Name']"
   ]
  },
  {
   "cell_type": "code",
   "execution_count": 165,
   "id": "adba1a33",
   "metadata": {},
   "outputs": [
    {
     "data": {
      "text/plain": [
       "0      Avery Bradley\n",
       "1        Jae Crowder\n",
       "2       John Holland\n",
       "3        R.J. Hunter\n",
       "4      Jonas Jerebko\n",
       "           ...      \n",
       "453     Shelvin Mack\n",
       "454        Raul Neto\n",
       "455     Tibor Pleiss\n",
       "456      Jeff Withey\n",
       "457              NaN\n",
       "Name: Name, Length: 458, dtype: object"
      ]
     },
     "execution_count": 165,
     "metadata": {},
     "output_type": "execute_result"
    }
   ],
   "source": [
    "nba"
   ]
  },
  {
   "cell_type": "code",
   "execution_count": 166,
   "id": "d6c967ee",
   "metadata": {},
   "outputs": [
    {
     "data": {
      "text/plain": [
       "True"
      ]
     },
     "execution_count": 166,
     "metadata": {},
     "output_type": "execute_result"
    }
   ],
   "source": [
    "nba.hasnans"
   ]
  },
  {
   "cell_type": "code",
   "execution_count": 167,
   "id": "767072be",
   "metadata": {},
   "outputs": [
    {
     "data": {
      "text/plain": [
       "458"
      ]
     },
     "execution_count": 167,
     "metadata": {},
     "output_type": "execute_result"
    }
   ],
   "source": [
    "nba.size"
   ]
  },
  {
   "cell_type": "code",
   "execution_count": 168,
   "id": "50bb5263",
   "metadata": {},
   "outputs": [
    {
     "data": {
      "text/plain": [
       "(458,)"
      ]
     },
     "execution_count": 168,
     "metadata": {},
     "output_type": "execute_result"
    }
   ],
   "source": [
    "nba.shape"
   ]
  },
  {
   "cell_type": "code",
   "execution_count": 169,
   "id": "3614b498",
   "metadata": {},
   "outputs": [
    {
     "data": {
      "text/plain": [
       "1"
      ]
     },
     "execution_count": 169,
     "metadata": {},
     "output_type": "execute_result"
    }
   ],
   "source": [
    "nba.ndim"
   ]
  },
  {
   "cell_type": "code",
   "execution_count": 170,
   "id": "48539857",
   "metadata": {},
   "outputs": [
    {
     "data": {
      "text/plain": [
       "458"
      ]
     },
     "execution_count": 170,
     "metadata": {},
     "output_type": "execute_result"
    }
   ],
   "source": [
    "len(nba)"
   ]
  },
  {
   "cell_type": "code",
   "execution_count": 171,
   "id": "523723c1",
   "metadata": {},
   "outputs": [
    {
     "ename": "TypeError",
     "evalue": "'<' not supported between instances of 'float' and 'str'",
     "output_type": "error",
     "traceback": [
      "\u001b[1;31m---------------------------------------------------------------------------\u001b[0m",
      "\u001b[1;31mTypeError\u001b[0m                                 Traceback (most recent call last)",
      "Cell \u001b[1;32mIn[171], line 1\u001b[0m\n\u001b[1;32m----> 1\u001b[0m \u001b[38;5;28msorted\u001b[39m(nba)\n",
      "\u001b[1;31mTypeError\u001b[0m: '<' not supported between instances of 'float' and 'str'"
     ]
    }
   ],
   "source": [
    "sorted(nba)"
   ]
  },
  {
   "cell_type": "code",
   "execution_count": 172,
   "id": "86046687",
   "metadata": {},
   "outputs": [],
   "source": [
    "# This method is used to fill Null values in a series with a specified value\n",
    "nba.fillna('Unknown', inplace=True) # yaad rkhlo\n",
    "# nba = nba.fillna('Unknown')"
   ]
  },
  {
   "cell_type": "code",
   "execution_count": 173,
   "id": "191f1692",
   "metadata": {},
   "outputs": [
    {
     "data": {
      "text/plain": [
       "0      Avery Bradley\n",
       "1        Jae Crowder\n",
       "2       John Holland\n",
       "3        R.J. Hunter\n",
       "4      Jonas Jerebko\n",
       "           ...      \n",
       "453     Shelvin Mack\n",
       "454        Raul Neto\n",
       "455     Tibor Pleiss\n",
       "456      Jeff Withey\n",
       "457          Unknown\n",
       "Name: Name, Length: 458, dtype: object"
      ]
     },
     "execution_count": 173,
     "metadata": {},
     "output_type": "execute_result"
    }
   ],
   "source": [
    "nba\n",
    "# NaN ke saath 2 kaam -- ya toh drop krdo ya toh fill krdo"
   ]
  },
  {
   "cell_type": "code",
   "execution_count": 174,
   "id": "723b2d02",
   "metadata": {},
   "outputs": [],
   "source": [
    "# apply , map"
   ]
  },
  {
   "cell_type": "code",
   "execution_count": 175,
   "id": "a8c91086",
   "metadata": {},
   "outputs": [
    {
     "data": {
      "text/plain": [
       "0      Avery Bradley\n",
       "1        Jae Crowder\n",
       "2       John Holland\n",
       "3        R.J. Hunter\n",
       "4      Jonas Jerebko\n",
       "           ...      \n",
       "453     Shelvin Mack\n",
       "454        Raul Neto\n",
       "455     Tibor Pleiss\n",
       "456      Jeff Withey\n",
       "457          Unknown\n",
       "Name: Name, Length: 458, dtype: object"
      ]
     },
     "execution_count": 175,
     "metadata": {},
     "output_type": "execute_result"
    }
   ],
   "source": [
    "nba"
   ]
  },
  {
   "cell_type": "code",
   "execution_count": 177,
   "id": "50964423",
   "metadata": {},
   "outputs": [
    {
     "data": {
      "text/plain": [
       "0      13\n",
       "1      11\n",
       "2      12\n",
       "3      11\n",
       "4      13\n",
       "       ..\n",
       "453    12\n",
       "454     9\n",
       "455    12\n",
       "456    11\n",
       "457     7\n",
       "Length: 458, dtype: int64"
      ]
     },
     "execution_count": 177,
     "metadata": {},
     "output_type": "execute_result"
    }
   ],
   "source": [
    "pd.Series({key:len(nba[key]) for key in nba.index})"
   ]
  },
  {
   "cell_type": "code",
   "execution_count": 178,
   "id": "536d64d3",
   "metadata": {},
   "outputs": [
    {
     "data": {
      "text/plain": [
       "0      Avery Bradley\n",
       "1        Jae Crowder\n",
       "2       John Holland\n",
       "3        R.J. Hunter\n",
       "4      Jonas Jerebko\n",
       "           ...      \n",
       "453     Shelvin Mack\n",
       "454        Raul Neto\n",
       "455     Tibor Pleiss\n",
       "456      Jeff Withey\n",
       "457          Unknown\n",
       "Name: Name, Length: 458, dtype: object"
      ]
     },
     "execution_count": 178,
     "metadata": {},
     "output_type": "execute_result"
    }
   ],
   "source": [
    "nba"
   ]
  },
  {
   "cell_type": "code",
   "execution_count": 180,
   "id": "1de9dc30",
   "metadata": {},
   "outputs": [],
   "source": [
    "nba_lengths = nba.apply(len)"
   ]
  },
  {
   "cell_type": "code",
   "execution_count": 181,
   "id": "6dfc18cb",
   "metadata": {},
   "outputs": [
    {
     "data": {
      "text/plain": [
       "0      13\n",
       "1      11\n",
       "2      12\n",
       "3      11\n",
       "4      13\n",
       "       ..\n",
       "453    12\n",
       "454     9\n",
       "455    12\n",
       "456    11\n",
       "457     7\n",
       "Name: Name, Length: 458, dtype: int64"
      ]
     },
     "execution_count": 181,
     "metadata": {},
     "output_type": "execute_result"
    }
   ],
   "source": [
    "nba_lengths"
   ]
  },
  {
   "cell_type": "code",
   "execution_count": 182,
   "id": "77d2e590",
   "metadata": {},
   "outputs": [
    {
     "data": {
      "text/plain": [
       "0      Avery Bradley\n",
       "1        Jae Crowder\n",
       "2       John Holland\n",
       "3        R.J. Hunter\n",
       "4      Jonas Jerebko\n",
       "           ...      \n",
       "453     Shelvin Mack\n",
       "454        Raul Neto\n",
       "455     Tibor Pleiss\n",
       "456      Jeff Withey\n",
       "457          Unknown\n",
       "Name: Name, Length: 458, dtype: object"
      ]
     },
     "execution_count": 182,
     "metadata": {},
     "output_type": "execute_result"
    }
   ],
   "source": [
    "nba"
   ]
  },
  {
   "cell_type": "code",
   "execution_count": 184,
   "id": "061197a8",
   "metadata": {},
   "outputs": [],
   "source": [
    "def do_upper(name):\n",
    "    return name.upper()"
   ]
  },
  {
   "cell_type": "code",
   "execution_count": 185,
   "id": "50fbae2a",
   "metadata": {},
   "outputs": [
    {
     "data": {
      "text/plain": [
       "'ABHISHEK JHA'"
      ]
     },
     "execution_count": 185,
     "metadata": {},
     "output_type": "execute_result"
    }
   ],
   "source": [
    "do_upper('Abhishek Jha')"
   ]
  },
  {
   "cell_type": "code",
   "execution_count": 186,
   "id": "dc15f360",
   "metadata": {},
   "outputs": [
    {
     "data": {
      "text/plain": [
       "0      Avery Bradley\n",
       "1        Jae Crowder\n",
       "2       John Holland\n",
       "3        R.J. Hunter\n",
       "4      Jonas Jerebko\n",
       "           ...      \n",
       "453     Shelvin Mack\n",
       "454        Raul Neto\n",
       "455     Tibor Pleiss\n",
       "456      Jeff Withey\n",
       "457          Unknown\n",
       "Name: Name, Length: 458, dtype: object"
      ]
     },
     "execution_count": 186,
     "metadata": {},
     "output_type": "execute_result"
    }
   ],
   "source": [
    "nba"
   ]
  },
  {
   "cell_type": "code",
   "execution_count": 187,
   "id": "c7577fee",
   "metadata": {},
   "outputs": [
    {
     "data": {
      "text/plain": [
       "0      AVERY BRADLEY\n",
       "1        JAE CROWDER\n",
       "2       JOHN HOLLAND\n",
       "3        R.J. HUNTER\n",
       "4      JONAS JEREBKO\n",
       "           ...      \n",
       "453     SHELVIN MACK\n",
       "454        RAUL NETO\n",
       "455     TIBOR PLEISS\n",
       "456      JEFF WITHEY\n",
       "457          UNKNOWN\n",
       "Name: Name, Length: 458, dtype: object"
      ]
     },
     "execution_count": 187,
     "metadata": {},
     "output_type": "execute_result"
    }
   ],
   "source": [
    "nba.apply(do_upper)"
   ]
  },
  {
   "cell_type": "code",
   "execution_count": 188,
   "id": "2af69920",
   "metadata": {},
   "outputs": [],
   "source": [
    "# itne pr khatam "
   ]
  },
  {
   "cell_type": "markdown",
   "id": "0dd742ec",
   "metadata": {},
   "source": [
    "# dropna(), fillna(), head(), tail(), map(), sort_values(), sort_index()\n",
    "# value_counts(), copy()"
   ]
  },
  {
   "cell_type": "markdown",
   "id": "5241db45",
   "metadata": {},
   "source": [
    "# View and copy"
   ]
  },
  {
   "cell_type": "code",
   "execution_count": 195,
   "id": "3a0f507d",
   "metadata": {},
   "outputs": [
    {
     "data": {
      "text/plain": [
       "a    1\n",
       "b    2\n",
       "c    3\n",
       "d    4\n",
       "e    5\n",
       "dtype: int64"
      ]
     },
     "execution_count": 195,
     "metadata": {},
     "output_type": "execute_result"
    }
   ],
   "source": [
    "ser"
   ]
  },
  {
   "cell_type": "code",
   "execution_count": 196,
   "id": "daa1bfc2",
   "metadata": {},
   "outputs": [
    {
     "data": {
      "text/plain": [
       "a    1\n",
       "b    2\n",
       "c    3\n",
       "d    4\n",
       "e    5\n",
       "dtype: int64"
      ]
     },
     "execution_count": 196,
     "metadata": {},
     "output_type": "execute_result"
    }
   ],
   "source": [
    "ser.head()"
   ]
  },
  {
   "cell_type": "code",
   "execution_count": 197,
   "id": "c47d0116",
   "metadata": {},
   "outputs": [],
   "source": [
    "nba = pd.read_csv('data/nba.csv')"
   ]
  },
  {
   "cell_type": "code",
   "execution_count": 198,
   "id": "1083fc65",
   "metadata": {},
   "outputs": [
    {
     "data": {
      "text/html": [
       "<div>\n",
       "<style scoped>\n",
       "    .dataframe tbody tr th:only-of-type {\n",
       "        vertical-align: middle;\n",
       "    }\n",
       "\n",
       "    .dataframe tbody tr th {\n",
       "        vertical-align: top;\n",
       "    }\n",
       "\n",
       "    .dataframe thead th {\n",
       "        text-align: right;\n",
       "    }\n",
       "</style>\n",
       "<table border=\"1\" class=\"dataframe\">\n",
       "  <thead>\n",
       "    <tr style=\"text-align: right;\">\n",
       "      <th></th>\n",
       "      <th>Name</th>\n",
       "      <th>Team</th>\n",
       "      <th>Number</th>\n",
       "      <th>Position</th>\n",
       "      <th>Age</th>\n",
       "      <th>Height</th>\n",
       "      <th>Weight</th>\n",
       "      <th>College</th>\n",
       "      <th>Salary</th>\n",
       "    </tr>\n",
       "  </thead>\n",
       "  <tbody>\n",
       "    <tr>\n",
       "      <th>0</th>\n",
       "      <td>Avery Bradley</td>\n",
       "      <td>Boston Celtics</td>\n",
       "      <td>0.0</td>\n",
       "      <td>PG</td>\n",
       "      <td>25.0</td>\n",
       "      <td>6-2</td>\n",
       "      <td>180.0</td>\n",
       "      <td>Texas</td>\n",
       "      <td>7730337.0</td>\n",
       "    </tr>\n",
       "    <tr>\n",
       "      <th>1</th>\n",
       "      <td>Jae Crowder</td>\n",
       "      <td>Boston Celtics</td>\n",
       "      <td>99.0</td>\n",
       "      <td>SF</td>\n",
       "      <td>25.0</td>\n",
       "      <td>6-6</td>\n",
       "      <td>235.0</td>\n",
       "      <td>Marquette</td>\n",
       "      <td>6796117.0</td>\n",
       "    </tr>\n",
       "    <tr>\n",
       "      <th>2</th>\n",
       "      <td>John Holland</td>\n",
       "      <td>Boston Celtics</td>\n",
       "      <td>30.0</td>\n",
       "      <td>SG</td>\n",
       "      <td>27.0</td>\n",
       "      <td>6-5</td>\n",
       "      <td>205.0</td>\n",
       "      <td>Boston University</td>\n",
       "      <td>NaN</td>\n",
       "    </tr>\n",
       "    <tr>\n",
       "      <th>3</th>\n",
       "      <td>R.J. Hunter</td>\n",
       "      <td>Boston Celtics</td>\n",
       "      <td>28.0</td>\n",
       "      <td>SG</td>\n",
       "      <td>22.0</td>\n",
       "      <td>6-5</td>\n",
       "      <td>185.0</td>\n",
       "      <td>Georgia State</td>\n",
       "      <td>1148640.0</td>\n",
       "    </tr>\n",
       "    <tr>\n",
       "      <th>4</th>\n",
       "      <td>Jonas Jerebko</td>\n",
       "      <td>Boston Celtics</td>\n",
       "      <td>8.0</td>\n",
       "      <td>PF</td>\n",
       "      <td>29.0</td>\n",
       "      <td>6-10</td>\n",
       "      <td>231.0</td>\n",
       "      <td>NaN</td>\n",
       "      <td>5000000.0</td>\n",
       "    </tr>\n",
       "    <tr>\n",
       "      <th>...</th>\n",
       "      <td>...</td>\n",
       "      <td>...</td>\n",
       "      <td>...</td>\n",
       "      <td>...</td>\n",
       "      <td>...</td>\n",
       "      <td>...</td>\n",
       "      <td>...</td>\n",
       "      <td>...</td>\n",
       "      <td>...</td>\n",
       "    </tr>\n",
       "    <tr>\n",
       "      <th>453</th>\n",
       "      <td>Shelvin Mack</td>\n",
       "      <td>Utah Jazz</td>\n",
       "      <td>8.0</td>\n",
       "      <td>PG</td>\n",
       "      <td>26.0</td>\n",
       "      <td>6-3</td>\n",
       "      <td>203.0</td>\n",
       "      <td>Butler</td>\n",
       "      <td>2433333.0</td>\n",
       "    </tr>\n",
       "    <tr>\n",
       "      <th>454</th>\n",
       "      <td>Raul Neto</td>\n",
       "      <td>Utah Jazz</td>\n",
       "      <td>25.0</td>\n",
       "      <td>PG</td>\n",
       "      <td>24.0</td>\n",
       "      <td>6-1</td>\n",
       "      <td>179.0</td>\n",
       "      <td>NaN</td>\n",
       "      <td>900000.0</td>\n",
       "    </tr>\n",
       "    <tr>\n",
       "      <th>455</th>\n",
       "      <td>Tibor Pleiss</td>\n",
       "      <td>Utah Jazz</td>\n",
       "      <td>21.0</td>\n",
       "      <td>C</td>\n",
       "      <td>26.0</td>\n",
       "      <td>7-3</td>\n",
       "      <td>256.0</td>\n",
       "      <td>NaN</td>\n",
       "      <td>2900000.0</td>\n",
       "    </tr>\n",
       "    <tr>\n",
       "      <th>456</th>\n",
       "      <td>Jeff Withey</td>\n",
       "      <td>Utah Jazz</td>\n",
       "      <td>24.0</td>\n",
       "      <td>C</td>\n",
       "      <td>26.0</td>\n",
       "      <td>7-0</td>\n",
       "      <td>231.0</td>\n",
       "      <td>Kansas</td>\n",
       "      <td>947276.0</td>\n",
       "    </tr>\n",
       "    <tr>\n",
       "      <th>457</th>\n",
       "      <td>NaN</td>\n",
       "      <td>NaN</td>\n",
       "      <td>NaN</td>\n",
       "      <td>NaN</td>\n",
       "      <td>NaN</td>\n",
       "      <td>NaN</td>\n",
       "      <td>NaN</td>\n",
       "      <td>NaN</td>\n",
       "      <td>NaN</td>\n",
       "    </tr>\n",
       "  </tbody>\n",
       "</table>\n",
       "<p>458 rows × 9 columns</p>\n",
       "</div>"
      ],
      "text/plain": [
       "              Name            Team  Number Position   Age Height  Weight  \\\n",
       "0    Avery Bradley  Boston Celtics     0.0       PG  25.0    6-2   180.0   \n",
       "1      Jae Crowder  Boston Celtics    99.0       SF  25.0    6-6   235.0   \n",
       "2     John Holland  Boston Celtics    30.0       SG  27.0    6-5   205.0   \n",
       "3      R.J. Hunter  Boston Celtics    28.0       SG  22.0    6-5   185.0   \n",
       "4    Jonas Jerebko  Boston Celtics     8.0       PF  29.0   6-10   231.0   \n",
       "..             ...             ...     ...      ...   ...    ...     ...   \n",
       "453   Shelvin Mack       Utah Jazz     8.0       PG  26.0    6-3   203.0   \n",
       "454      Raul Neto       Utah Jazz    25.0       PG  24.0    6-1   179.0   \n",
       "455   Tibor Pleiss       Utah Jazz    21.0        C  26.0    7-3   256.0   \n",
       "456    Jeff Withey       Utah Jazz    24.0        C  26.0    7-0   231.0   \n",
       "457            NaN             NaN     NaN      NaN   NaN    NaN     NaN   \n",
       "\n",
       "               College     Salary  \n",
       "0                Texas  7730337.0  \n",
       "1            Marquette  6796117.0  \n",
       "2    Boston University        NaN  \n",
       "3        Georgia State  1148640.0  \n",
       "4                  NaN  5000000.0  \n",
       "..                 ...        ...  \n",
       "453             Butler  2433333.0  \n",
       "454                NaN   900000.0  \n",
       "455                NaN  2900000.0  \n",
       "456             Kansas   947276.0  \n",
       "457                NaN        NaN  \n",
       "\n",
       "[458 rows x 9 columns]"
      ]
     },
     "execution_count": 198,
     "metadata": {},
     "output_type": "execute_result"
    }
   ],
   "source": [
    "nba"
   ]
  },
  {
   "cell_type": "code",
   "execution_count": 199,
   "id": "7e378ab5",
   "metadata": {},
   "outputs": [],
   "source": [
    "names = nba['Name']"
   ]
  },
  {
   "cell_type": "code",
   "execution_count": 200,
   "id": "c1b8da96",
   "metadata": {},
   "outputs": [
    {
     "data": {
      "text/plain": [
       "0      Avery Bradley\n",
       "1        Jae Crowder\n",
       "2       John Holland\n",
       "3        R.J. Hunter\n",
       "4      Jonas Jerebko\n",
       "           ...      \n",
       "453     Shelvin Mack\n",
       "454        Raul Neto\n",
       "455     Tibor Pleiss\n",
       "456      Jeff Withey\n",
       "457              NaN\n",
       "Name: Name, Length: 458, dtype: object"
      ]
     },
     "execution_count": 200,
     "metadata": {},
     "output_type": "execute_result"
    }
   ],
   "source": [
    "names"
   ]
  },
  {
   "cell_type": "code",
   "execution_count": 201,
   "id": "0a2d64ec",
   "metadata": {},
   "outputs": [
    {
     "data": {
      "text/plain": [
       "0    Avery Bradley\n",
       "1      Jae Crowder\n",
       "2     John Holland\n",
       "3      R.J. Hunter\n",
       "4    Jonas Jerebko\n",
       "Name: Name, dtype: object"
      ]
     },
     "execution_count": 201,
     "metadata": {},
     "output_type": "execute_result"
    }
   ],
   "source": [
    "names.head()"
   ]
  },
  {
   "cell_type": "code",
   "execution_count": 202,
   "id": "84751220",
   "metadata": {},
   "outputs": [
    {
     "data": {
      "text/plain": [
       "453    Shelvin Mack\n",
       "454       Raul Neto\n",
       "455    Tibor Pleiss\n",
       "456     Jeff Withey\n",
       "457             NaN\n",
       "Name: Name, dtype: object"
      ]
     },
     "execution_count": 202,
     "metadata": {},
     "output_type": "execute_result"
    }
   ],
   "source": [
    "names.tail()"
   ]
  },
  {
   "cell_type": "code",
   "execution_count": 203,
   "id": "9be9d4a4",
   "metadata": {},
   "outputs": [
    {
     "data": {
      "text/plain": [
       "0    Avery Bradley\n",
       "1      Jae Crowder\n",
       "2     John Holland\n",
       "Name: Name, dtype: object"
      ]
     },
     "execution_count": 203,
     "metadata": {},
     "output_type": "execute_result"
    }
   ],
   "source": [
    "names.head(3)"
   ]
  },
  {
   "cell_type": "code",
   "execution_count": 204,
   "id": "0bd718a5",
   "metadata": {},
   "outputs": [
    {
     "data": {
      "text/plain": [
       "455    Tibor Pleiss\n",
       "456     Jeff Withey\n",
       "457             NaN\n",
       "Name: Name, dtype: object"
      ]
     },
     "execution_count": 204,
     "metadata": {},
     "output_type": "execute_result"
    }
   ],
   "source": [
    "names.tail(3)"
   ]
  },
  {
   "cell_type": "code",
   "execution_count": 205,
   "id": "4de619b5",
   "metadata": {},
   "outputs": [],
   "source": [
    "# head() and tail() return view"
   ]
  },
  {
   "cell_type": "code",
   "execution_count": 206,
   "id": "ea86ea4f",
   "metadata": {},
   "outputs": [],
   "source": [
    "# view matlab same data"
   ]
  },
  {
   "cell_type": "code",
   "execution_count": 208,
   "id": "0dc6200b",
   "metadata": {},
   "outputs": [],
   "source": [
    "names.head(5)[0] = 'Whatever'"
   ]
  },
  {
   "cell_type": "code",
   "execution_count": 212,
   "id": "79913d1a",
   "metadata": {},
   "outputs": [
    {
     "name": "stderr",
     "output_type": "stream",
     "text": [
      "C:\\Users\\HU496FA\\AppData\\Local\\Temp\\ipykernel_33360\\2825469303.py:1: SettingWithCopyWarning: \n",
      "A value is trying to be set on a copy of a slice from a DataFrame\n",
      "\n",
      "See the caveats in the documentation: https://pandas.pydata.org/pandas-docs/stable/user_guide/indexing.html#returning-a-view-versus-a-copy\n",
      "  names.iloc[0] = 'Avery Bradley'\n"
     ]
    }
   ],
   "source": [
    "names.iloc[0] = 'Avery Bradley'"
   ]
  },
  {
   "cell_type": "code",
   "execution_count": 213,
   "id": "52049991",
   "metadata": {},
   "outputs": [
    {
     "data": {
      "text/plain": [
       "0      Avery Bradley\n",
       "1        Jae Crowder\n",
       "2       John Holland\n",
       "3        R.J. Hunter\n",
       "4      Jonas Jerebko\n",
       "           ...      \n",
       "453     Shelvin Mack\n",
       "454        Raul Neto\n",
       "455     Tibor Pleiss\n",
       "456      Jeff Withey\n",
       "457              NaN\n",
       "Name: Name, Length: 458, dtype: object"
      ]
     },
     "execution_count": 213,
     "metadata": {},
     "output_type": "execute_result"
    }
   ],
   "source": [
    "names"
   ]
  },
  {
   "cell_type": "code",
   "execution_count": 214,
   "id": "dd029a00",
   "metadata": {},
   "outputs": [],
   "source": [
    "first_five_names = names.head().copy()\n",
    "# "
   ]
  },
  {
   "cell_type": "code",
   "execution_count": 215,
   "id": "9736ef1e",
   "metadata": {},
   "outputs": [
    {
     "data": {
      "text/plain": [
       "0    Avery Bradley\n",
       "1      Jae Crowder\n",
       "2     John Holland\n",
       "3      R.J. Hunter\n",
       "4    Jonas Jerebko\n",
       "Name: Name, dtype: object"
      ]
     },
     "execution_count": 215,
     "metadata": {},
     "output_type": "execute_result"
    }
   ],
   "source": [
    "first_five_names"
   ]
  },
  {
   "cell_type": "code",
   "execution_count": 216,
   "id": "91c64f4b",
   "metadata": {},
   "outputs": [],
   "source": [
    "first_five_names[0] = 'Whatever'"
   ]
  },
  {
   "cell_type": "code",
   "execution_count": 218,
   "id": "158ae616",
   "metadata": {},
   "outputs": [
    {
     "data": {
      "text/plain": [
       "0         Whatever\n",
       "1      Jae Crowder\n",
       "2     John Holland\n",
       "3      R.J. Hunter\n",
       "4    Jonas Jerebko\n",
       "Name: Name, dtype: object"
      ]
     },
     "execution_count": 218,
     "metadata": {},
     "output_type": "execute_result"
    }
   ],
   "source": [
    "first_five_names"
   ]
  },
  {
   "cell_type": "code",
   "execution_count": 219,
   "id": "22335872",
   "metadata": {},
   "outputs": [
    {
     "data": {
      "text/plain": [
       "0      Avery Bradley\n",
       "1        Jae Crowder\n",
       "2       John Holland\n",
       "3        R.J. Hunter\n",
       "4      Jonas Jerebko\n",
       "           ...      \n",
       "453     Shelvin Mack\n",
       "454        Raul Neto\n",
       "455     Tibor Pleiss\n",
       "456      Jeff Withey\n",
       "457              NaN\n",
       "Name: Name, Length: 458, dtype: object"
      ]
     },
     "execution_count": 219,
     "metadata": {},
     "output_type": "execute_result"
    }
   ],
   "source": [
    "names"
   ]
  },
  {
   "cell_type": "code",
   "execution_count": 220,
   "id": "05f422ef",
   "metadata": {},
   "outputs": [
    {
     "data": {
      "text/plain": [
       "True"
      ]
     },
     "execution_count": 220,
     "metadata": {},
     "output_type": "execute_result"
    }
   ],
   "source": [
    "names.hasnans"
   ]
  },
  {
   "cell_type": "code",
   "execution_count": 221,
   "id": "7c395e32",
   "metadata": {},
   "outputs": [
    {
     "data": {
      "text/plain": [
       "152      Aaron Brooks\n",
       "356      Aaron Gordon\n",
       "328    Aaron Harrison\n",
       "404     Adreian Payne\n",
       "312        Al Horford\n",
       "            ...      \n",
       "270    Xavier Munford\n",
       "402       Zach LaVine\n",
       "271     Zach Randolph\n",
       "237     Zaza Pachulia\n",
       "457               NaN\n",
       "Name: Name, Length: 458, dtype: object"
      ]
     },
     "execution_count": 221,
     "metadata": {},
     "output_type": "execute_result"
    }
   ],
   "source": [
    "names.sort_values()"
   ]
  },
  {
   "cell_type": "code",
   "execution_count": 222,
   "id": "bfbd293c",
   "metadata": {},
   "outputs": [
    {
     "data": {
      "text/plain": [
       "0      Avery Bradley\n",
       "1        Jae Crowder\n",
       "2       John Holland\n",
       "3        R.J. Hunter\n",
       "4      Jonas Jerebko\n",
       "           ...      \n",
       "453     Shelvin Mack\n",
       "454        Raul Neto\n",
       "455     Tibor Pleiss\n",
       "456      Jeff Withey\n",
       "457              NaN\n",
       "Name: Name, Length: 458, dtype: object"
      ]
     },
     "execution_count": 222,
     "metadata": {},
     "output_type": "execute_result"
    }
   ],
   "source": [
    "names"
   ]
  },
  {
   "cell_type": "code",
   "execution_count": 224,
   "id": "aea90a09",
   "metadata": {},
   "outputs": [],
   "source": [
    "names = names.copy()"
   ]
  },
  {
   "cell_type": "code",
   "execution_count": 225,
   "id": "8ee550dd",
   "metadata": {},
   "outputs": [],
   "source": [
    "names.sort_values(inplace=True)"
   ]
  },
  {
   "cell_type": "code",
   "execution_count": 226,
   "id": "f3dc292f",
   "metadata": {},
   "outputs": [
    {
     "data": {
      "text/plain": [
       "152      Aaron Brooks\n",
       "356      Aaron Gordon\n",
       "328    Aaron Harrison\n",
       "404     Adreian Payne\n",
       "312        Al Horford\n",
       "            ...      \n",
       "270    Xavier Munford\n",
       "402       Zach LaVine\n",
       "271     Zach Randolph\n",
       "237     Zaza Pachulia\n",
       "457               NaN\n",
       "Name: Name, Length: 458, dtype: object"
      ]
     },
     "execution_count": 226,
     "metadata": {},
     "output_type": "execute_result"
    }
   ],
   "source": [
    "names"
   ]
  },
  {
   "cell_type": "code",
   "execution_count": 229,
   "id": "ca696f81",
   "metadata": {},
   "outputs": [],
   "source": [
    "names.sort_values(ascending = False, inplace = True)"
   ]
  },
  {
   "cell_type": "code",
   "execution_count": 230,
   "id": "57e84202",
   "metadata": {},
   "outputs": [
    {
     "data": {
      "text/plain": [
       "237      Zaza Pachulia\n",
       "271      Zach Randolph\n",
       "402        Zach LaVine\n",
       "270     Xavier Munford\n",
       "386    Wilson Chandler\n",
       "            ...       \n",
       "404      Adreian Payne\n",
       "328     Aaron Harrison\n",
       "356       Aaron Gordon\n",
       "152       Aaron Brooks\n",
       "457                NaN\n",
       "Name: Name, Length: 458, dtype: object"
      ]
     },
     "execution_count": 230,
     "metadata": {},
     "output_type": "execute_result"
    }
   ],
   "source": [
    "names"
   ]
  },
  {
   "cell_type": "code",
   "execution_count": 231,
   "id": "f2272284",
   "metadata": {},
   "outputs": [
    {
     "data": {
      "text/plain": [
       "0      Avery Bradley\n",
       "1        Jae Crowder\n",
       "2       John Holland\n",
       "3        R.J. Hunter\n",
       "4      Jonas Jerebko\n",
       "           ...      \n",
       "453     Shelvin Mack\n",
       "454        Raul Neto\n",
       "455     Tibor Pleiss\n",
       "456      Jeff Withey\n",
       "457              NaN\n",
       "Name: Name, Length: 458, dtype: object"
      ]
     },
     "execution_count": 231,
     "metadata": {},
     "output_type": "execute_result"
    }
   ],
   "source": [
    "names.sort_index()"
   ]
  },
  {
   "cell_type": "code",
   "execution_count": 232,
   "id": "55a30eb7",
   "metadata": {},
   "outputs": [
    {
     "data": {
      "text/plain": [
       "237      Zaza Pachulia\n",
       "271      Zach Randolph\n",
       "402        Zach LaVine\n",
       "270     Xavier Munford\n",
       "386    Wilson Chandler\n",
       "            ...       \n",
       "404      Adreian Payne\n",
       "328     Aaron Harrison\n",
       "356       Aaron Gordon\n",
       "152       Aaron Brooks\n",
       "457                NaN\n",
       "Name: Name, Length: 458, dtype: object"
      ]
     },
     "execution_count": 232,
     "metadata": {},
     "output_type": "execute_result"
    }
   ],
   "source": [
    "names"
   ]
  },
  {
   "cell_type": "code",
   "execution_count": 233,
   "id": "24b50df8",
   "metadata": {},
   "outputs": [],
   "source": [
    "names.sort_index(inplace = True)"
   ]
  },
  {
   "cell_type": "code",
   "execution_count": 234,
   "id": "aa2065da",
   "metadata": {},
   "outputs": [
    {
     "data": {
      "text/plain": [
       "0      Avery Bradley\n",
       "1        Jae Crowder\n",
       "2       John Holland\n",
       "3        R.J. Hunter\n",
       "4      Jonas Jerebko\n",
       "           ...      \n",
       "453     Shelvin Mack\n",
       "454        Raul Neto\n",
       "455     Tibor Pleiss\n",
       "456      Jeff Withey\n",
       "457              NaN\n",
       "Name: Name, Length: 458, dtype: object"
      ]
     },
     "execution_count": 234,
     "metadata": {},
     "output_type": "execute_result"
    }
   ],
   "source": [
    "names"
   ]
  },
  {
   "cell_type": "markdown",
   "id": "f21c5076",
   "metadata": {},
   "source": [
    "# dropna() and fillna()"
   ]
  },
  {
   "cell_type": "code",
   "execution_count": 236,
   "id": "ebec4d2f",
   "metadata": {},
   "outputs": [],
   "source": [
    "college = pd.read_csv('data/nba.csv')['College'].copy()"
   ]
  },
  {
   "cell_type": "code",
   "execution_count": 237,
   "id": "191ab9bb",
   "metadata": {},
   "outputs": [
    {
     "data": {
      "text/plain": [
       "0                  Texas\n",
       "1              Marquette\n",
       "2      Boston University\n",
       "3          Georgia State\n",
       "4                    NaN\n",
       "             ...        \n",
       "453               Butler\n",
       "454                  NaN\n",
       "455                  NaN\n",
       "456               Kansas\n",
       "457                  NaN\n",
       "Name: College, Length: 458, dtype: object"
      ]
     },
     "execution_count": 237,
     "metadata": {},
     "output_type": "execute_result"
    }
   ],
   "source": [
    "college"
   ]
  },
  {
   "cell_type": "code",
   "execution_count": 238,
   "id": "7691365e",
   "metadata": {},
   "outputs": [
    {
     "data": {
      "text/plain": [
       "True"
      ]
     },
     "execution_count": 238,
     "metadata": {},
     "output_type": "execute_result"
    }
   ],
   "source": [
    "college.hasnans"
   ]
  },
  {
   "cell_type": "code",
   "execution_count": 240,
   "id": "8559c620",
   "metadata": {},
   "outputs": [
    {
     "data": {
      "text/plain": [
       "array(['Texas', 'Marquette', 'Boston University', 'Georgia State', nan,\n",
       "       'LSU', 'Gonzaga', 'Louisville', 'Oklahoma State', 'Ohio State',\n",
       "       'Washington', 'Kentucky', 'North Carolina', 'Arizona',\n",
       "       'Georgia Tech', 'Cincinnati', 'Miami (FL)', 'Stanford', 'Syracuse',\n",
       "       'Saint Louis', 'Kansas', 'Georgetown', 'Texas A&M', 'UCLA', 'UNLV',\n",
       "       'Wichita State', \"Saint Joseph's\", 'Notre Dame', 'Norfolk State',\n",
       "       'Duke', 'Murray State', 'Tennessee State', 'Bowling Green',\n",
       "       'Purdue', 'Wake Forest', 'Michigan', 'Missouri', 'USC',\n",
       "       'Villanova', 'Rider', 'Utah', 'Belmont', 'Davidson', 'Vanderbilt',\n",
       "       'Michigan State', 'Florida', 'Washington State', 'Arizona State',\n",
       "       'Oklahoma', 'Wyoming', \"St. John's\", 'Maryland', 'Wisconsin',\n",
       "       'Utah Valley', 'North Carolina State', 'UC Santa Barbara',\n",
       "       'Baylor', 'Connecticut', 'Oregon State', 'New Mexico', 'Oregon',\n",
       "       'Creighton', 'Arkansas', 'Memphis', \"Saint Mary's\", 'Tennessee',\n",
       "       'Alabama', 'Georgia', 'Colorado', 'Boston College', 'Temple',\n",
       "       'Fresno State', 'IUPUI', 'Eastern Washington', 'Western Michigan',\n",
       "       'Virginia', 'Northeastern', 'Western Kentucky', 'Nevada',\n",
       "       'Illinois', 'Kansas State', 'Charleston', 'Clemson',\n",
       "       'Blinn College', 'Providence', 'Detroit', 'Rhode Island',\n",
       "       'California', 'Cleveland State', 'Iowa State', 'Florida State',\n",
       "       'Long Beach State', 'Penn State', 'Indiana', 'San Diego State',\n",
       "       'Western Carolina', 'Houston', 'Xavier', 'Old Dominion',\n",
       "       'Minnesota', 'Louisiana Tech', 'Bucknell', 'Pittsburgh',\n",
       "       'Virginia Commonwealth', 'Harvard', 'Marshall', 'Iowa',\n",
       "       'St. Bonaventure', 'Louisiana-Lafayette', 'Colorado State',\n",
       "       'Virginia Tech', 'DePaul', 'Morehead State', 'Central Michigan',\n",
       "       'Weber State', 'Lehigh', 'Westchester CC', 'Dayton', 'Butler'],\n",
       "      dtype=object)"
      ]
     },
     "execution_count": 240,
     "metadata": {},
     "output_type": "execute_result"
    }
   ],
   "source": [
    "college.unique() # vvimp\n",
    "# by default nan include krta he"
   ]
  },
  {
   "cell_type": "code",
   "execution_count": 241,
   "id": "df966368",
   "metadata": {},
   "outputs": [
    {
     "data": {
      "text/plain": [
       "119"
      ]
     },
     "execution_count": 241,
     "metadata": {},
     "output_type": "execute_result"
    }
   ],
   "source": [
    "len(college.unique()) # including null values"
   ]
  },
  {
   "cell_type": "code",
   "execution_count": 243,
   "id": "d14b3722",
   "metadata": {},
   "outputs": [
    {
     "data": {
      "text/plain": [
       "118"
      ]
     },
     "execution_count": 243,
     "metadata": {},
     "output_type": "execute_result"
    }
   ],
   "source": [
    "college.nunique() # tell the number of unique values excluding null values"
   ]
  },
  {
   "cell_type": "code",
   "execution_count": 246,
   "id": "225248f7",
   "metadata": {},
   "outputs": [
    {
     "data": {
      "text/plain": [
       "Tennessee State     1\n",
       "San Diego State     1\n",
       "Penn State          1\n",
       "Georgia             1\n",
       "Bowling Green       1\n",
       "                   ..\n",
       "UCLA               15\n",
       "North Carolina     16\n",
       "Kansas             18\n",
       "Duke               20\n",
       "Kentucky           22\n",
       "Name: College, Length: 118, dtype: int64"
      ]
     },
     "execution_count": 246,
     "metadata": {},
     "output_type": "execute_result"
    }
   ],
   "source": [
    "college.value_counts(ascending=True)"
   ]
  },
  {
   "cell_type": "code",
   "execution_count": 256,
   "id": "53afef4e",
   "metadata": {},
   "outputs": [
    {
     "data": {
      "text/plain": [
       "Alabama              3\n",
       "Arizona             13\n",
       "Arizona State        2\n",
       "Arkansas             3\n",
       "Baylor               1\n",
       "                    ..\n",
       "Western Michigan     1\n",
       "Wichita State        1\n",
       "Wisconsin            5\n",
       "Wyoming              1\n",
       "Xavier               1\n",
       "Name: College, Length: 118, dtype: int64"
      ]
     },
     "execution_count": 256,
     "metadata": {},
     "output_type": "execute_result"
    }
   ],
   "source": [
    "college.value_counts(ascending=True).sort_index(ascending = True) # method chaining"
   ]
  },
  {
   "cell_type": "code",
   "execution_count": 253,
   "id": "087ba131",
   "metadata": {},
   "outputs": [],
   "source": [
    "total_number_of_nan_values = len(college)-college.value_counts(ascending=True).sum()"
   ]
  },
  {
   "cell_type": "code",
   "execution_count": 255,
   "id": "0c0c5e41",
   "metadata": {},
   "outputs": [
    {
     "data": {
      "text/plain": [
       "85"
      ]
     },
     "execution_count": 255,
     "metadata": {},
     "output_type": "execute_result"
    }
   ],
   "source": [
    "total_number_of_nan_values #highly unclean data"
   ]
  },
  {
   "cell_type": "code",
   "execution_count": 257,
   "id": "2779541e",
   "metadata": {},
   "outputs": [
    {
     "data": {
      "text/plain": [
       "NaN                85\n",
       "Kentucky           22\n",
       "Duke               20\n",
       "Kansas             18\n",
       "North Carolina     16\n",
       "                   ..\n",
       "Utah Valley         1\n",
       "Cleveland State     1\n",
       "Iowa State          1\n",
       "Florida State       1\n",
       "Baylor              1\n",
       "Name: College, Length: 119, dtype: int64"
      ]
     },
     "execution_count": 257,
     "metadata": {},
     "output_type": "execute_result"
    }
   ],
   "source": [
    "college.value_counts(dropna = False)"
   ]
  },
  {
   "cell_type": "code",
   "execution_count": 258,
   "id": "0f4e703c",
   "metadata": {},
   "outputs": [],
   "source": [
    "# fill() kisi value se\n",
    "# dropna() remove krdo\n",
    "# EDA - Exploratory data analysis, Pre processing, data cleaning, exploring the data"
   ]
  },
  {
   "cell_type": "code",
   "execution_count": 259,
   "id": "3d4dbc1e",
   "metadata": {},
   "outputs": [
    {
     "data": {
      "text/plain": [
       "0                  Texas\n",
       "1              Marquette\n",
       "2      Boston University\n",
       "3          Georgia State\n",
       "4                    NaN\n",
       "             ...        \n",
       "453               Butler\n",
       "454                  NaN\n",
       "455                  NaN\n",
       "456               Kansas\n",
       "457                  NaN\n",
       "Name: College, Length: 458, dtype: object"
      ]
     },
     "execution_count": 259,
     "metadata": {},
     "output_type": "execute_result"
    }
   ],
   "source": [
    "college"
   ]
  },
  {
   "cell_type": "code",
   "execution_count": 261,
   "id": "976764dc",
   "metadata": {},
   "outputs": [],
   "source": [
    "clean_college = college.dropna()"
   ]
  },
  {
   "cell_type": "code",
   "execution_count": 263,
   "id": "4206e66d",
   "metadata": {},
   "outputs": [
    {
     "data": {
      "text/plain": [
       "373"
      ]
     },
     "execution_count": 263,
     "metadata": {},
     "output_type": "execute_result"
    }
   ],
   "source": [
    "clean_college\n",
    "len(clean_college)"
   ]
  },
  {
   "cell_type": "code",
   "execution_count": 265,
   "id": "bee33356",
   "metadata": {},
   "outputs": [],
   "source": [
    "clean_college_two = college.fillna('Unknown')"
   ]
  },
  {
   "cell_type": "code",
   "execution_count": 266,
   "id": "e9993b72",
   "metadata": {},
   "outputs": [
    {
     "data": {
      "text/plain": [
       "458"
      ]
     },
     "execution_count": 266,
     "metadata": {},
     "output_type": "execute_result"
    }
   ],
   "source": [
    "len(clean_college_two)"
   ]
  },
  {
   "cell_type": "markdown",
   "id": "4794edc3",
   "metadata": {},
   "source": [
    "# Basic Practice"
   ]
  },
  {
   "cell_type": "code",
   "execution_count": 267,
   "id": "312881ca",
   "metadata": {},
   "outputs": [],
   "source": [
    "employees = pd.read_csv('data/employees.csv')"
   ]
  },
  {
   "cell_type": "code",
   "execution_count": 268,
   "id": "ccbd660a",
   "metadata": {},
   "outputs": [
    {
     "data": {
      "text/html": [
       "<div>\n",
       "<style scoped>\n",
       "    .dataframe tbody tr th:only-of-type {\n",
       "        vertical-align: middle;\n",
       "    }\n",
       "\n",
       "    .dataframe tbody tr th {\n",
       "        vertical-align: top;\n",
       "    }\n",
       "\n",
       "    .dataframe thead th {\n",
       "        text-align: right;\n",
       "    }\n",
       "</style>\n",
       "<table border=\"1\" class=\"dataframe\">\n",
       "  <thead>\n",
       "    <tr style=\"text-align: right;\">\n",
       "      <th></th>\n",
       "      <th>First Name</th>\n",
       "      <th>Gender</th>\n",
       "      <th>Start Date</th>\n",
       "      <th>Last Login Time</th>\n",
       "      <th>Salary</th>\n",
       "      <th>Bonus %</th>\n",
       "      <th>Senior Management</th>\n",
       "      <th>Team</th>\n",
       "    </tr>\n",
       "  </thead>\n",
       "  <tbody>\n",
       "    <tr>\n",
       "      <th>0</th>\n",
       "      <td>Douglas</td>\n",
       "      <td>Male</td>\n",
       "      <td>8/6/1993</td>\n",
       "      <td>12:42 PM</td>\n",
       "      <td>97308</td>\n",
       "      <td>6.945</td>\n",
       "      <td>True</td>\n",
       "      <td>Marketing</td>\n",
       "    </tr>\n",
       "    <tr>\n",
       "      <th>1</th>\n",
       "      <td>Thomas</td>\n",
       "      <td>Male</td>\n",
       "      <td>3/31/1996</td>\n",
       "      <td>6:53 AM</td>\n",
       "      <td>61933</td>\n",
       "      <td>4.170</td>\n",
       "      <td>True</td>\n",
       "      <td>NaN</td>\n",
       "    </tr>\n",
       "    <tr>\n",
       "      <th>2</th>\n",
       "      <td>Maria</td>\n",
       "      <td>Female</td>\n",
       "      <td>4/23/1993</td>\n",
       "      <td>11:17 AM</td>\n",
       "      <td>130590</td>\n",
       "      <td>11.858</td>\n",
       "      <td>False</td>\n",
       "      <td>Finance</td>\n",
       "    </tr>\n",
       "    <tr>\n",
       "      <th>3</th>\n",
       "      <td>Jerry</td>\n",
       "      <td>Male</td>\n",
       "      <td>3/4/2005</td>\n",
       "      <td>1:00 PM</td>\n",
       "      <td>138705</td>\n",
       "      <td>9.340</td>\n",
       "      <td>True</td>\n",
       "      <td>Finance</td>\n",
       "    </tr>\n",
       "    <tr>\n",
       "      <th>4</th>\n",
       "      <td>Larry</td>\n",
       "      <td>Male</td>\n",
       "      <td>1/24/1998</td>\n",
       "      <td>4:47 PM</td>\n",
       "      <td>101004</td>\n",
       "      <td>1.389</td>\n",
       "      <td>True</td>\n",
       "      <td>Client Services</td>\n",
       "    </tr>\n",
       "    <tr>\n",
       "      <th>...</th>\n",
       "      <td>...</td>\n",
       "      <td>...</td>\n",
       "      <td>...</td>\n",
       "      <td>...</td>\n",
       "      <td>...</td>\n",
       "      <td>...</td>\n",
       "      <td>...</td>\n",
       "      <td>...</td>\n",
       "    </tr>\n",
       "    <tr>\n",
       "      <th>995</th>\n",
       "      <td>Henry</td>\n",
       "      <td>NaN</td>\n",
       "      <td>11/23/2014</td>\n",
       "      <td>6:09 AM</td>\n",
       "      <td>132483</td>\n",
       "      <td>16.655</td>\n",
       "      <td>False</td>\n",
       "      <td>Distribution</td>\n",
       "    </tr>\n",
       "    <tr>\n",
       "      <th>996</th>\n",
       "      <td>Phillip</td>\n",
       "      <td>Male</td>\n",
       "      <td>1/31/1984</td>\n",
       "      <td>6:30 AM</td>\n",
       "      <td>42392</td>\n",
       "      <td>19.675</td>\n",
       "      <td>False</td>\n",
       "      <td>Finance</td>\n",
       "    </tr>\n",
       "    <tr>\n",
       "      <th>997</th>\n",
       "      <td>Russell</td>\n",
       "      <td>Male</td>\n",
       "      <td>5/20/2013</td>\n",
       "      <td>12:39 PM</td>\n",
       "      <td>96914</td>\n",
       "      <td>1.421</td>\n",
       "      <td>False</td>\n",
       "      <td>Product</td>\n",
       "    </tr>\n",
       "    <tr>\n",
       "      <th>998</th>\n",
       "      <td>Larry</td>\n",
       "      <td>Male</td>\n",
       "      <td>4/20/2013</td>\n",
       "      <td>4:45 PM</td>\n",
       "      <td>60500</td>\n",
       "      <td>11.985</td>\n",
       "      <td>False</td>\n",
       "      <td>Business Development</td>\n",
       "    </tr>\n",
       "    <tr>\n",
       "      <th>999</th>\n",
       "      <td>Albert</td>\n",
       "      <td>Male</td>\n",
       "      <td>5/15/2012</td>\n",
       "      <td>6:24 PM</td>\n",
       "      <td>129949</td>\n",
       "      <td>10.169</td>\n",
       "      <td>True</td>\n",
       "      <td>Sales</td>\n",
       "    </tr>\n",
       "  </tbody>\n",
       "</table>\n",
       "<p>1000 rows × 8 columns</p>\n",
       "</div>"
      ],
      "text/plain": [
       "    First Name  Gender  Start Date Last Login Time  Salary  Bonus %  \\\n",
       "0      Douglas    Male    8/6/1993        12:42 PM   97308    6.945   \n",
       "1       Thomas    Male   3/31/1996         6:53 AM   61933    4.170   \n",
       "2        Maria  Female   4/23/1993        11:17 AM  130590   11.858   \n",
       "3        Jerry    Male    3/4/2005         1:00 PM  138705    9.340   \n",
       "4        Larry    Male   1/24/1998         4:47 PM  101004    1.389   \n",
       "..         ...     ...         ...             ...     ...      ...   \n",
       "995      Henry     NaN  11/23/2014         6:09 AM  132483   16.655   \n",
       "996    Phillip    Male   1/31/1984         6:30 AM   42392   19.675   \n",
       "997    Russell    Male   5/20/2013        12:39 PM   96914    1.421   \n",
       "998      Larry    Male   4/20/2013         4:45 PM   60500   11.985   \n",
       "999     Albert    Male   5/15/2012         6:24 PM  129949   10.169   \n",
       "\n",
       "    Senior Management                  Team  \n",
       "0                True             Marketing  \n",
       "1                True                   NaN  \n",
       "2               False               Finance  \n",
       "3                True               Finance  \n",
       "4                True       Client Services  \n",
       "..                ...                   ...  \n",
       "995             False          Distribution  \n",
       "996             False               Finance  \n",
       "997             False               Product  \n",
       "998             False  Business Development  \n",
       "999              True                 Sales  \n",
       "\n",
       "[1000 rows x 8 columns]"
      ]
     },
     "execution_count": 268,
     "metadata": {},
     "output_type": "execute_result"
    }
   ],
   "source": [
    "employees"
   ]
  },
  {
   "cell_type": "code",
   "execution_count": 269,
   "id": "ff05f232",
   "metadata": {},
   "outputs": [],
   "source": [
    "salary = employees['Salary'].copy()"
   ]
  },
  {
   "cell_type": "code",
   "execution_count": 270,
   "id": "78cb7c71",
   "metadata": {},
   "outputs": [],
   "source": [
    "bonus = employees['Bonus %'].copy()"
   ]
  },
  {
   "cell_type": "code",
   "execution_count": 271,
   "id": "5a36cb67",
   "metadata": {},
   "outputs": [
    {
     "data": {
      "text/plain": [
       "0       97308\n",
       "1       61933\n",
       "2      130590\n",
       "3      138705\n",
       "4      101004\n",
       "        ...  \n",
       "995    132483\n",
       "996     42392\n",
       "997     96914\n",
       "998     60500\n",
       "999    129949\n",
       "Name: Salary, Length: 1000, dtype: int64"
      ]
     },
     "execution_count": 271,
     "metadata": {},
     "output_type": "execute_result"
    }
   ],
   "source": [
    "salary"
   ]
  },
  {
   "cell_type": "code",
   "execution_count": 272,
   "id": "710b80a6",
   "metadata": {},
   "outputs": [
    {
     "data": {
      "text/plain": [
       "0       6.945\n",
       "1       4.170\n",
       "2      11.858\n",
       "3       9.340\n",
       "4       1.389\n",
       "        ...  \n",
       "995    16.655\n",
       "996    19.675\n",
       "997     1.421\n",
       "998    11.985\n",
       "999    10.169\n",
       "Name: Bonus %, Length: 1000, dtype: float64"
      ]
     },
     "execution_count": 272,
     "metadata": {},
     "output_type": "execute_result"
    }
   ],
   "source": [
    "bonus"
   ]
  },
  {
   "cell_type": "code",
   "execution_count": 274,
   "id": "de977950",
   "metadata": {},
   "outputs": [],
   "source": [
    "# salary 50000 se kam he unka average bonus kitna he"
   ]
  },
  {
   "cell_type": "code",
   "execution_count": 275,
   "id": "86ffff31",
   "metadata": {},
   "outputs": [],
   "source": [
    "# series\n",
    "salary_less_than_50000 = [i for i in salary.values if i < 50000] # ghatiya tareka revision 0"
   ]
  },
  {
   "cell_type": "code",
   "execution_count": 277,
   "id": "00299d53",
   "metadata": {},
   "outputs": [],
   "source": [
    "mask = salary < 50000"
   ]
  },
  {
   "cell_type": "code",
   "execution_count": 278,
   "id": "2ec9f9cb",
   "metadata": {},
   "outputs": [
    {
     "data": {
      "text/plain": [
       "0      False\n",
       "1      False\n",
       "2      False\n",
       "3      False\n",
       "4      False\n",
       "       ...  \n",
       "995    False\n",
       "996     True\n",
       "997    False\n",
       "998    False\n",
       "999    False\n",
       "Name: Salary, Length: 1000, dtype: bool"
      ]
     },
     "execution_count": 278,
     "metadata": {},
     "output_type": "execute_result"
    }
   ],
   "source": [
    "mask"
   ]
  },
  {
   "cell_type": "code",
   "execution_count": 280,
   "id": "951c92ce",
   "metadata": {},
   "outputs": [],
   "source": [
    "salary_less_than_50000 = salary[mask]"
   ]
  },
  {
   "cell_type": "code",
   "execution_count": 281,
   "id": "dc7d2b80",
   "metadata": {},
   "outputs": [
    {
     "data": {
      "text/plain": [
       "7      45906\n",
       "14     41426\n",
       "25     37076\n",
       "26     37598\n",
       "38     36844\n",
       "       ...  \n",
       "980    46233\n",
       "984    43455\n",
       "988    47638\n",
       "989    38344\n",
       "996    42392\n",
       "Name: Salary, Length: 146, dtype: int64"
      ]
     },
     "execution_count": 281,
     "metadata": {},
     "output_type": "execute_result"
    }
   ],
   "source": [
    "salary_less_than_50000"
   ]
  },
  {
   "cell_type": "code",
   "execution_count": 286,
   "id": "12fb1fef",
   "metadata": {},
   "outputs": [
    {
     "data": {
      "text/plain": [
       "10.341438356164383"
      ]
     },
     "execution_count": 286,
     "metadata": {},
     "output_type": "execute_result"
    }
   ],
   "source": [
    "bonus[mask].mean()"
   ]
  },
  {
   "cell_type": "code",
   "execution_count": 287,
   "id": "8c041ede",
   "metadata": {},
   "outputs": [],
   "source": [
    "ans = 10.341438356164383"
   ]
  },
  {
   "cell_type": "code",
   "execution_count": 288,
   "id": "6e543198",
   "metadata": {},
   "outputs": [],
   "source": [
    "# how many people in senior management"
   ]
  },
  {
   "cell_type": "code",
   "execution_count": 296,
   "id": "11655008",
   "metadata": {},
   "outputs": [],
   "source": [
    "senior_management = employees['Senior Management'].copy()"
   ]
  },
  {
   "cell_type": "code",
   "execution_count": 297,
   "id": "95c81b3b",
   "metadata": {},
   "outputs": [
    {
     "data": {
      "text/plain": [
       "0       True\n",
       "1       True\n",
       "2      False\n",
       "3       True\n",
       "4       True\n",
       "       ...  \n",
       "995    False\n",
       "996    False\n",
       "997    False\n",
       "998    False\n",
       "999     True\n",
       "Name: Senior Management, Length: 1000, dtype: object"
      ]
     },
     "execution_count": 297,
     "metadata": {},
     "output_type": "execute_result"
    }
   ],
   "source": [
    "senior_management"
   ]
  },
  {
   "cell_type": "code",
   "execution_count": 291,
   "id": "d66d3a07",
   "metadata": {},
   "outputs": [],
   "source": [
    "# Way 1"
   ]
  },
  {
   "cell_type": "code",
   "execution_count": 299,
   "id": "3af77807",
   "metadata": {},
   "outputs": [
    {
     "data": {
      "text/plain": [
       "True     468\n",
       "False    465\n",
       "NaN       67\n",
       "Name: Senior Management, dtype: int64"
      ]
     },
     "execution_count": 299,
     "metadata": {},
     "output_type": "execute_result"
    }
   ],
   "source": [
    "senior_management.value_counts(dropna = False)"
   ]
  },
  {
   "cell_type": "code",
   "execution_count": 294,
   "id": "a72c9950",
   "metadata": {},
   "outputs": [
    {
     "data": {
      "text/plain": [
       "0       True\n",
       "1       True\n",
       "2      False\n",
       "3       True\n",
       "4       True\n",
       "       ...  \n",
       "995    False\n",
       "996    False\n",
       "997    False\n",
       "998    False\n",
       "999     True\n",
       "Name: Senior Management, Length: 1000, dtype: bool"
      ]
     },
     "execution_count": 294,
     "metadata": {},
     "output_type": "execute_result"
    }
   ],
   "source": [
    "senior_management.astype(bool)"
   ]
  },
  {
   "cell_type": "code",
   "execution_count": 302,
   "id": "4579ef24",
   "metadata": {},
   "outputs": [
    {
     "data": {
      "text/plain": [
       "True     46.8\n",
       "False    46.5\n",
       "NaN       6.7\n",
       "Name: Senior Management, dtype: float64"
      ]
     },
     "execution_count": 302,
     "metadata": {},
     "output_type": "execute_result"
    }
   ],
   "source": [
    "senior_management.value_counts(dropna = False, normalize = True) * 100"
   ]
  },
  {
   "cell_type": "markdown",
   "id": "1c27b815",
   "metadata": {},
   "source": [
    "# Interesting concept"
   ]
  },
  {
   "cell_type": "code",
   "execution_count": 316,
   "id": "c5c4e3d7",
   "metadata": {},
   "outputs": [],
   "source": [
    "gender = employees['Gender'].copy()"
   ]
  },
  {
   "cell_type": "code",
   "execution_count": 317,
   "id": "985b4931",
   "metadata": {},
   "outputs": [
    {
     "data": {
      "text/plain": [
       "0        Male\n",
       "1        Male\n",
       "2      Female\n",
       "3        Male\n",
       "4        Male\n",
       "        ...  \n",
       "995       NaN\n",
       "996      Male\n",
       "997      Male\n",
       "998      Male\n",
       "999      Male\n",
       "Name: Gender, Length: 1000, dtype: object"
      ]
     },
     "execution_count": 317,
     "metadata": {},
     "output_type": "execute_result"
    }
   ],
   "source": [
    "gender"
   ]
  },
  {
   "cell_type": "code",
   "execution_count": 318,
   "id": "8bedf48f",
   "metadata": {},
   "outputs": [
    {
     "name": "stdout",
     "output_type": "stream",
     "text": [
      "<class 'pandas.core.series.Series'>\n",
      "RangeIndex: 1000 entries, 0 to 999\n",
      "Series name: Gender\n",
      "Non-Null Count  Dtype \n",
      "--------------  ----- \n",
      "855 non-null    object\n",
      "dtypes: object(1)\n",
      "memory usage: 7.9+ KB\n"
     ]
    }
   ],
   "source": [
    "gender.info()"
   ]
  },
  {
   "cell_type": "code",
   "execution_count": 319,
   "id": "cf5d4bcd",
   "metadata": {},
   "outputs": [],
   "source": [
    "gender1 = gender.dropna()"
   ]
  },
  {
   "cell_type": "code",
   "execution_count": 330,
   "id": "8cbd57b8",
   "metadata": {},
   "outputs": [
    {
     "data": {
      "text/plain": [
       "0        Male\n",
       "1        Male\n",
       "2      Female\n",
       "3        Male\n",
       "4        Male\n",
       "        ...  \n",
       "995       NaN\n",
       "996      Male\n",
       "997      Male\n",
       "998      Male\n",
       "999      Male\n",
       "Name: Gender, Length: 1000, dtype: object"
      ]
     },
     "execution_count": 330,
     "metadata": {},
     "output_type": "execute_result"
    }
   ],
   "source": [
    "gender"
   ]
  },
  {
   "cell_type": "code",
   "execution_count": 321,
   "id": "fc00f6f1",
   "metadata": {},
   "outputs": [
    {
     "name": "stdout",
     "output_type": "stream",
     "text": [
      "<class 'pandas.core.series.Series'>\n",
      "RangeIndex: 1000 entries, 0 to 999\n",
      "Series name: Gender\n",
      "Non-Null Count  Dtype \n",
      "--------------  ----- \n",
      "855 non-null    object\n",
      "dtypes: object(1)\n",
      "memory usage: 7.9+ KB\n"
     ]
    }
   ],
   "source": [
    "gender.info()"
   ]
  },
  {
   "cell_type": "code",
   "execution_count": 322,
   "id": "0f6e9444",
   "metadata": {},
   "outputs": [
    {
     "name": "stdout",
     "output_type": "stream",
     "text": [
      "<class 'pandas.core.series.Series'>\n",
      "Int64Index: 855 entries, 0 to 999\n",
      "Series name: Gender\n",
      "Non-Null Count  Dtype \n",
      "--------------  ----- \n",
      "855 non-null    object\n",
      "dtypes: object(1)\n",
      "memory usage: 13.4+ KB\n"
     ]
    }
   ],
   "source": [
    "gender1.info()"
   ]
  },
  {
   "cell_type": "code",
   "execution_count": 323,
   "id": "44d5aad2",
   "metadata": {},
   "outputs": [
    {
     "data": {
      "text/plain": [
       "False"
      ]
     },
     "execution_count": 323,
     "metadata": {},
     "output_type": "execute_result"
    }
   ],
   "source": [
    "gender1.hasnans"
   ]
  },
  {
   "cell_type": "code",
   "execution_count": 324,
   "id": "67886020",
   "metadata": {},
   "outputs": [
    {
     "data": {
      "text/plain": [
       "0        Male\n",
       "1        Male\n",
       "2      Female\n",
       "3        Male\n",
       "4        Male\n",
       "        ...  \n",
       "994      Male\n",
       "996      Male\n",
       "997      Male\n",
       "998      Male\n",
       "999      Male\n",
       "Name: Gender, Length: 855, dtype: object"
      ]
     },
     "execution_count": 324,
     "metadata": {},
     "output_type": "execute_result"
    }
   ],
   "source": [
    "gender1"
   ]
  },
  {
   "cell_type": "code",
   "execution_count": 325,
   "id": "b8270330",
   "metadata": {},
   "outputs": [],
   "source": [
    "# In pandas object means String"
   ]
  },
  {
   "cell_type": "code",
   "execution_count": 326,
   "id": "2fbcd34e",
   "metadata": {},
   "outputs": [
    {
     "data": {
      "text/plain": [
       "2"
      ]
     },
     "execution_count": 326,
     "metadata": {},
     "output_type": "execute_result"
    }
   ],
   "source": [
    "gender1.nunique()"
   ]
  },
  {
   "cell_type": "code",
   "execution_count": 327,
   "id": "a0bf5901",
   "metadata": {},
   "outputs": [
    {
     "data": {
      "text/plain": [
       "855"
      ]
     },
     "execution_count": 327,
     "metadata": {},
     "output_type": "execute_result"
    }
   ],
   "source": [
    "len(gender1)"
   ]
  },
  {
   "cell_type": "code",
   "execution_count": 331,
   "id": "0ec6011d",
   "metadata": {},
   "outputs": [],
   "source": [
    "# categorize kr skte hain\n",
    "gender1 = gender1.astype('category')"
   ]
  },
  {
   "cell_type": "code",
   "execution_count": 332,
   "id": "714d37a6",
   "metadata": {},
   "outputs": [
    {
     "data": {
      "text/plain": [
       "0        Male\n",
       "1        Male\n",
       "2      Female\n",
       "3        Male\n",
       "4        Male\n",
       "        ...  \n",
       "994      Male\n",
       "996      Male\n",
       "997      Male\n",
       "998      Male\n",
       "999      Male\n",
       "Name: Gender, Length: 855, dtype: category\n",
       "Categories (2, object): ['Female', 'Male']"
      ]
     },
     "execution_count": 332,
     "metadata": {},
     "output_type": "execute_result"
    }
   ],
   "source": [
    "gender1"
   ]
  },
  {
   "cell_type": "code",
   "execution_count": 333,
   "id": "c2fb7bee",
   "metadata": {},
   "outputs": [
    {
     "name": "stdout",
     "output_type": "stream",
     "text": [
      "<class 'pandas.core.series.Series'>\n",
      "Int64Index: 855 entries, 0 to 999\n",
      "Series name: Gender\n",
      "Non-Null Count  Dtype   \n",
      "--------------  -----   \n",
      "855 non-null    category\n",
      "dtypes: category(1)\n",
      "memory usage: 7.6 KB\n"
     ]
    }
   ],
   "source": [
    "gender1.info()"
   ]
  },
  {
   "cell_type": "code",
   "execution_count": 334,
   "id": "f0ef2304",
   "metadata": {},
   "outputs": [],
   "source": [
    "chicago = pd.read_csv('data/chicago.csv')"
   ]
  },
  {
   "cell_type": "code",
   "execution_count": 335,
   "id": "9e55386e",
   "metadata": {},
   "outputs": [
    {
     "data": {
      "text/html": [
       "<div>\n",
       "<style scoped>\n",
       "    .dataframe tbody tr th:only-of-type {\n",
       "        vertical-align: middle;\n",
       "    }\n",
       "\n",
       "    .dataframe tbody tr th {\n",
       "        vertical-align: top;\n",
       "    }\n",
       "\n",
       "    .dataframe thead th {\n",
       "        text-align: right;\n",
       "    }\n",
       "</style>\n",
       "<table border=\"1\" class=\"dataframe\">\n",
       "  <thead>\n",
       "    <tr style=\"text-align: right;\">\n",
       "      <th></th>\n",
       "      <th>Name</th>\n",
       "      <th>Position Title</th>\n",
       "      <th>Department</th>\n",
       "      <th>Employee Annual Salary</th>\n",
       "    </tr>\n",
       "  </thead>\n",
       "  <tbody>\n",
       "    <tr>\n",
       "      <th>0</th>\n",
       "      <td>AARON,  ELVIA J</td>\n",
       "      <td>WATER RATE TAKER</td>\n",
       "      <td>WATER MGMNT</td>\n",
       "      <td>$90744.00</td>\n",
       "    </tr>\n",
       "    <tr>\n",
       "      <th>1</th>\n",
       "      <td>AARON,  JEFFERY M</td>\n",
       "      <td>POLICE OFFICER</td>\n",
       "      <td>POLICE</td>\n",
       "      <td>$84450.00</td>\n",
       "    </tr>\n",
       "    <tr>\n",
       "      <th>2</th>\n",
       "      <td>AARON,  KARINA</td>\n",
       "      <td>POLICE OFFICER</td>\n",
       "      <td>POLICE</td>\n",
       "      <td>$84450.00</td>\n",
       "    </tr>\n",
       "    <tr>\n",
       "      <th>3</th>\n",
       "      <td>AARON,  KIMBERLEI R</td>\n",
       "      <td>CHIEF CONTRACT EXPEDITER</td>\n",
       "      <td>GENERAL SERVICES</td>\n",
       "      <td>$89880.00</td>\n",
       "    </tr>\n",
       "    <tr>\n",
       "      <th>4</th>\n",
       "      <td>ABAD JR,  VICENTE M</td>\n",
       "      <td>CIVIL ENGINEER IV</td>\n",
       "      <td>WATER MGMNT</td>\n",
       "      <td>$106836.00</td>\n",
       "    </tr>\n",
       "    <tr>\n",
       "      <th>...</th>\n",
       "      <td>...</td>\n",
       "      <td>...</td>\n",
       "      <td>...</td>\n",
       "      <td>...</td>\n",
       "    </tr>\n",
       "    <tr>\n",
       "      <th>32058</th>\n",
       "      <td>ZYGOWICZ,  PETER J</td>\n",
       "      <td>POLICE OFFICER</td>\n",
       "      <td>POLICE</td>\n",
       "      <td>$87384.00</td>\n",
       "    </tr>\n",
       "    <tr>\n",
       "      <th>32059</th>\n",
       "      <td>ZYMANTAS,  MARK E</td>\n",
       "      <td>POLICE OFFICER</td>\n",
       "      <td>POLICE</td>\n",
       "      <td>$84450.00</td>\n",
       "    </tr>\n",
       "    <tr>\n",
       "      <th>32060</th>\n",
       "      <td>ZYRKOWSKI,  CARLO E</td>\n",
       "      <td>POLICE OFFICER</td>\n",
       "      <td>POLICE</td>\n",
       "      <td>$87384.00</td>\n",
       "    </tr>\n",
       "    <tr>\n",
       "      <th>32061</th>\n",
       "      <td>ZYSKOWSKI,  DARIUSZ</td>\n",
       "      <td>CHIEF DATA BASE ANALYST</td>\n",
       "      <td>DoIT</td>\n",
       "      <td>$113664.00</td>\n",
       "    </tr>\n",
       "    <tr>\n",
       "      <th>32062</th>\n",
       "      <td>NaN</td>\n",
       "      <td>NaN</td>\n",
       "      <td>NaN</td>\n",
       "      <td>NaN</td>\n",
       "    </tr>\n",
       "  </tbody>\n",
       "</table>\n",
       "<p>32063 rows × 4 columns</p>\n",
       "</div>"
      ],
      "text/plain": [
       "                      Name            Position Title        Department  \\\n",
       "0          AARON,  ELVIA J          WATER RATE TAKER       WATER MGMNT   \n",
       "1        AARON,  JEFFERY M            POLICE OFFICER            POLICE   \n",
       "2           AARON,  KARINA            POLICE OFFICER            POLICE   \n",
       "3      AARON,  KIMBERLEI R  CHIEF CONTRACT EXPEDITER  GENERAL SERVICES   \n",
       "4      ABAD JR,  VICENTE M         CIVIL ENGINEER IV       WATER MGMNT   \n",
       "...                    ...                       ...               ...   \n",
       "32058   ZYGOWICZ,  PETER J            POLICE OFFICER            POLICE   \n",
       "32059    ZYMANTAS,  MARK E            POLICE OFFICER            POLICE   \n",
       "32060  ZYRKOWSKI,  CARLO E            POLICE OFFICER            POLICE   \n",
       "32061  ZYSKOWSKI,  DARIUSZ   CHIEF DATA BASE ANALYST              DoIT   \n",
       "32062                  NaN                       NaN               NaN   \n",
       "\n",
       "      Employee Annual Salary  \n",
       "0                  $90744.00  \n",
       "1                  $84450.00  \n",
       "2                  $84450.00  \n",
       "3                  $89880.00  \n",
       "4                 $106836.00  \n",
       "...                      ...  \n",
       "32058              $87384.00  \n",
       "32059              $84450.00  \n",
       "32060              $87384.00  \n",
       "32061             $113664.00  \n",
       "32062                    NaN  \n",
       "\n",
       "[32063 rows x 4 columns]"
      ]
     },
     "execution_count": 335,
     "metadata": {},
     "output_type": "execute_result"
    }
   ],
   "source": [
    "chicago"
   ]
  },
  {
   "cell_type": "code",
   "execution_count": 336,
   "id": "ed19f800",
   "metadata": {},
   "outputs": [],
   "source": [
    "chicago_names = chicago['Name'].copy()"
   ]
  },
  {
   "cell_type": "code",
   "execution_count": 337,
   "id": "2c8aa0e4",
   "metadata": {},
   "outputs": [
    {
     "data": {
      "text/plain": [
       "0            AARON,  ELVIA J\n",
       "1          AARON,  JEFFERY M\n",
       "2             AARON,  KARINA\n",
       "3        AARON,  KIMBERLEI R\n",
       "4        ABAD JR,  VICENTE M\n",
       "                ...         \n",
       "32058     ZYGOWICZ,  PETER J\n",
       "32059      ZYMANTAS,  MARK E\n",
       "32060    ZYRKOWSKI,  CARLO E\n",
       "32061    ZYSKOWSKI,  DARIUSZ\n",
       "32062                    NaN\n",
       "Name: Name, Length: 32063, dtype: object"
      ]
     },
     "execution_count": 337,
     "metadata": {},
     "output_type": "execute_result"
    }
   ],
   "source": [
    "chicago_names"
   ]
  },
  {
   "cell_type": "code",
   "execution_count": 339,
   "id": "a38b842d",
   "metadata": {},
   "outputs": [],
   "source": [
    "chicago_names = chicago_names.str.strip()"
   ]
  },
  {
   "cell_type": "code",
   "execution_count": 340,
   "id": "b3601b54",
   "metadata": {},
   "outputs": [
    {
     "data": {
      "text/plain": [
       "0            AARON,  ELVIA J\n",
       "1          AARON,  JEFFERY M\n",
       "2             AARON,  KARINA\n",
       "3        AARON,  KIMBERLEI R\n",
       "4        ABAD JR,  VICENTE M\n",
       "                ...         \n",
       "32058     ZYGOWICZ,  PETER J\n",
       "32059      ZYMANTAS,  MARK E\n",
       "32060    ZYRKOWSKI,  CARLO E\n",
       "32061    ZYSKOWSKI,  DARIUSZ\n",
       "32062                    NaN\n",
       "Name: Name, Length: 32063, dtype: object"
      ]
     },
     "execution_count": 340,
     "metadata": {},
     "output_type": "execute_result"
    }
   ],
   "source": [
    "chicago_names"
   ]
  },
  {
   "cell_type": "code",
   "execution_count": 347,
   "id": "893aab95",
   "metadata": {},
   "outputs": [
    {
     "data": {
      "text/html": [
       "<div>\n",
       "<style scoped>\n",
       "    .dataframe tbody tr th:only-of-type {\n",
       "        vertical-align: middle;\n",
       "    }\n",
       "\n",
       "    .dataframe tbody tr th {\n",
       "        vertical-align: top;\n",
       "    }\n",
       "\n",
       "    .dataframe thead th {\n",
       "        text-align: right;\n",
       "    }\n",
       "</style>\n",
       "<table border=\"1\" class=\"dataframe\">\n",
       "  <thead>\n",
       "    <tr style=\"text-align: right;\">\n",
       "      <th></th>\n",
       "      <th>0</th>\n",
       "      <th>1</th>\n",
       "      <th>2</th>\n",
       "      <th>3</th>\n",
       "      <th>4</th>\n",
       "      <th>5</th>\n",
       "      <th>6</th>\n",
       "    </tr>\n",
       "  </thead>\n",
       "  <tbody>\n",
       "    <tr>\n",
       "      <th>0</th>\n",
       "      <td>AARON,</td>\n",
       "      <td></td>\n",
       "      <td>ELVIA</td>\n",
       "      <td>J</td>\n",
       "      <td>None</td>\n",
       "      <td>None</td>\n",
       "      <td>None</td>\n",
       "    </tr>\n",
       "    <tr>\n",
       "      <th>1</th>\n",
       "      <td>AARON,</td>\n",
       "      <td></td>\n",
       "      <td>JEFFERY</td>\n",
       "      <td>M</td>\n",
       "      <td>None</td>\n",
       "      <td>None</td>\n",
       "      <td>None</td>\n",
       "    </tr>\n",
       "    <tr>\n",
       "      <th>2</th>\n",
       "      <td>AARON,</td>\n",
       "      <td></td>\n",
       "      <td>KARINA</td>\n",
       "      <td>None</td>\n",
       "      <td>None</td>\n",
       "      <td>None</td>\n",
       "      <td>None</td>\n",
       "    </tr>\n",
       "    <tr>\n",
       "      <th>3</th>\n",
       "      <td>AARON,</td>\n",
       "      <td></td>\n",
       "      <td>KIMBERLEI</td>\n",
       "      <td>R</td>\n",
       "      <td>None</td>\n",
       "      <td>None</td>\n",
       "      <td>None</td>\n",
       "    </tr>\n",
       "    <tr>\n",
       "      <th>4</th>\n",
       "      <td>ABAD</td>\n",
       "      <td>JR,</td>\n",
       "      <td></td>\n",
       "      <td>VICENTE</td>\n",
       "      <td>M</td>\n",
       "      <td>None</td>\n",
       "      <td>None</td>\n",
       "    </tr>\n",
       "    <tr>\n",
       "      <th>...</th>\n",
       "      <td>...</td>\n",
       "      <td>...</td>\n",
       "      <td>...</td>\n",
       "      <td>...</td>\n",
       "      <td>...</td>\n",
       "      <td>...</td>\n",
       "      <td>...</td>\n",
       "    </tr>\n",
       "    <tr>\n",
       "      <th>32058</th>\n",
       "      <td>ZYGOWICZ,</td>\n",
       "      <td></td>\n",
       "      <td>PETER</td>\n",
       "      <td>J</td>\n",
       "      <td>None</td>\n",
       "      <td>None</td>\n",
       "      <td>None</td>\n",
       "    </tr>\n",
       "    <tr>\n",
       "      <th>32059</th>\n",
       "      <td>ZYMANTAS,</td>\n",
       "      <td></td>\n",
       "      <td>MARK</td>\n",
       "      <td>E</td>\n",
       "      <td>None</td>\n",
       "      <td>None</td>\n",
       "      <td>None</td>\n",
       "    </tr>\n",
       "    <tr>\n",
       "      <th>32060</th>\n",
       "      <td>ZYRKOWSKI,</td>\n",
       "      <td></td>\n",
       "      <td>CARLO</td>\n",
       "      <td>E</td>\n",
       "      <td>None</td>\n",
       "      <td>None</td>\n",
       "      <td>None</td>\n",
       "    </tr>\n",
       "    <tr>\n",
       "      <th>32061</th>\n",
       "      <td>ZYSKOWSKI,</td>\n",
       "      <td></td>\n",
       "      <td>DARIUSZ</td>\n",
       "      <td>None</td>\n",
       "      <td>None</td>\n",
       "      <td>None</td>\n",
       "      <td>None</td>\n",
       "    </tr>\n",
       "    <tr>\n",
       "      <th>32062</th>\n",
       "      <td>NaN</td>\n",
       "      <td>NaN</td>\n",
       "      <td>NaN</td>\n",
       "      <td>NaN</td>\n",
       "      <td>NaN</td>\n",
       "      <td>NaN</td>\n",
       "      <td>NaN</td>\n",
       "    </tr>\n",
       "  </tbody>\n",
       "</table>\n",
       "<p>32063 rows × 7 columns</p>\n",
       "</div>"
      ],
      "text/plain": [
       "                0    1          2        3     4     5     6\n",
       "0          AARON,           ELVIA        J  None  None  None\n",
       "1          AARON,         JEFFERY        M  None  None  None\n",
       "2          AARON,          KARINA     None  None  None  None\n",
       "3          AARON,       KIMBERLEI        R  None  None  None\n",
       "4            ABAD  JR,             VICENTE     M  None  None\n",
       "...           ...  ...        ...      ...   ...   ...   ...\n",
       "32058   ZYGOWICZ,           PETER        J  None  None  None\n",
       "32059   ZYMANTAS,            MARK        E  None  None  None\n",
       "32060  ZYRKOWSKI,           CARLO        E  None  None  None\n",
       "32061  ZYSKOWSKI,         DARIUSZ     None  None  None  None\n",
       "32062         NaN  NaN        NaN      NaN   NaN   NaN   NaN\n",
       "\n",
       "[32063 rows x 7 columns]"
      ]
     },
     "execution_count": 347,
     "metadata": {},
     "output_type": "execute_result"
    }
   ],
   "source": [
    "chicago_names.str.split(' ', expand=True)"
   ]
  },
  {
   "cell_type": "code",
   "execution_count": 349,
   "id": "9bebd5f0",
   "metadata": {},
   "outputs": [],
   "source": [
    "chicago[['x','y','z','d','e','f', 'j']] = chicago_names.str.split(' ', expand=True)"
   ]
  },
  {
   "cell_type": "code",
   "execution_count": 350,
   "id": "e01047b8",
   "metadata": {},
   "outputs": [
    {
     "data": {
      "text/html": [
       "<div>\n",
       "<style scoped>\n",
       "    .dataframe tbody tr th:only-of-type {\n",
       "        vertical-align: middle;\n",
       "    }\n",
       "\n",
       "    .dataframe tbody tr th {\n",
       "        vertical-align: top;\n",
       "    }\n",
       "\n",
       "    .dataframe thead th {\n",
       "        text-align: right;\n",
       "    }\n",
       "</style>\n",
       "<table border=\"1\" class=\"dataframe\">\n",
       "  <thead>\n",
       "    <tr style=\"text-align: right;\">\n",
       "      <th></th>\n",
       "      <th>Name</th>\n",
       "      <th>Position Title</th>\n",
       "      <th>Department</th>\n",
       "      <th>Employee Annual Salary</th>\n",
       "      <th>x</th>\n",
       "      <th>y</th>\n",
       "      <th>z</th>\n",
       "      <th>d</th>\n",
       "      <th>e</th>\n",
       "      <th>f</th>\n",
       "      <th>j</th>\n",
       "    </tr>\n",
       "  </thead>\n",
       "  <tbody>\n",
       "    <tr>\n",
       "      <th>0</th>\n",
       "      <td>AARON,  ELVIA J</td>\n",
       "      <td>WATER RATE TAKER</td>\n",
       "      <td>WATER MGMNT</td>\n",
       "      <td>$90744.00</td>\n",
       "      <td>AARON,</td>\n",
       "      <td></td>\n",
       "      <td>ELVIA</td>\n",
       "      <td>J</td>\n",
       "      <td>None</td>\n",
       "      <td>None</td>\n",
       "      <td>None</td>\n",
       "    </tr>\n",
       "    <tr>\n",
       "      <th>1</th>\n",
       "      <td>AARON,  JEFFERY M</td>\n",
       "      <td>POLICE OFFICER</td>\n",
       "      <td>POLICE</td>\n",
       "      <td>$84450.00</td>\n",
       "      <td>AARON,</td>\n",
       "      <td></td>\n",
       "      <td>JEFFERY</td>\n",
       "      <td>M</td>\n",
       "      <td>None</td>\n",
       "      <td>None</td>\n",
       "      <td>None</td>\n",
       "    </tr>\n",
       "    <tr>\n",
       "      <th>2</th>\n",
       "      <td>AARON,  KARINA</td>\n",
       "      <td>POLICE OFFICER</td>\n",
       "      <td>POLICE</td>\n",
       "      <td>$84450.00</td>\n",
       "      <td>AARON,</td>\n",
       "      <td></td>\n",
       "      <td>KARINA</td>\n",
       "      <td>None</td>\n",
       "      <td>None</td>\n",
       "      <td>None</td>\n",
       "      <td>None</td>\n",
       "    </tr>\n",
       "    <tr>\n",
       "      <th>3</th>\n",
       "      <td>AARON,  KIMBERLEI R</td>\n",
       "      <td>CHIEF CONTRACT EXPEDITER</td>\n",
       "      <td>GENERAL SERVICES</td>\n",
       "      <td>$89880.00</td>\n",
       "      <td>AARON,</td>\n",
       "      <td></td>\n",
       "      <td>KIMBERLEI</td>\n",
       "      <td>R</td>\n",
       "      <td>None</td>\n",
       "      <td>None</td>\n",
       "      <td>None</td>\n",
       "    </tr>\n",
       "    <tr>\n",
       "      <th>4</th>\n",
       "      <td>ABAD JR,  VICENTE M</td>\n",
       "      <td>CIVIL ENGINEER IV</td>\n",
       "      <td>WATER MGMNT</td>\n",
       "      <td>$106836.00</td>\n",
       "      <td>ABAD</td>\n",
       "      <td>JR,</td>\n",
       "      <td></td>\n",
       "      <td>VICENTE</td>\n",
       "      <td>M</td>\n",
       "      <td>None</td>\n",
       "      <td>None</td>\n",
       "    </tr>\n",
       "    <tr>\n",
       "      <th>...</th>\n",
       "      <td>...</td>\n",
       "      <td>...</td>\n",
       "      <td>...</td>\n",
       "      <td>...</td>\n",
       "      <td>...</td>\n",
       "      <td>...</td>\n",
       "      <td>...</td>\n",
       "      <td>...</td>\n",
       "      <td>...</td>\n",
       "      <td>...</td>\n",
       "      <td>...</td>\n",
       "    </tr>\n",
       "    <tr>\n",
       "      <th>32058</th>\n",
       "      <td>ZYGOWICZ,  PETER J</td>\n",
       "      <td>POLICE OFFICER</td>\n",
       "      <td>POLICE</td>\n",
       "      <td>$87384.00</td>\n",
       "      <td>ZYGOWICZ,</td>\n",
       "      <td></td>\n",
       "      <td>PETER</td>\n",
       "      <td>J</td>\n",
       "      <td>None</td>\n",
       "      <td>None</td>\n",
       "      <td>None</td>\n",
       "    </tr>\n",
       "    <tr>\n",
       "      <th>32059</th>\n",
       "      <td>ZYMANTAS,  MARK E</td>\n",
       "      <td>POLICE OFFICER</td>\n",
       "      <td>POLICE</td>\n",
       "      <td>$84450.00</td>\n",
       "      <td>ZYMANTAS,</td>\n",
       "      <td></td>\n",
       "      <td>MARK</td>\n",
       "      <td>E</td>\n",
       "      <td>None</td>\n",
       "      <td>None</td>\n",
       "      <td>None</td>\n",
       "    </tr>\n",
       "    <tr>\n",
       "      <th>32060</th>\n",
       "      <td>ZYRKOWSKI,  CARLO E</td>\n",
       "      <td>POLICE OFFICER</td>\n",
       "      <td>POLICE</td>\n",
       "      <td>$87384.00</td>\n",
       "      <td>ZYRKOWSKI,</td>\n",
       "      <td></td>\n",
       "      <td>CARLO</td>\n",
       "      <td>E</td>\n",
       "      <td>None</td>\n",
       "      <td>None</td>\n",
       "      <td>None</td>\n",
       "    </tr>\n",
       "    <tr>\n",
       "      <th>32061</th>\n",
       "      <td>ZYSKOWSKI,  DARIUSZ</td>\n",
       "      <td>CHIEF DATA BASE ANALYST</td>\n",
       "      <td>DoIT</td>\n",
       "      <td>$113664.00</td>\n",
       "      <td>ZYSKOWSKI,</td>\n",
       "      <td></td>\n",
       "      <td>DARIUSZ</td>\n",
       "      <td>None</td>\n",
       "      <td>None</td>\n",
       "      <td>None</td>\n",
       "      <td>None</td>\n",
       "    </tr>\n",
       "    <tr>\n",
       "      <th>32062</th>\n",
       "      <td>NaN</td>\n",
       "      <td>NaN</td>\n",
       "      <td>NaN</td>\n",
       "      <td>NaN</td>\n",
       "      <td>NaN</td>\n",
       "      <td>NaN</td>\n",
       "      <td>NaN</td>\n",
       "      <td>NaN</td>\n",
       "      <td>None</td>\n",
       "      <td>None</td>\n",
       "      <td>None</td>\n",
       "    </tr>\n",
       "  </tbody>\n",
       "</table>\n",
       "<p>32063 rows × 11 columns</p>\n",
       "</div>"
      ],
      "text/plain": [
       "                      Name            Position Title        Department  \\\n",
       "0          AARON,  ELVIA J          WATER RATE TAKER       WATER MGMNT   \n",
       "1        AARON,  JEFFERY M            POLICE OFFICER            POLICE   \n",
       "2           AARON,  KARINA            POLICE OFFICER            POLICE   \n",
       "3      AARON,  KIMBERLEI R  CHIEF CONTRACT EXPEDITER  GENERAL SERVICES   \n",
       "4      ABAD JR,  VICENTE M         CIVIL ENGINEER IV       WATER MGMNT   \n",
       "...                    ...                       ...               ...   \n",
       "32058   ZYGOWICZ,  PETER J            POLICE OFFICER            POLICE   \n",
       "32059    ZYMANTAS,  MARK E            POLICE OFFICER            POLICE   \n",
       "32060  ZYRKOWSKI,  CARLO E            POLICE OFFICER            POLICE   \n",
       "32061  ZYSKOWSKI,  DARIUSZ   CHIEF DATA BASE ANALYST              DoIT   \n",
       "32062                  NaN                       NaN               NaN   \n",
       "\n",
       "      Employee Annual Salary           x    y          z        d     e     f  \\\n",
       "0                  $90744.00      AARON,           ELVIA        J  None  None   \n",
       "1                  $84450.00      AARON,         JEFFERY        M  None  None   \n",
       "2                  $84450.00      AARON,          KARINA     None  None  None   \n",
       "3                  $89880.00      AARON,       KIMBERLEI        R  None  None   \n",
       "4                 $106836.00        ABAD  JR,             VICENTE     M  None   \n",
       "...                      ...         ...  ...        ...      ...   ...   ...   \n",
       "32058              $87384.00   ZYGOWICZ,           PETER        J  None  None   \n",
       "32059              $84450.00   ZYMANTAS,            MARK        E  None  None   \n",
       "32060              $87384.00  ZYRKOWSKI,           CARLO        E  None  None   \n",
       "32061             $113664.00  ZYSKOWSKI,         DARIUSZ     None  None  None   \n",
       "32062                    NaN         NaN  NaN        NaN      NaN  None  None   \n",
       "\n",
       "          j  \n",
       "0      None  \n",
       "1      None  \n",
       "2      None  \n",
       "3      None  \n",
       "4      None  \n",
       "...     ...  \n",
       "32058  None  \n",
       "32059  None  \n",
       "32060  None  \n",
       "32061  None  \n",
       "32062  None  \n",
       "\n",
       "[32063 rows x 11 columns]"
      ]
     },
     "execution_count": 350,
     "metadata": {},
     "output_type": "execute_result"
    }
   ],
   "source": [
    "chicago"
   ]
  },
  {
   "cell_type": "code",
   "execution_count": 354,
   "id": "2e6d62f5",
   "metadata": {},
   "outputs": [
    {
     "data": {
      "text/plain": [
       "0            AARON,\n",
       "1            AARON,\n",
       "2            AARON,\n",
       "3            AARON,\n",
       "4              ABAD\n",
       "            ...    \n",
       "32058     ZYGOWICZ,\n",
       "32059     ZYMANTAS,\n",
       "32060    ZYRKOWSKI,\n",
       "32061    ZYSKOWSKI,\n",
       "32062           NaN\n",
       "Name: Name, Length: 32063, dtype: object"
      ]
     },
     "execution_count": 354,
     "metadata": {},
     "output_type": "execute_result"
    }
   ],
   "source": [
    "chicago_names.str.split(' ').str.get(0)"
   ]
  },
  {
   "cell_type": "code",
   "execution_count": null,
   "id": "3925d1ac",
   "metadata": {},
   "outputs": [],
   "source": []
  }
 ],
 "metadata": {
  "kernelspec": {
   "display_name": "Python 3 (ipykernel)",
   "language": "python",
   "name": "python3"
  },
  "language_info": {
   "codemirror_mode": {
    "name": "ipython",
    "version": 3
   },
   "file_extension": ".py",
   "mimetype": "text/x-python",
   "name": "python",
   "nbconvert_exporter": "python",
   "pygments_lexer": "ipython3",
   "version": "3.11.4"
  }
 },
 "nbformat": 4,
 "nbformat_minor": 5
}
