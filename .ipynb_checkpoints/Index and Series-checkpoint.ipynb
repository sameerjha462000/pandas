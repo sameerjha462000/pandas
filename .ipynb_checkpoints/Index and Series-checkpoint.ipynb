{
 "cells": [
  {
   "cell_type": "code",
   "execution_count": 190,
   "id": "65b49c0d",
   "metadata": {},
   "outputs": [],
   "source": [
    "import pandas as pd"
   ]
  },
  {
   "cell_type": "code",
   "execution_count": 191,
   "id": "d410d12a",
   "metadata": {},
   "outputs": [],
   "source": [
    "# Index, Series, Dataframe \n",
    "# 1, 1, 2 dimensional data structure"
   ]
  },
  {
   "cell_type": "code",
   "execution_count": 192,
   "id": "f28dc96a",
   "metadata": {},
   "outputs": [],
   "source": [
    "# Index -- is used to index another data structure in pandas\n",
    "# 'Index' is singular\n",
    "# Index ka plural -- Indices and Indexes\n",
    "# Elements of Index object are called Indices.\n",
    "# Multiple index objects would be called Indexes"
   ]
  },
  {
   "cell_type": "code",
   "execution_count": 193,
   "id": "ddf8960b",
   "metadata": {},
   "outputs": [],
   "source": [
    "# Types of Index object\n",
    "# float64, int64, RangeIndex, boolean Index"
   ]
  },
  {
   "cell_type": "code",
   "execution_count": 194,
   "id": "761c3255",
   "metadata": {},
   "outputs": [],
   "source": [
    "ind = pd.Index([1,2,3,4,5])"
   ]
  },
  {
   "cell_type": "code",
   "execution_count": 16,
   "id": "2ab7551b",
   "metadata": {},
   "outputs": [
    {
     "data": {
      "text/plain": [
       "Int64Index([1, 2, 3, 4, 5], dtype='int64')"
      ]
     },
     "execution_count": 16,
     "metadata": {},
     "output_type": "execute_result"
    }
   ],
   "source": [
    "ind"
   ]
  },
  {
   "cell_type": "code",
   "execution_count": 17,
   "id": "b730d5d9",
   "metadata": {},
   "outputs": [],
   "source": [
    "# Since pandas is built on top of Numpy"
   ]
  },
  {
   "cell_type": "code",
   "execution_count": 18,
   "id": "2bce5b42",
   "metadata": {},
   "outputs": [
    {
     "data": {
      "text/plain": [
       "1"
      ]
     },
     "execution_count": 18,
     "metadata": {},
     "output_type": "execute_result"
    }
   ],
   "source": [
    "ind.ndim"
   ]
  },
  {
   "cell_type": "code",
   "execution_count": 19,
   "id": "13be4127",
   "metadata": {},
   "outputs": [
    {
     "data": {
      "text/plain": [
       "(5,)"
      ]
     },
     "execution_count": 19,
     "metadata": {},
     "output_type": "execute_result"
    }
   ],
   "source": [
    "ind.shape# tuple return"
   ]
  },
  {
   "cell_type": "code",
   "execution_count": 20,
   "id": "e2e83248",
   "metadata": {},
   "outputs": [
    {
     "data": {
      "text/plain": [
       "5"
      ]
     },
     "execution_count": 20,
     "metadata": {},
     "output_type": "execute_result"
    }
   ],
   "source": [
    "ind.size"
   ]
  },
  {
   "cell_type": "code",
   "execution_count": 22,
   "id": "819fa316",
   "metadata": {},
   "outputs": [
    {
     "data": {
      "text/plain": [
       "pandas.core.indexes.numeric.Int64Index"
      ]
     },
     "execution_count": 22,
     "metadata": {},
     "output_type": "execute_result"
    }
   ],
   "source": [
    "type(ind)"
   ]
  },
  {
   "cell_type": "code",
   "execution_count": 23,
   "id": "54283f82",
   "metadata": {},
   "outputs": [],
   "source": [
    "# Float Index"
   ]
  },
  {
   "cell_type": "code",
   "execution_count": 24,
   "id": "64d3b5ec",
   "metadata": {},
   "outputs": [],
   "source": [
    "float_index = pd.Index([1,2,3, 4.5])"
   ]
  },
  {
   "cell_type": "code",
   "execution_count": 25,
   "id": "cd60f1f0",
   "metadata": {},
   "outputs": [
    {
     "data": {
      "text/plain": [
       "Float64Index([1.0, 2.0, 3.0, 4.5], dtype='float64')"
      ]
     },
     "execution_count": 25,
     "metadata": {},
     "output_type": "execute_result"
    }
   ],
   "source": [
    "float_index"
   ]
  },
  {
   "cell_type": "code",
   "execution_count": 26,
   "id": "2d7a1a90",
   "metadata": {},
   "outputs": [],
   "source": [
    "range_index = pd.Index(range(1,20,3))"
   ]
  },
  {
   "cell_type": "code",
   "execution_count": 27,
   "id": "7a67b37a",
   "metadata": {},
   "outputs": [
    {
     "data": {
      "text/plain": [
       "RangeIndex(start=1, stop=20, step=3)"
      ]
     },
     "execution_count": 27,
     "metadata": {},
     "output_type": "execute_result"
    }
   ],
   "source": [
    "range_index"
   ]
  },
  {
   "cell_type": "code",
   "execution_count": 28,
   "id": "e6550348",
   "metadata": {},
   "outputs": [],
   "source": [
    "range_index = pd.RangeIndex(1,20,3)"
   ]
  },
  {
   "cell_type": "code",
   "execution_count": 29,
   "id": "aa735692",
   "metadata": {},
   "outputs": [
    {
     "data": {
      "text/plain": [
       "RangeIndex(start=1, stop=20, step=3)"
      ]
     },
     "execution_count": 29,
     "metadata": {},
     "output_type": "execute_result"
    }
   ],
   "source": [
    "range_index"
   ]
  },
  {
   "cell_type": "code",
   "execution_count": 30,
   "id": "2b9e5ac8",
   "metadata": {},
   "outputs": [],
   "source": [
    "# Index objects are iterable"
   ]
  },
  {
   "cell_type": "code",
   "execution_count": 31,
   "id": "4131519c",
   "metadata": {},
   "outputs": [
    {
     "data": {
      "text/plain": [
       "Int64Index([1, 2, 3, 4, 5], dtype='int64')"
      ]
     },
     "execution_count": 31,
     "metadata": {},
     "output_type": "execute_result"
    }
   ],
   "source": [
    "ind"
   ]
  },
  {
   "cell_type": "code",
   "execution_count": 32,
   "id": "a1411d74",
   "metadata": {},
   "outputs": [
    {
     "name": "stdout",
     "output_type": "stream",
     "text": [
      "1\n",
      "2\n",
      "3\n",
      "4\n",
      "5\n"
     ]
    }
   ],
   "source": [
    "for ele in ind:\n",
    "    print(ele)"
   ]
  },
  {
   "cell_type": "code",
   "execution_count": 33,
   "id": "b906b7a1",
   "metadata": {},
   "outputs": [],
   "source": [
    "squared_ind = [ele ** 2 for ele in ind]"
   ]
  },
  {
   "cell_type": "code",
   "execution_count": 34,
   "id": "ccac9102",
   "metadata": {},
   "outputs": [
    {
     "data": {
      "text/plain": [
       "[1, 4, 9, 16, 25]"
      ]
     },
     "execution_count": 34,
     "metadata": {},
     "output_type": "execute_result"
    }
   ],
   "source": [
    "squared_ind"
   ]
  },
  {
   "cell_type": "code",
   "execution_count": 35,
   "id": "313c8049",
   "metadata": {},
   "outputs": [],
   "source": [
    "# membership testing"
   ]
  },
  {
   "cell_type": "code",
   "execution_count": 36,
   "id": "ecf49ed3",
   "metadata": {},
   "outputs": [
    {
     "data": {
      "text/plain": [
       "Int64Index([1, 2, 3, 4, 5], dtype='int64')"
      ]
     },
     "execution_count": 36,
     "metadata": {},
     "output_type": "execute_result"
    }
   ],
   "source": [
    "ind"
   ]
  },
  {
   "cell_type": "code",
   "execution_count": 37,
   "id": "ea40653b",
   "metadata": {},
   "outputs": [
    {
     "data": {
      "text/plain": [
       "False"
      ]
     },
     "execution_count": 37,
     "metadata": {},
     "output_type": "execute_result"
    }
   ],
   "source": [
    "69 in ind"
   ]
  },
  {
   "cell_type": "code",
   "execution_count": 38,
   "id": "83e861dc",
   "metadata": {},
   "outputs": [
    {
     "data": {
      "text/plain": [
       "True"
      ]
     },
     "execution_count": 38,
     "metadata": {},
     "output_type": "execute_result"
    }
   ],
   "source": [
    "69 not in ind"
   ]
  },
  {
   "cell_type": "code",
   "execution_count": 39,
   "id": "fd4890a6",
   "metadata": {},
   "outputs": [],
   "source": [
    "# Index object is like a set but isme duplicate values allowed hoti hain"
   ]
  },
  {
   "cell_type": "code",
   "execution_count": 40,
   "id": "6046e80c",
   "metadata": {},
   "outputs": [],
   "source": [
    "new_index = pd.Index([1,2,3,5,4,4,4,4])"
   ]
  },
  {
   "cell_type": "code",
   "execution_count": 41,
   "id": "00f8ae48",
   "metadata": {},
   "outputs": [
    {
     "data": {
      "text/plain": [
       "Int64Index([1, 2, 3, 5, 4, 4, 4, 4], dtype='int64')"
      ]
     },
     "execution_count": 41,
     "metadata": {},
     "output_type": "execute_result"
    }
   ],
   "source": [
    "new_index"
   ]
  },
  {
   "cell_type": "code",
   "execution_count": 47,
   "id": "efcbccbe",
   "metadata": {},
   "outputs": [],
   "source": [
    "ind1 = pd.Index([1,2,3,4])\n",
    "ind2 = pd.Index([2.0,5,6])"
   ]
  },
  {
   "cell_type": "code",
   "execution_count": 43,
   "id": "2483554a",
   "metadata": {},
   "outputs": [
    {
     "data": {
      "text/plain": [
       "(Int64Index([1, 2, 3, 4], dtype='int64'), Int64Index([2, 5, 6], dtype='int64'))"
      ]
     },
     "execution_count": 43,
     "metadata": {},
     "output_type": "execute_result"
    }
   ],
   "source": [
    "ind1, ind2"
   ]
  },
  {
   "cell_type": "code",
   "execution_count": 48,
   "id": "c189ca8a",
   "metadata": {},
   "outputs": [],
   "source": [
    "intersection = ind1.intersection(ind2)"
   ]
  },
  {
   "cell_type": "code",
   "execution_count": 49,
   "id": "c8826e87",
   "metadata": {},
   "outputs": [
    {
     "data": {
      "text/plain": [
       "Float64Index([2.0], dtype='float64')"
      ]
     },
     "execution_count": 49,
     "metadata": {},
     "output_type": "execute_result"
    }
   ],
   "source": [
    "intersection"
   ]
  },
  {
   "cell_type": "code",
   "execution_count": 50,
   "id": "9e7c7cea",
   "metadata": {},
   "outputs": [],
   "source": [
    "union = ind1.union(ind2)"
   ]
  },
  {
   "cell_type": "code",
   "execution_count": 51,
   "id": "cbb908ce",
   "metadata": {},
   "outputs": [
    {
     "data": {
      "text/plain": [
       "Float64Index([1.0, 2.0, 3.0, 4.0, 5.0, 6.0], dtype='float64')"
      ]
     },
     "execution_count": 51,
     "metadata": {},
     "output_type": "execute_result"
    }
   ],
   "source": [
    "union"
   ]
  },
  {
   "cell_type": "markdown",
   "id": "4a880012",
   "metadata": {},
   "source": [
    "# Series"
   ]
  },
  {
   "cell_type": "code",
   "execution_count": 53,
   "id": "d3c1dd77",
   "metadata": {},
   "outputs": [],
   "source": [
    "# Series are 1 dimensional data structure\n",
    "# Series and Index me utna hi difference he jitna list and dictionary me he\n",
    "# Series is like an associative array \n",
    "# Index is also an associative container but we can have only implicit indexing in that"
   ]
  },
  {
   "cell_type": "code",
   "execution_count": 54,
   "id": "970481a7",
   "metadata": {},
   "outputs": [],
   "source": [
    "ser = pd.Series([1,2,3,45])"
   ]
  },
  {
   "cell_type": "code",
   "execution_count": 55,
   "id": "86389061",
   "metadata": {},
   "outputs": [
    {
     "data": {
      "text/plain": [
       "0     1\n",
       "1     2\n",
       "2     3\n",
       "3    45\n",
       "dtype: int64"
      ]
     },
     "execution_count": 55,
     "metadata": {},
     "output_type": "execute_result"
    }
   ],
   "source": [
    "ser"
   ]
  },
  {
   "cell_type": "code",
   "execution_count": 56,
   "id": "1e70ad73",
   "metadata": {},
   "outputs": [],
   "source": [
    "ser = pd.Series([1,2,3,45], index = ['Abhishek', 'Abhilash', 'Rohan', 'Sameer'])"
   ]
  },
  {
   "cell_type": "code",
   "execution_count": 57,
   "id": "601a79a4",
   "metadata": {},
   "outputs": [
    {
     "data": {
      "text/plain": [
       "Abhishek     1\n",
       "Abhilash     2\n",
       "Rohan        3\n",
       "Sameer      45\n",
       "dtype: int64"
      ]
     },
     "execution_count": 57,
     "metadata": {},
     "output_type": "execute_result"
    }
   ],
   "source": [
    "ser"
   ]
  },
  {
   "cell_type": "code",
   "execution_count": 58,
   "id": "2496843e",
   "metadata": {},
   "outputs": [
    {
     "data": {
      "text/plain": [
       "1"
      ]
     },
     "execution_count": 58,
     "metadata": {},
     "output_type": "execute_result"
    }
   ],
   "source": [
    "ser['Abhishek']"
   ]
  },
  {
   "cell_type": "code",
   "execution_count": 59,
   "id": "b0a15b81",
   "metadata": {},
   "outputs": [
    {
     "data": {
      "text/plain": [
       "1"
      ]
     },
     "execution_count": 59,
     "metadata": {},
     "output_type": "execute_result"
    }
   ],
   "source": [
    "ser[0]"
   ]
  },
  {
   "cell_type": "code",
   "execution_count": 60,
   "id": "be5a9428",
   "metadata": {},
   "outputs": [],
   "source": [
    "# When we use the Index parameter then we have defined the index explicitly.\n",
    "# unlearn -- bhool jaao -- indices, indexes, index\n",
    "ser = pd.Series([1,2,3,4,5], index = ['a','b','c','a','b'])"
   ]
  },
  {
   "cell_type": "code",
   "execution_count": 61,
   "id": "d7582768",
   "metadata": {},
   "outputs": [
    {
     "data": {
      "text/plain": [
       "a    1\n",
       "b    2\n",
       "c    3\n",
       "a    4\n",
       "b    5\n",
       "dtype: int64"
      ]
     },
     "execution_count": 61,
     "metadata": {},
     "output_type": "execute_result"
    }
   ],
   "source": [
    "ser"
   ]
  },
  {
   "cell_type": "code",
   "execution_count": 62,
   "id": "cead0d50",
   "metadata": {},
   "outputs": [
    {
     "data": {
      "text/plain": [
       "a    1\n",
       "a    4\n",
       "dtype: int64"
      ]
     },
     "execution_count": 62,
     "metadata": {},
     "output_type": "execute_result"
    }
   ],
   "source": [
    "ser['a'] # It is like dictionary but not dictionary"
   ]
  },
  {
   "cell_type": "code",
   "execution_count": 63,
   "id": "41356b69",
   "metadata": {},
   "outputs": [
    {
     "data": {
      "text/plain": [
       "1"
      ]
     },
     "execution_count": 63,
     "metadata": {},
     "output_type": "execute_result"
    }
   ],
   "source": [
    "ser[0]"
   ]
  },
  {
   "cell_type": "code",
   "execution_count": 64,
   "id": "ad7caca5",
   "metadata": {},
   "outputs": [],
   "source": [
    "# series pe hum built ins functions lga skte hain"
   ]
  },
  {
   "cell_type": "code",
   "execution_count": 65,
   "id": "c8a1ccd6",
   "metadata": {},
   "outputs": [
    {
     "data": {
      "text/plain": [
       "a    1\n",
       "b    2\n",
       "c    3\n",
       "a    4\n",
       "b    5\n",
       "dtype: int64"
      ]
     },
     "execution_count": 65,
     "metadata": {},
     "output_type": "execute_result"
    }
   ],
   "source": [
    "ser"
   ]
  },
  {
   "cell_type": "code",
   "execution_count": 72,
   "id": "c66d9e39",
   "metadata": {},
   "outputs": [
    {
     "data": {
      "text/plain": [
       "15"
      ]
     },
     "execution_count": 72,
     "metadata": {},
     "output_type": "execute_result"
    }
   ],
   "source": [
    "len(ser)\n",
    "max(ser)\n",
    "min(ser)\n",
    "list(ser)\n",
    "sorted(ser)\n",
    "sum(ser)\n",
    "# Bhool jaao, yaad rkhne"
   ]
  },
  {
   "cell_type": "code",
   "execution_count": 73,
   "id": "55ecb1af",
   "metadata": {},
   "outputs": [],
   "source": [
    "# pandas series also has methods"
   ]
  },
  {
   "cell_type": "code",
   "execution_count": 74,
   "id": "57ad367f",
   "metadata": {},
   "outputs": [
    {
     "data": {
      "text/plain": [
       "a    1\n",
       "b    2\n",
       "c    3\n",
       "a    4\n",
       "b    5\n",
       "dtype: int64"
      ]
     },
     "execution_count": 74,
     "metadata": {},
     "output_type": "execute_result"
    }
   ],
   "source": [
    "ser"
   ]
  },
  {
   "cell_type": "code",
   "execution_count": 83,
   "id": "4341c6de",
   "metadata": {},
   "outputs": [
    {
     "name": "stdout",
     "output_type": "stream",
     "text": [
      "<class 'pandas.core.series.Series'>\n",
      "Index: 5 entries, a to b\n",
      "Series name: None\n",
      "Non-Null Count  Dtype\n",
      "--------------  -----\n",
      "5 non-null      int64\n",
      "dtypes: int64(1)\n",
      "memory usage: 252.0+ bytes\n"
     ]
    },
    {
     "data": {
      "text/plain": [
       "count    5.000000\n",
       "mean     3.000000\n",
       "std      1.581139\n",
       "min      1.000000\n",
       "25%      2.000000\n",
       "50%      3.000000\n",
       "75%      4.000000\n",
       "max      5.000000\n",
       "dtype: float64"
      ]
     },
     "execution_count": 83,
     "metadata": {},
     "output_type": "execute_result"
    }
   ],
   "source": [
    "ser.min()\n",
    "ser.max()\n",
    "ser.mean()\n",
    "ser.mode()\n",
    "ser.std()\n",
    "ser.info()\n",
    "ser.describe()"
   ]
  },
  {
   "cell_type": "code",
   "execution_count": 87,
   "id": "0b54bbc0",
   "metadata": {},
   "outputs": [],
   "source": [
    "third_quartile = ser.describe()['75%']"
   ]
  },
  {
   "cell_type": "code",
   "execution_count": 88,
   "id": "b93974b5",
   "metadata": {},
   "outputs": [
    {
     "data": {
      "text/plain": [
       "4.0"
      ]
     },
     "execution_count": 88,
     "metadata": {},
     "output_type": "execute_result"
    }
   ],
   "source": [
    "third_quartile"
   ]
  },
  {
   "cell_type": "code",
   "execution_count": 89,
   "id": "8a0851ba",
   "metadata": {},
   "outputs": [],
   "source": [
    "# Implicit Indexing me numbers 0,1,2,3...., \n",
    "# Explicit Indexing me bhi numbers"
   ]
  },
  {
   "cell_type": "code",
   "execution_count": 90,
   "id": "d57247a0",
   "metadata": {},
   "outputs": [],
   "source": [
    "ser = pd.Series([1,2,3,4,5],index = [1,2,3,4,5])"
   ]
  },
  {
   "cell_type": "code",
   "execution_count": 91,
   "id": "177dd350",
   "metadata": {},
   "outputs": [
    {
     "data": {
      "text/plain": [
       "1    1\n",
       "2    2\n",
       "3    3\n",
       "4    4\n",
       "5    5\n",
       "dtype: int64"
      ]
     },
     "execution_count": 91,
     "metadata": {},
     "output_type": "execute_result"
    }
   ],
   "source": [
    "ser"
   ]
  },
  {
   "cell_type": "code",
   "execution_count": 92,
   "id": "1177e120",
   "metadata": {},
   "outputs": [
    {
     "data": {
      "text/plain": [
       "1"
      ]
     },
     "execution_count": 92,
     "metadata": {},
     "output_type": "execute_result"
    }
   ],
   "source": [
    "ser[1] # explicit waale ko use krta hain\n",
    "# yaad mt rkhna"
   ]
  },
  {
   "cell_type": "code",
   "execution_count": 93,
   "id": "26760067",
   "metadata": {},
   "outputs": [
    {
     "data": {
      "text/plain": [
       "2    2\n",
       "3    3\n",
       "4    4\n",
       "dtype: int64"
      ]
     },
     "execution_count": 93,
     "metadata": {},
     "output_type": "execute_result"
    }
   ],
   "source": [
    "ser[1:4] # implicit index\n",
    "# implicit me last vaala count nhi hota\n",
    "# explicit me last waala count hota he"
   ]
  },
  {
   "cell_type": "code",
   "execution_count": 94,
   "id": "ea9a3d89",
   "metadata": {},
   "outputs": [],
   "source": [
    "ser = pd.Series([1,2,3,4,5], index = list('abcde'))"
   ]
  },
  {
   "cell_type": "code",
   "execution_count": 95,
   "id": "1c49a689",
   "metadata": {},
   "outputs": [
    {
     "data": {
      "text/plain": [
       "a    1\n",
       "b    2\n",
       "c    3\n",
       "d    4\n",
       "e    5\n",
       "dtype: int64"
      ]
     },
     "execution_count": 95,
     "metadata": {},
     "output_type": "execute_result"
    }
   ],
   "source": [
    "ser"
   ]
  },
  {
   "cell_type": "code",
   "execution_count": 96,
   "id": "fbefd598",
   "metadata": {},
   "outputs": [
    {
     "data": {
      "text/plain": [
       "a    1\n",
       "b    2\n",
       "c    3\n",
       "d    4\n",
       "dtype: int64"
      ]
     },
     "execution_count": 96,
     "metadata": {},
     "output_type": "execute_result"
    }
   ],
   "source": [
    "ser[0:4]"
   ]
  },
  {
   "cell_type": "code",
   "execution_count": 97,
   "id": "eb9eec8a",
   "metadata": {},
   "outputs": [
    {
     "data": {
      "text/plain": [
       "a    1\n",
       "b    2\n",
       "c    3\n",
       "dtype: int64"
      ]
     },
     "execution_count": 97,
     "metadata": {},
     "output_type": "execute_result"
    }
   ],
   "source": [
    "ser['a':'c'] # explicit indexing me slicing -- last waala included"
   ]
  },
  {
   "cell_type": "code",
   "execution_count": 98,
   "id": "e0331069",
   "metadata": {},
   "outputs": [],
   "source": [
    "# Series object can also have attributes"
   ]
  },
  {
   "cell_type": "code",
   "execution_count": 99,
   "id": "36be759e",
   "metadata": {},
   "outputs": [
    {
     "data": {
      "text/plain": [
       "a    1\n",
       "b    2\n",
       "c    3\n",
       "d    4\n",
       "e    5\n",
       "dtype: int64"
      ]
     },
     "execution_count": 99,
     "metadata": {},
     "output_type": "execute_result"
    }
   ],
   "source": [
    "ser"
   ]
  },
  {
   "cell_type": "code",
   "execution_count": 101,
   "id": "cd17e18d",
   "metadata": {},
   "outputs": [
    {
     "data": {
      "text/plain": [
       "dtype('int64')"
      ]
     },
     "execution_count": 101,
     "metadata": {},
     "output_type": "execute_result"
    }
   ],
   "source": [
    "ser.dtype"
   ]
  },
  {
   "cell_type": "code",
   "execution_count": 102,
   "id": "a0e16cea",
   "metadata": {},
   "outputs": [
    {
     "data": {
      "text/plain": [
       "1"
      ]
     },
     "execution_count": 102,
     "metadata": {},
     "output_type": "execute_result"
    }
   ],
   "source": [
    "ser.ndim"
   ]
  },
  {
   "cell_type": "code",
   "execution_count": 103,
   "id": "9bc0d382",
   "metadata": {},
   "outputs": [
    {
     "data": {
      "text/plain": [
       "(5,)"
      ]
     },
     "execution_count": 103,
     "metadata": {},
     "output_type": "execute_result"
    }
   ],
   "source": [
    "ser.shape"
   ]
  },
  {
   "cell_type": "code",
   "execution_count": 104,
   "id": "163c6e55",
   "metadata": {},
   "outputs": [
    {
     "data": {
      "text/plain": [
       "5"
      ]
     },
     "execution_count": 104,
     "metadata": {},
     "output_type": "execute_result"
    }
   ],
   "source": [
    "ser.size"
   ]
  },
  {
   "cell_type": "code",
   "execution_count": 105,
   "id": "15d10f7b",
   "metadata": {},
   "outputs": [
    {
     "data": {
      "text/plain": [
       "False"
      ]
     },
     "execution_count": 105,
     "metadata": {},
     "output_type": "execute_result"
    }
   ],
   "source": [
    "ser.hasnans # yaad rkhna"
   ]
  },
  {
   "cell_type": "code",
   "execution_count": 106,
   "id": "13a37817",
   "metadata": {},
   "outputs": [],
   "source": [
    "# Series ojects are mutable"
   ]
  },
  {
   "cell_type": "code",
   "execution_count": 107,
   "id": "a3c86541",
   "metadata": {},
   "outputs": [
    {
     "data": {
      "text/plain": [
       "a    1\n",
       "b    2\n",
       "c    3\n",
       "d    4\n",
       "e    5\n",
       "dtype: int64"
      ]
     },
     "execution_count": 107,
     "metadata": {},
     "output_type": "execute_result"
    }
   ],
   "source": [
    "ser"
   ]
  },
  {
   "cell_type": "code",
   "execution_count": 108,
   "id": "02d8c74a",
   "metadata": {},
   "outputs": [],
   "source": [
    "ser['a'] = 20"
   ]
  },
  {
   "cell_type": "code",
   "execution_count": 109,
   "id": "9c2bca92",
   "metadata": {},
   "outputs": [
    {
     "data": {
      "text/plain": [
       "a    20\n",
       "b     2\n",
       "c     3\n",
       "d     4\n",
       "e     5\n",
       "dtype: int64"
      ]
     },
     "execution_count": 109,
     "metadata": {},
     "output_type": "execute_result"
    }
   ],
   "source": [
    "ser"
   ]
  },
  {
   "cell_type": "code",
   "execution_count": 110,
   "id": "afc9268f",
   "metadata": {},
   "outputs": [],
   "source": [
    "# series objects are mutable associative iterable container"
   ]
  },
  {
   "cell_type": "code",
   "execution_count": 111,
   "id": "7d3bc71e",
   "metadata": {},
   "outputs": [
    {
     "name": "stdout",
     "output_type": "stream",
     "text": [
      "20\n",
      "2\n",
      "3\n",
      "4\n",
      "5\n"
     ]
    }
   ],
   "source": [
    "for ele in ser:\n",
    "    print(ele)"
   ]
  },
  {
   "cell_type": "code",
   "execution_count": 112,
   "id": "d10254c9",
   "metadata": {},
   "outputs": [
    {
     "data": {
      "text/plain": [
       "False"
      ]
     },
     "execution_count": 112,
     "metadata": {},
     "output_type": "execute_result"
    }
   ],
   "source": [
    "# membership testing\n",
    "25 in ser"
   ]
  },
  {
   "cell_type": "code",
   "execution_count": 113,
   "id": "a286935a",
   "metadata": {},
   "outputs": [
    {
     "data": {
      "text/plain": [
       "True"
      ]
     },
     "execution_count": 113,
     "metadata": {},
     "output_type": "execute_result"
    }
   ],
   "source": [
    "25 not in ser"
   ]
  },
  {
   "cell_type": "code",
   "execution_count": 116,
   "id": "b9a11474",
   "metadata": {},
   "outputs": [
    {
     "data": {
      "text/plain": [
       "{'a': 20, 'b': 2, 'c': 3, 'd': 4, 'e': 5}"
      ]
     },
     "execution_count": 116,
     "metadata": {},
     "output_type": "execute_result"
    }
   ],
   "source": [
    "dict(ser)"
   ]
  },
  {
   "cell_type": "code",
   "execution_count": 117,
   "id": "8296ebdd",
   "metadata": {},
   "outputs": [],
   "source": [
    "my_dict = {'a': 20, 'b': 2, 'c': 3, 'd': 4, 'e': 5}"
   ]
  },
  {
   "cell_type": "code",
   "execution_count": 118,
   "id": "4731a3d5",
   "metadata": {},
   "outputs": [],
   "source": [
    "# We can convert a dictionary into a series"
   ]
  },
  {
   "cell_type": "code",
   "execution_count": 130,
   "id": "7a3b5430",
   "metadata": {},
   "outputs": [],
   "source": [
    "ser = pd.Series(my_dict)"
   ]
  },
  {
   "cell_type": "code",
   "execution_count": 131,
   "id": "c1d9b59c",
   "metadata": {},
   "outputs": [
    {
     "data": {
      "text/plain": [
       "a    20\n",
       "b     2\n",
       "c     3\n",
       "d     4\n",
       "e     5\n",
       "dtype: int64"
      ]
     },
     "execution_count": 131,
     "metadata": {},
     "output_type": "execute_result"
    }
   ],
   "source": [
    "ser"
   ]
  },
  {
   "cell_type": "code",
   "execution_count": 135,
   "id": "8d88466e",
   "metadata": {},
   "outputs": [
    {
     "data": {
      "text/plain": [
       "a    20\n",
       "e     5\n",
       "dtype: int64"
      ]
     },
     "execution_count": 135,
     "metadata": {},
     "output_type": "execute_result"
    }
   ],
   "source": [
    "ser[[0,4]]"
   ]
  },
  {
   "cell_type": "code",
   "execution_count": 136,
   "id": "a01ec542",
   "metadata": {},
   "outputs": [
    {
     "data": {
      "text/plain": [
       "a    20\n",
       "e     5\n",
       "e     5\n",
       "dtype: int64"
      ]
     },
     "execution_count": 136,
     "metadata": {},
     "output_type": "execute_result"
    }
   ],
   "source": [
    "ser[['a','e','e']]"
   ]
  },
  {
   "cell_type": "code",
   "execution_count": 137,
   "id": "8174d48c",
   "metadata": {},
   "outputs": [],
   "source": [
    "# iloc and loc are not functions"
   ]
  },
  {
   "cell_type": "code",
   "execution_count": 138,
   "id": "826ebd02",
   "metadata": {},
   "outputs": [],
   "source": [
    "ser = pd.Series([1,2,3,4,5], index = [1,2,3,4,5])"
   ]
  },
  {
   "cell_type": "code",
   "execution_count": 139,
   "id": "e21a7464",
   "metadata": {},
   "outputs": [
    {
     "data": {
      "text/plain": [
       "1    1\n",
       "2    2\n",
       "3    3\n",
       "4    4\n",
       "5    5\n",
       "dtype: int64"
      ]
     },
     "execution_count": 139,
     "metadata": {},
     "output_type": "execute_result"
    }
   ],
   "source": [
    "ser"
   ]
  },
  {
   "cell_type": "code",
   "execution_count": 140,
   "id": "89c5e4ba",
   "metadata": {},
   "outputs": [
    {
     "data": {
      "text/plain": [
       "2"
      ]
     },
     "execution_count": 140,
     "metadata": {},
     "output_type": "execute_result"
    }
   ],
   "source": [
    "ser.iloc[1]\n",
    "# ser.iloc(1) mt krna "
   ]
  },
  {
   "cell_type": "code",
   "execution_count": 141,
   "id": "471079d0",
   "metadata": {},
   "outputs": [
    {
     "data": {
      "text/plain": [
       "1"
      ]
     },
     "execution_count": 141,
     "metadata": {},
     "output_type": "execute_result"
    }
   ],
   "source": [
    "ser.loc[1]"
   ]
  },
  {
   "cell_type": "code",
   "execution_count": 143,
   "id": "e25a10a1",
   "metadata": {},
   "outputs": [],
   "source": [
    "ser = pd.Series([1,2,3,4,5], index = list('abcde'))"
   ]
  },
  {
   "cell_type": "code",
   "execution_count": 144,
   "id": "b68d5aa0",
   "metadata": {},
   "outputs": [
    {
     "data": {
      "text/plain": [
       "a    1\n",
       "b    2\n",
       "c    3\n",
       "d    4\n",
       "e    5\n",
       "dtype: int64"
      ]
     },
     "execution_count": 144,
     "metadata": {},
     "output_type": "execute_result"
    }
   ],
   "source": [
    "ser"
   ]
  },
  {
   "cell_type": "code",
   "execution_count": 145,
   "id": "0ce2e9e0",
   "metadata": {},
   "outputs": [],
   "source": [
    "# we can also do boolean masking inside a series object"
   ]
  },
  {
   "cell_type": "code",
   "execution_count": 146,
   "id": "77198b0a",
   "metadata": {},
   "outputs": [
    {
     "data": {
      "text/plain": [
       "a     True\n",
       "b    False\n",
       "c    False\n",
       "d    False\n",
       "e    False\n",
       "dtype: bool"
      ]
     },
     "execution_count": 146,
     "metadata": {},
     "output_type": "execute_result"
    }
   ],
   "source": [
    "ser == 1 # returns us a boolean series which is also called as mask"
   ]
  },
  {
   "cell_type": "code",
   "execution_count": 147,
   "id": "cc5bba6a",
   "metadata": {},
   "outputs": [
    {
     "data": {
      "text/plain": [
       "a    1\n",
       "dtype: int64"
      ]
     },
     "execution_count": 147,
     "metadata": {},
     "output_type": "execute_result"
    }
   ],
   "source": [
    "ser[ser == 1]"
   ]
  },
  {
   "cell_type": "code",
   "execution_count": 163,
   "id": "dc5c26ac",
   "metadata": {},
   "outputs": [],
   "source": [
    "nba = pd.read_csv('data/nba.csv')"
   ]
  },
  {
   "cell_type": "code",
   "execution_count": 164,
   "id": "196bb609",
   "metadata": {},
   "outputs": [],
   "source": [
    "nba = nba['Name']"
   ]
  },
  {
   "cell_type": "code",
   "execution_count": 165,
   "id": "adba1a33",
   "metadata": {},
   "outputs": [
    {
     "data": {
      "text/plain": [
       "0      Avery Bradley\n",
       "1        Jae Crowder\n",
       "2       John Holland\n",
       "3        R.J. Hunter\n",
       "4      Jonas Jerebko\n",
       "           ...      \n",
       "453     Shelvin Mack\n",
       "454        Raul Neto\n",
       "455     Tibor Pleiss\n",
       "456      Jeff Withey\n",
       "457              NaN\n",
       "Name: Name, Length: 458, dtype: object"
      ]
     },
     "execution_count": 165,
     "metadata": {},
     "output_type": "execute_result"
    }
   ],
   "source": [
    "nba"
   ]
  },
  {
   "cell_type": "code",
   "execution_count": 166,
   "id": "d6c967ee",
   "metadata": {},
   "outputs": [
    {
     "data": {
      "text/plain": [
       "True"
      ]
     },
     "execution_count": 166,
     "metadata": {},
     "output_type": "execute_result"
    }
   ],
   "source": [
    "nba.hasnans"
   ]
  },
  {
   "cell_type": "code",
   "execution_count": 167,
   "id": "767072be",
   "metadata": {},
   "outputs": [
    {
     "data": {
      "text/plain": [
       "458"
      ]
     },
     "execution_count": 167,
     "metadata": {},
     "output_type": "execute_result"
    }
   ],
   "source": [
    "nba.size"
   ]
  },
  {
   "cell_type": "code",
   "execution_count": 168,
   "id": "50bb5263",
   "metadata": {},
   "outputs": [
    {
     "data": {
      "text/plain": [
       "(458,)"
      ]
     },
     "execution_count": 168,
     "metadata": {},
     "output_type": "execute_result"
    }
   ],
   "source": [
    "nba.shape"
   ]
  },
  {
   "cell_type": "code",
   "execution_count": 169,
   "id": "3614b498",
   "metadata": {},
   "outputs": [
    {
     "data": {
      "text/plain": [
       "1"
      ]
     },
     "execution_count": 169,
     "metadata": {},
     "output_type": "execute_result"
    }
   ],
   "source": [
    "nba.ndim"
   ]
  },
  {
   "cell_type": "code",
   "execution_count": 170,
   "id": "48539857",
   "metadata": {},
   "outputs": [
    {
     "data": {
      "text/plain": [
       "458"
      ]
     },
     "execution_count": 170,
     "metadata": {},
     "output_type": "execute_result"
    }
   ],
   "source": [
    "len(nba)"
   ]
  },
  {
   "cell_type": "code",
   "execution_count": 171,
   "id": "523723c1",
   "metadata": {},
   "outputs": [
    {
     "ename": "TypeError",
     "evalue": "'<' not supported between instances of 'float' and 'str'",
     "output_type": "error",
     "traceback": [
      "\u001b[1;31m---------------------------------------------------------------------------\u001b[0m",
      "\u001b[1;31mTypeError\u001b[0m                                 Traceback (most recent call last)",
      "Cell \u001b[1;32mIn[171], line 1\u001b[0m\n\u001b[1;32m----> 1\u001b[0m \u001b[38;5;28msorted\u001b[39m(nba)\n",
      "\u001b[1;31mTypeError\u001b[0m: '<' not supported between instances of 'float' and 'str'"
     ]
    }
   ],
   "source": [
    "sorted(nba)"
   ]
  },
  {
   "cell_type": "code",
   "execution_count": 172,
   "id": "86046687",
   "metadata": {},
   "outputs": [],
   "source": [
    "# This method is used to fill Null values in a series with a specified value\n",
    "nba.fillna('Unknown', inplace=True) # yaad rkhlo\n",
    "# nba = nba.fillna('Unknown')"
   ]
  },
  {
   "cell_type": "code",
   "execution_count": 173,
   "id": "191f1692",
   "metadata": {},
   "outputs": [
    {
     "data": {
      "text/plain": [
       "0      Avery Bradley\n",
       "1        Jae Crowder\n",
       "2       John Holland\n",
       "3        R.J. Hunter\n",
       "4      Jonas Jerebko\n",
       "           ...      \n",
       "453     Shelvin Mack\n",
       "454        Raul Neto\n",
       "455     Tibor Pleiss\n",
       "456      Jeff Withey\n",
       "457          Unknown\n",
       "Name: Name, Length: 458, dtype: object"
      ]
     },
     "execution_count": 173,
     "metadata": {},
     "output_type": "execute_result"
    }
   ],
   "source": [
    "nba\n",
    "# NaN ke saath 2 kaam -- ya toh drop krdo ya toh fill krdo"
   ]
  },
  {
   "cell_type": "code",
   "execution_count": 174,
   "id": "723b2d02",
   "metadata": {},
   "outputs": [],
   "source": [
    "# apply , map"
   ]
  },
  {
   "cell_type": "code",
   "execution_count": 175,
   "id": "a8c91086",
   "metadata": {},
   "outputs": [
    {
     "data": {
      "text/plain": [
       "0      Avery Bradley\n",
       "1        Jae Crowder\n",
       "2       John Holland\n",
       "3        R.J. Hunter\n",
       "4      Jonas Jerebko\n",
       "           ...      \n",
       "453     Shelvin Mack\n",
       "454        Raul Neto\n",
       "455     Tibor Pleiss\n",
       "456      Jeff Withey\n",
       "457          Unknown\n",
       "Name: Name, Length: 458, dtype: object"
      ]
     },
     "execution_count": 175,
     "metadata": {},
     "output_type": "execute_result"
    }
   ],
   "source": [
    "nba"
   ]
  },
  {
   "cell_type": "code",
   "execution_count": 177,
   "id": "50964423",
   "metadata": {},
   "outputs": [
    {
     "data": {
      "text/plain": [
       "0      13\n",
       "1      11\n",
       "2      12\n",
       "3      11\n",
       "4      13\n",
       "       ..\n",
       "453    12\n",
       "454     9\n",
       "455    12\n",
       "456    11\n",
       "457     7\n",
       "Length: 458, dtype: int64"
      ]
     },
     "execution_count": 177,
     "metadata": {},
     "output_type": "execute_result"
    }
   ],
   "source": [
    "pd.Series({key:len(nba[key]) for key in nba.index})"
   ]
  },
  {
   "cell_type": "code",
   "execution_count": 178,
   "id": "536d64d3",
   "metadata": {},
   "outputs": [
    {
     "data": {
      "text/plain": [
       "0      Avery Bradley\n",
       "1        Jae Crowder\n",
       "2       John Holland\n",
       "3        R.J. Hunter\n",
       "4      Jonas Jerebko\n",
       "           ...      \n",
       "453     Shelvin Mack\n",
       "454        Raul Neto\n",
       "455     Tibor Pleiss\n",
       "456      Jeff Withey\n",
       "457          Unknown\n",
       "Name: Name, Length: 458, dtype: object"
      ]
     },
     "execution_count": 178,
     "metadata": {},
     "output_type": "execute_result"
    }
   ],
   "source": [
    "nba"
   ]
  },
  {
   "cell_type": "code",
   "execution_count": 180,
   "id": "1de9dc30",
   "metadata": {},
   "outputs": [],
   "source": [
    "nba_lengths = nba.apply(len)"
   ]
  },
  {
   "cell_type": "code",
   "execution_count": 181,
   "id": "6dfc18cb",
   "metadata": {},
   "outputs": [
    {
     "data": {
      "text/plain": [
       "0      13\n",
       "1      11\n",
       "2      12\n",
       "3      11\n",
       "4      13\n",
       "       ..\n",
       "453    12\n",
       "454     9\n",
       "455    12\n",
       "456    11\n",
       "457     7\n",
       "Name: Name, Length: 458, dtype: int64"
      ]
     },
     "execution_count": 181,
     "metadata": {},
     "output_type": "execute_result"
    }
   ],
   "source": [
    "nba_lengths"
   ]
  },
  {
   "cell_type": "code",
   "execution_count": 182,
   "id": "77d2e590",
   "metadata": {},
   "outputs": [
    {
     "data": {
      "text/plain": [
       "0      Avery Bradley\n",
       "1        Jae Crowder\n",
       "2       John Holland\n",
       "3        R.J. Hunter\n",
       "4      Jonas Jerebko\n",
       "           ...      \n",
       "453     Shelvin Mack\n",
       "454        Raul Neto\n",
       "455     Tibor Pleiss\n",
       "456      Jeff Withey\n",
       "457          Unknown\n",
       "Name: Name, Length: 458, dtype: object"
      ]
     },
     "execution_count": 182,
     "metadata": {},
     "output_type": "execute_result"
    }
   ],
   "source": [
    "nba"
   ]
  },
  {
   "cell_type": "code",
   "execution_count": 184,
   "id": "061197a8",
   "metadata": {},
   "outputs": [],
   "source": [
    "def do_upper(name):\n",
    "    return name.upper()"
   ]
  },
  {
   "cell_type": "code",
   "execution_count": 185,
   "id": "50fbae2a",
   "metadata": {},
   "outputs": [
    {
     "data": {
      "text/plain": [
       "'ABHISHEK JHA'"
      ]
     },
     "execution_count": 185,
     "metadata": {},
     "output_type": "execute_result"
    }
   ],
   "source": [
    "do_upper('Abhishek Jha')"
   ]
  },
  {
   "cell_type": "code",
   "execution_count": 186,
   "id": "dc15f360",
   "metadata": {},
   "outputs": [
    {
     "data": {
      "text/plain": [
       "0      Avery Bradley\n",
       "1        Jae Crowder\n",
       "2       John Holland\n",
       "3        R.J. Hunter\n",
       "4      Jonas Jerebko\n",
       "           ...      \n",
       "453     Shelvin Mack\n",
       "454        Raul Neto\n",
       "455     Tibor Pleiss\n",
       "456      Jeff Withey\n",
       "457          Unknown\n",
       "Name: Name, Length: 458, dtype: object"
      ]
     },
     "execution_count": 186,
     "metadata": {},
     "output_type": "execute_result"
    }
   ],
   "source": [
    "nba"
   ]
  },
  {
   "cell_type": "code",
   "execution_count": 187,
   "id": "c7577fee",
   "metadata": {},
   "outputs": [
    {
     "data": {
      "text/plain": [
       "0      AVERY BRADLEY\n",
       "1        JAE CROWDER\n",
       "2       JOHN HOLLAND\n",
       "3        R.J. HUNTER\n",
       "4      JONAS JEREBKO\n",
       "           ...      \n",
       "453     SHELVIN MACK\n",
       "454        RAUL NETO\n",
       "455     TIBOR PLEISS\n",
       "456      JEFF WITHEY\n",
       "457          UNKNOWN\n",
       "Name: Name, Length: 458, dtype: object"
      ]
     },
     "execution_count": 187,
     "metadata": {},
     "output_type": "execute_result"
    }
   ],
   "source": [
    "nba.apply(do_upper)"
   ]
  },
  {
   "cell_type": "code",
   "execution_count": 188,
   "id": "2af69920",
   "metadata": {},
   "outputs": [],
   "source": [
    "# itne pr khatam "
   ]
  },
  {
   "cell_type": "markdown",
   "id": "0dd742ec",
   "metadata": {},
   "source": [
    "# dropna(), fillna(), head(), tail(), map(), sort_values(), sort_index()\n",
    "# value_counts(), copy()"
   ]
  },
  {
   "cell_type": "markdown",
   "id": "e73ec5f2",
   "metadata": {},
   "source": [
    "# View and copy"
   ]
  },
  {
   "cell_type": "code",
   "execution_count": 195,
   "id": "3a0f507d",
   "metadata": {},
   "outputs": [
    {
     "data": {
      "text/plain": [
       "a    1\n",
       "b    2\n",
       "c    3\n",
       "d    4\n",
       "e    5\n",
       "dtype: int64"
      ]
     },
     "execution_count": 195,
     "metadata": {},
     "output_type": "execute_result"
    }
   ],
   "source": [
    "ser"
   ]
  },
  {
   "cell_type": "code",
   "execution_count": null,
   "id": "1e12db39",
   "metadata": {},
   "outputs": [],
   "source": []
  }
 ],
 "metadata": {
  "kernelspec": {
   "display_name": "Python 3 (ipykernel)",
   "language": "python",
   "name": "python3"
  },
  "language_info": {
   "codemirror_mode": {
    "name": "ipython",
    "version": 3
   },
   "file_extension": ".py",
   "mimetype": "text/x-python",
   "name": "python",
   "nbconvert_exporter": "python",
   "pygments_lexer": "ipython3",
   "version": "3.11.4"
  }
 },
 "nbformat": 4,
 "nbformat_minor": 5
}
